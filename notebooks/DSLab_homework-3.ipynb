{
 "cells": [
  {
   "cell_type": "markdown",
   "metadata": {},
   "source": [
    "# Homework 3 - Uncovering World Events using Twitter Hashtags\n",
    "\n",
    "## ... and learning about Spark `DataFrames` along the way\n",
    "\n",
    "In this notebook, we will use temporal information about Twitter hashtags to discover trending topics and potentially uncover world events as they occurred. \n",
    "\n",
    "__Hand-in:__\n",
    "\n",
    "- __Due: 28.04.2020 23:59:59 CET__\n",
    "- `git push` your final verion to your group's Renku repository before the due\n",
    "- check if `Dockerfile`, `environment.yml` and `requirements.txt` are properly written\n",
    "- add necessary comments and discussion to make your codes readable"
   ]
  },
  {
   "cell_type": "markdown",
   "metadata": {},
   "source": [
    "### Hashtags\n",
    "\n",
    "The idea here is that when an event is happening and people are having a conversation about it on Twitter, a set of uniform hashtags that represent the event spontaneously evolves. Twitter users then use those hashtags to communicate with one another. Some hashtags, like `#RT` for \"retweet\" or just `#retweet` are used frequently and don't tell us much about what is going on. But a sudden appearance of a hashtag like `#oscars` probably indicates that the oscars are underway. For a particularly cool example of this type of analysis, check out [this blog post about earthquake detection using Twitter data](https://blog.twitter.com/official/en_us/a/2015/usgs-twitter-data-earthquake-detection.html) (although they search the text and not necessarily hashtags)."
   ]
  },
  {
   "cell_type": "code",
   "execution_count": 1,
   "metadata": {
    "scrolled": true
   },
   "outputs": [],
   "source": [
    "%%local\n",
    "%matplotlib inline\n",
    "import matplotlib.pylab as plt\n",
    "plt.rcParams['figure.figsize'] = (10,6)\n",
    "plt.rcParams['font.size'] = 18\n",
    "plt.style.use('fivethirtyeight')"
   ]
  },
  {
   "cell_type": "markdown",
   "metadata": {},
   "source": [
    "## Initialize the `SparkSession`"
   ]
  },
  {
   "cell_type": "code",
   "execution_count": 2,
   "metadata": {},
   "outputs": [
    {
     "name": "stdout",
     "output_type": "stream",
     "text": [
      "Starting Spark application\n"
     ]
    },
    {
     "data": {
      "text/html": [
       "<table>\n",
       "<tr><th>ID</th><th>YARN Application ID</th><th>Kind</th><th>State</th><th>Spark UI</th><th>Driver log</th><th>Current session?</th></tr><tr><td>3590</td><td>application_1587988164357_0206</td><td>pyspark</td><td>idle</td><td><a target=\"_blank\" href=\"http://iccluster044.iccluster.epfl.ch:8088/proxy/application_1587988164357_0206/\">Link</a></td><td><a target=\"_blank\" href=\"http://iccluster067.iccluster.epfl.ch:8042/node/containerlogs/container_e05_1587988164357_0206_01_000001/ebouille\">Link</a></td><td>✔</td></tr></table>"
      ],
      "text/plain": [
       "<IPython.core.display.HTML object>"
      ]
     },
     "metadata": {},
     "output_type": "display_data"
    },
    {
     "data": {
      "application/vnd.jupyter.widget-view+json": {
       "model_id": "",
       "version_major": 2,
       "version_minor": 0
      },
      "text/plain": [
       "FloatProgress(value=0.0, bar_style='info', description='Progress:', layout=Layout(height='25px', width='50%'),…"
      ]
     },
     "metadata": {},
     "output_type": "display_data"
    },
    {
     "name": "stdout",
     "output_type": "stream",
     "text": [
      "SparkSession available as 'spark'.\n"
     ]
    },
    {
     "data": {
      "application/vnd.jupyter.widget-view+json": {
       "model_id": "",
       "version_major": 2,
       "version_minor": 0
      },
      "text/plain": [
       "FloatProgress(value=0.0, bar_style='info', description='Progress:', layout=Layout(height='25px', width='50%'),…"
      ]
     },
     "metadata": {},
     "output_type": "display_data"
    },
    {
     "name": "stdout",
     "output_type": "stream",
     "text": [
      "<pyspark.sql.session.SparkSession object at 0x7febe9c1b110>"
     ]
    }
   ],
   "source": [
    "spark"
   ]
  },
  {
   "cell_type": "code",
   "execution_count": 3,
   "metadata": {},
   "outputs": [
    {
     "data": {
      "text/html": [
       "Current session configs: <tt>{'driverMemory': '1000M', 'executorMemory': '4G', 'executorCores': 4, 'numExecutors': 10, 'kind': 'pyspark'}</tt><br>"
      ],
      "text/plain": [
       "<IPython.core.display.HTML object>"
      ]
     },
     "metadata": {},
     "output_type": "display_data"
    },
    {
     "data": {
      "text/html": [
       "<table>\n",
       "<tr><th>ID</th><th>YARN Application ID</th><th>Kind</th><th>State</th><th>Spark UI</th><th>Driver log</th><th>Current session?</th></tr><tr><td>3511</td><td>application_1587988164357_0127</td><td>pyspark</td><td>idle</td><td><a target=\"_blank\" href=\"http://iccluster044.iccluster.epfl.ch:8088/proxy/application_1587988164357_0127/\">Link</a></td><td><a target=\"_blank\" href=\"http://iccluster070.iccluster.epfl.ch:8042/node/containerlogs/container_e05_1587988164357_0127_01_000001/ebouille\">Link</a></td><td></td></tr><tr><td>3519</td><td>application_1587988164357_0135</td><td>pyspark</td><td>busy</td><td><a target=\"_blank\" href=\"http://iccluster044.iccluster.epfl.ch:8088/proxy/application_1587988164357_0135/\">Link</a></td><td><a target=\"_blank\" href=\"http://iccluster072.iccluster.epfl.ch:8042/node/containerlogs/container_e05_1587988164357_0135_01_000001/ebouille\">Link</a></td><td></td></tr><tr><td>3524</td><td>application_1587988164357_0140</td><td>pyspark</td><td>idle</td><td><a target=\"_blank\" href=\"http://iccluster044.iccluster.epfl.ch:8088/proxy/application_1587988164357_0140/\">Link</a></td><td><a target=\"_blank\" href=\"http://iccluster072.iccluster.epfl.ch:8042/node/containerlogs/container_e05_1587988164357_0140_01_000001/ebouille\">Link</a></td><td></td></tr><tr><td>3526</td><td>application_1587988164357_0142</td><td>pyspark</td><td>idle</td><td><a target=\"_blank\" href=\"http://iccluster044.iccluster.epfl.ch:8088/proxy/application_1587988164357_0142/\">Link</a></td><td><a target=\"_blank\" href=\"http://iccluster071.iccluster.epfl.ch:8042/node/containerlogs/container_e05_1587988164357_0142_01_000001/ebouille\">Link</a></td><td></td></tr><tr><td>3530</td><td>application_1587988164357_0146</td><td>pyspark</td><td>idle</td><td><a target=\"_blank\" href=\"http://iccluster044.iccluster.epfl.ch:8088/proxy/application_1587988164357_0146/\">Link</a></td><td><a target=\"_blank\" href=\"http://iccluster072.iccluster.epfl.ch:8042/node/containerlogs/container_e05_1587988164357_0146_01_000001/ebouille\">Link</a></td><td></td></tr><tr><td>3535</td><td>application_1587988164357_0151</td><td>pyspark</td><td>idle</td><td><a target=\"_blank\" href=\"http://iccluster044.iccluster.epfl.ch:8088/proxy/application_1587988164357_0151/\">Link</a></td><td><a target=\"_blank\" href=\"http://iccluster069.iccluster.epfl.ch:8042/node/containerlogs/container_e05_1587988164357_0151_01_000001/ebouille\">Link</a></td><td></td></tr><tr><td>3536</td><td>application_1587988164357_0152</td><td>pyspark</td><td>idle</td><td><a target=\"_blank\" href=\"http://iccluster044.iccluster.epfl.ch:8088/proxy/application_1587988164357_0152/\">Link</a></td><td><a target=\"_blank\" href=\"http://iccluster065.iccluster.epfl.ch:8042/node/containerlogs/container_e05_1587988164357_0152_01_000001/ebouille\">Link</a></td><td></td></tr><tr><td>3541</td><td>application_1587988164357_0157</td><td>pyspark</td><td>busy</td><td><a target=\"_blank\" href=\"http://iccluster044.iccluster.epfl.ch:8088/proxy/application_1587988164357_0157/\">Link</a></td><td><a target=\"_blank\" href=\"http://iccluster072.iccluster.epfl.ch:8042/node/containerlogs/container_e05_1587988164357_0157_01_000001/ebouille\">Link</a></td><td></td></tr><tr><td>3542</td><td>application_1587988164357_0158</td><td>pyspark</td><td>idle</td><td><a target=\"_blank\" href=\"http://iccluster044.iccluster.epfl.ch:8088/proxy/application_1587988164357_0158/\">Link</a></td><td><a target=\"_blank\" href=\"http://iccluster067.iccluster.epfl.ch:8042/node/containerlogs/container_e05_1587988164357_0158_01_000001/ebouille\">Link</a></td><td></td></tr><tr><td>3543</td><td>application_1587988164357_0159</td><td>pyspark</td><td>idle</td><td><a target=\"_blank\" href=\"http://iccluster044.iccluster.epfl.ch:8088/proxy/application_1587988164357_0159/\">Link</a></td><td><a target=\"_blank\" href=\"http://iccluster069.iccluster.epfl.ch:8042/node/containerlogs/container_e05_1587988164357_0159_01_000001/ebouille\">Link</a></td><td></td></tr><tr><td>3545</td><td>application_1587988164357_0161</td><td>pyspark</td><td>idle</td><td><a target=\"_blank\" href=\"http://iccluster044.iccluster.epfl.ch:8088/proxy/application_1587988164357_0161/\">Link</a></td><td><a target=\"_blank\" href=\"http://iccluster065.iccluster.epfl.ch:8042/node/containerlogs/container_e05_1587988164357_0161_01_000001/ebouille\">Link</a></td><td></td></tr><tr><td>3546</td><td>application_1587988164357_0162</td><td>pyspark</td><td>idle</td><td><a target=\"_blank\" href=\"http://iccluster044.iccluster.epfl.ch:8088/proxy/application_1587988164357_0162/\">Link</a></td><td><a target=\"_blank\" href=\"http://iccluster071.iccluster.epfl.ch:8042/node/containerlogs/container_e05_1587988164357_0162_01_000001/ebouille\">Link</a></td><td></td></tr><tr><td>3547</td><td>application_1587988164357_0163</td><td>pyspark</td><td>idle</td><td><a target=\"_blank\" href=\"http://iccluster044.iccluster.epfl.ch:8088/proxy/application_1587988164357_0163/\">Link</a></td><td><a target=\"_blank\" href=\"http://iccluster068.iccluster.epfl.ch:8042/node/containerlogs/container_e05_1587988164357_0163_01_000001/ebouille\">Link</a></td><td></td></tr><tr><td>3548</td><td>application_1587988164357_0164</td><td>pyspark</td><td>idle</td><td><a target=\"_blank\" href=\"http://iccluster044.iccluster.epfl.ch:8088/proxy/application_1587988164357_0164/\">Link</a></td><td><a target=\"_blank\" href=\"http://iccluster072.iccluster.epfl.ch:8042/node/containerlogs/container_e05_1587988164357_0164_01_000001/ebouille\">Link</a></td><td></td></tr><tr><td>3549</td><td>application_1587988164357_0165</td><td>pyspark</td><td>idle</td><td><a target=\"_blank\" href=\"http://iccluster044.iccluster.epfl.ch:8088/proxy/application_1587988164357_0165/\">Link</a></td><td><a target=\"_blank\" href=\"http://iccluster072.iccluster.epfl.ch:8042/node/containerlogs/container_e05_1587988164357_0165_01_000001/ebouille\">Link</a></td><td></td></tr><tr><td>3550</td><td>application_1587988164357_0166</td><td>pyspark</td><td>idle</td><td><a target=\"_blank\" href=\"http://iccluster044.iccluster.epfl.ch:8088/proxy/application_1587988164357_0166/\">Link</a></td><td><a target=\"_blank\" href=\"http://iccluster068.iccluster.epfl.ch:8042/node/containerlogs/container_e05_1587988164357_0166_01_000001/ebouille\">Link</a></td><td></td></tr><tr><td>3552</td><td>application_1587988164357_0168</td><td>pyspark</td><td>idle</td><td><a target=\"_blank\" href=\"http://iccluster044.iccluster.epfl.ch:8088/proxy/application_1587988164357_0168/\">Link</a></td><td><a target=\"_blank\" href=\"http://iccluster066.iccluster.epfl.ch:8042/node/containerlogs/container_e05_1587988164357_0168_01_000001/ebouille\">Link</a></td><td></td></tr><tr><td>3553</td><td>application_1587988164357_0169</td><td>pyspark</td><td>idle</td><td><a target=\"_blank\" href=\"http://iccluster044.iccluster.epfl.ch:8088/proxy/application_1587988164357_0169/\">Link</a></td><td><a target=\"_blank\" href=\"http://iccluster065.iccluster.epfl.ch:8042/node/containerlogs/container_e05_1587988164357_0169_01_000001/ebouille\">Link</a></td><td></td></tr><tr><td>3554</td><td>application_1587988164357_0170</td><td>pyspark</td><td>busy</td><td><a target=\"_blank\" href=\"http://iccluster044.iccluster.epfl.ch:8088/proxy/application_1587988164357_0170/\">Link</a></td><td><a target=\"_blank\" href=\"http://iccluster070.iccluster.epfl.ch:8042/node/containerlogs/container_e05_1587988164357_0170_01_000001/ebouille\">Link</a></td><td></td></tr><tr><td>3555</td><td>application_1587988164357_0171</td><td>pyspark</td><td>idle</td><td><a target=\"_blank\" href=\"http://iccluster044.iccluster.epfl.ch:8088/proxy/application_1587988164357_0171/\">Link</a></td><td><a target=\"_blank\" href=\"http://iccluster065.iccluster.epfl.ch:8042/node/containerlogs/container_e05_1587988164357_0171_01_000002/ebouille\">Link</a></td><td></td></tr><tr><td>3556</td><td>application_1587988164357_0172</td><td>pyspark</td><td>idle</td><td><a target=\"_blank\" href=\"http://iccluster044.iccluster.epfl.ch:8088/proxy/application_1587988164357_0172/\">Link</a></td><td><a target=\"_blank\" href=\"http://iccluster071.iccluster.epfl.ch:8042/node/containerlogs/container_e05_1587988164357_0172_01_000001/ebouille\">Link</a></td><td></td></tr><tr><td>3573</td><td>application_1587988164357_0189</td><td>pyspark</td><td>dead</td><td><a target=\"_blank\" href=\"http://iccluster044.iccluster.epfl.ch:8088/cluster/app/application_1587988164357_0189\">Link</a></td><td></td><td></td></tr><tr><td>3583</td><td>application_1587988164357_0199</td><td>pyspark</td><td>dead</td><td><a target=\"_blank\" href=\"http://iccluster044.iccluster.epfl.ch:8088/cluster/app/application_1587988164357_0199\">Link</a></td><td></td><td></td></tr><tr><td>3585</td><td>application_1587988164357_0201</td><td>pyspark</td><td>idle</td><td><a target=\"_blank\" href=\"http://iccluster044.iccluster.epfl.ch:8088/proxy/application_1587988164357_0201/\">Link</a></td><td><a target=\"_blank\" href=\"http://iccluster068.iccluster.epfl.ch:8042/node/containerlogs/container_e05_1587988164357_0201_01_000001/ebouille\">Link</a></td><td></td></tr><tr><td>3590</td><td>application_1587988164357_0206</td><td>pyspark</td><td>idle</td><td><a target=\"_blank\" href=\"http://iccluster044.iccluster.epfl.ch:8088/proxy/application_1587988164357_0206/\">Link</a></td><td><a target=\"_blank\" href=\"http://iccluster067.iccluster.epfl.ch:8042/node/containerlogs/container_e05_1587988164357_0206_01_000001/ebouille\">Link</a></td><td>✔</td></tr><tr><td>3591</td><td>application_1587988164357_0207</td><td>pyspark</td><td>starting</td><td><a target=\"_blank\" href=\"http://iccluster044.iccluster.epfl.ch:8088/proxy/application_1587988164357_0207/\">Link</a></td><td><a target=\"_blank\" href=\"http://iccluster067.iccluster.epfl.ch:8042/node/containerlogs/container_e05_1587988164357_0207_01_000001/ebouille\">Link</a></td><td></td></tr><tr><td>3592</td><td>application_1587988164357_0208</td><td>pyspark</td><td>starting</td><td></td><td></td><td></td></tr></table>"
      ],
      "text/plain": [
       "<IPython.core.display.HTML object>"
      ]
     },
     "metadata": {},
     "output_type": "display_data"
    }
   ],
   "source": [
    "%%info"
   ]
  },
  {
   "cell_type": "code",
   "execution_count": 4,
   "metadata": {},
   "outputs": [
    {
     "data": {
      "text/html": [
       "\n",
       "<table>\n",
       "  <tr>\n",
       "    <th>Magic</th>\n",
       "    <th>Example</th>\n",
       "    <th>Explanation</th>\n",
       "  </tr>\n",
       "  <tr>\n",
       "    <td>info</td>\n",
       "    <td>%%info</td>\n",
       "    <td>Outputs session information for the current Livy endpoint.</td>\n",
       "  </tr>\n",
       "  <tr>\n",
       "    <td>cleanup</td>\n",
       "    <td>%%cleanup -f</td>\n",
       "    <td>Deletes all sessions for the current Livy endpoint, including this notebook's session. The force flag is mandatory.</td>\n",
       "  </tr>\n",
       "  <tr>\n",
       "    <td>delete</td>\n",
       "    <td>%%delete -f -s 0</td>\n",
       "    <td>Deletes a session by number for the current Livy endpoint. Cannot delete this kernel's session.</td>\n",
       "  </tr>\n",
       "  <tr>\n",
       "    <td>logs</td>\n",
       "    <td>%%logs</td>\n",
       "    <td>Outputs the current session's Livy logs.</td>\n",
       "  </tr>\n",
       "  <tr>\n",
       "    <td>configure</td>\n",
       "    <td>%%configure -f<br/>{\"executorMemory\": \"1000M\", \"executorCores\": 4}</td>\n",
       "    <td>Configure the session creation parameters. The force flag is mandatory if a session has already been\n",
       "    created and the session will be dropped and recreated.<br/>Look at <a href=\"https://github.com/cloudera/livy#request-body\">\n",
       "    Livy's POST /sessions Request Body</a> for a list of valid parameters. Parameters must be passed in as a JSON string.</td>\n",
       "  </tr>\n",
       "  <tr>\n",
       "    <td>spark</td>\n",
       "    <td>%%spark -o df<br/>df = spark.read.parquet('...</td>\n",
       "    <td>Executes spark commands.\n",
       "    Parameters:\n",
       "      <ul>\n",
       "        <li>-o VAR_NAME: The Spark dataframe of name VAR_NAME will be available in the %%local Python context as a\n",
       "          <a href=\"http://pandas.pydata.org/\">Pandas</a> dataframe with the same name.</li>\n",
       "        <li>-m METHOD: Sample method, either <tt>take</tt> or <tt>sample</tt>.</li>\n",
       "        <li>-n MAXROWS: The maximum number of rows of a dataframe that will be pulled from Livy to Jupyter.\n",
       "            If this number is negative, then the number of rows will be unlimited.</li>\n",
       "        <li>-r FRACTION: Fraction used for sampling.</li>\n",
       "      </ul>\n",
       "    </td>\n",
       "  </tr>\n",
       "  <tr>\n",
       "    <td>sql</td>\n",
       "    <td>%%sql -o tables -q<br/>SHOW TABLES</td>\n",
       "    <td>Executes a SQL query against the variable sqlContext (Spark v1.x) or spark (Spark v2.x).\n",
       "    Parameters:\n",
       "      <ul>\n",
       "        <li>-o VAR_NAME: The result of the SQL query will be available in the %%local Python context as a\n",
       "          <a href=\"http://pandas.pydata.org/\">Pandas</a> dataframe.</li>\n",
       "        <li>-q: The magic will return None instead of the dataframe (no visualization).</li>\n",
       "        <li>-m, -n, -r are the same as the %%spark parameters above.</li>\n",
       "      </ul>\n",
       "    </td>\n",
       "  </tr>\n",
       "  <tr>\n",
       "    <td>local</td>\n",
       "    <td>%%local<br/>a = 1</td>\n",
       "    <td>All the code in subsequent lines will be executed locally. Code must be valid Python code.</td>\n",
       "  </tr>\n",
       "  <tr>\n",
       "    <td>send_to_spark</td>\n",
       "    <td>%%send_to_spark -o variable -t str -n var</td>\n",
       "    <td>Sends a variable from local output to spark cluster.\n",
       "    <br/>\n",
       "    Parameters:\n",
       "      <ul>\n",
       "        <li>-i VAR_NAME: Local Pandas DataFrame(or String) of name VAR_NAME will be available in the %%spark context as a \n",
       "          Spark dataframe(or String) with the same name.</li>\n",
       "        <li>-t TYPE: Specifies the type of variable passed as -i. Available options are:\n",
       "         `str` for string and `df` for Pandas DataFrame. Optional, defaults to `str`.</li>\n",
       "        <li>-n NAME: Custom name of variable passed as -i. Optional, defaults to -i variable name.</li>\n",
       "        <li>-m MAXROWS: Maximum amount of Pandas rows that will be sent to Spark. Defaults to 2500.</li>\n",
       "      </ul>\n",
       "    </td>\n",
       "  </tr>\n",
       "</table>\n"
      ],
      "text/plain": [
       "<IPython.core.display.HTML object>"
      ]
     },
     "metadata": {},
     "output_type": "display_data"
    }
   ],
   "source": [
    "%%help"
   ]
  },
  {
   "cell_type": "markdown",
   "metadata": {},
   "source": [
    "## PART I: Set up the hashtag `DataFrame` (10 points / 60)\n",
    "\n",
    "We have prepared the hashtag data spanning the time from May to July, 2016. This is a significant time in modern European history, e.g. see [Brexit](https://en.wikipedia.org/wiki/Brexit). Lets see if we can see any interesting trends about these events in the Twitter data. "
   ]
  },
  {
   "cell_type": "code",
   "execution_count": 5,
   "metadata": {
    "scrolled": true
   },
   "outputs": [
    {
     "data": {
      "application/vnd.jupyter.widget-view+json": {
       "model_id": "",
       "version_major": 2,
       "version_minor": 0
      },
      "text/plain": [
       "FloatProgress(value=0.0, bar_style='info', description='Progress:', layout=Layout(height='25px', width='50%'),…"
      ]
     },
     "metadata": {},
     "output_type": "display_data"
    }
   ],
   "source": [
    "import pyspark.sql.functions as functions"
   ]
  },
  {
   "cell_type": "markdown",
   "metadata": {},
   "source": [
    "### I.a: TODO (1 point/10)\n",
    "\n",
    "Load the **parquet** data from `/data/twitter/parquet/hashtags` into a Spark dataframe using the appropriate `SparkSession` method. \n",
    "\n",
    "Look at the first few rows of the dataset - note the timestamp and its units!"
   ]
  },
  {
   "cell_type": "code",
   "execution_count": 7,
   "metadata": {
    "scrolled": true
   },
   "outputs": [
    {
     "name": "stderr",
     "output_type": "stream",
     "text": [
      "The code failed because of a fatal error:\n",
      "\tSession 3588 did not start up in 60 seconds..\n",
      "\n",
      "Some things to try:\n",
      "a) Make sure Spark has enough available resources for Jupyter to create a Spark context.\n",
      "b) Contact your Jupyter administrator to make sure the Spark magics library is configured correctly.\n",
      "c) Restart the kernel.\n"
     ]
    }
   ],
   "source": [
    "# TODO\n",
    "df = spark.read.parquet(\"/data/twitter/parquet/hashtags\")"
   ]
  },
  {
   "cell_type": "code",
   "execution_count": 8,
   "metadata": {},
   "outputs": [
    {
     "name": "stderr",
     "output_type": "stream",
     "text": [
      "The code failed because of a fatal error:\n",
      "\tSession 3588 did not start up in 60 seconds..\n",
      "\n",
      "Some things to try:\n",
      "a) Make sure Spark has enough available resources for Jupyter to create a Spark context.\n",
      "b) Contact your Jupyter administrator to make sure the Spark magics library is configured correctly.\n",
      "c) Restart the kernel.\n"
     ]
    }
   ],
   "source": [
    "df.printSchema()"
   ]
  },
  {
   "cell_type": "code",
   "execution_count": 9,
   "metadata": {
    "scrolled": true
   },
   "outputs": [
    {
     "name": "stderr",
     "output_type": "stream",
     "text": [
      "The code failed because of a fatal error:\n",
      "\tSession 3588 did not start up in 60 seconds..\n",
      "\n",
      "Some things to try:\n",
      "a) Make sure Spark has enough available resources for Jupyter to create a Spark context.\n",
      "b) Contact your Jupyter administrator to make sure the Spark magics library is configured correctly.\n",
      "c) Restart the kernel.\n"
     ]
    }
   ],
   "source": [
    "df.show()"
   ]
  },
  {
   "cell_type": "markdown",
   "metadata": {},
   "source": [
    "### User-defined functions\n",
    "\n",
    "A neat trick of spark dataframes is that you can essentially use something very much like an RDD `map` method but without switching to the RDD. If you are familiar with database languages, this works very much like e.g. a user-defined function in SQL. \n",
    "\n",
    "So, for example, if we wanted to make a user-defined python function that returns the hashtags in lowercase, we could do something like this:"
   ]
  },
  {
   "cell_type": "code",
   "execution_count": 10,
   "metadata": {
    "scrolled": true
   },
   "outputs": [
    {
     "name": "stderr",
     "output_type": "stream",
     "text": [
      "The code failed because of a fatal error:\n",
      "\tSession 3588 did not start up in 60 seconds..\n",
      "\n",
      "Some things to try:\n",
      "a) Make sure Spark has enough available resources for Jupyter to create a Spark context.\n",
      "b) Contact your Jupyter administrator to make sure the Spark magics library is configured correctly.\n",
      "c) Restart the kernel.\n"
     ]
    }
   ],
   "source": [
    "@functions.udf\n",
    "def lowercase(text):\n",
    "    \"\"\"Convert text to lowercase\"\"\"\n",
    "    return text.lower()"
   ]
  },
  {
   "cell_type": "markdown",
   "metadata": {},
   "source": [
    "The @functions.udf is a \"decorator\" -- this is really handy python syntactic sugar and in this case is equivalent to:\n",
    "\n",
    "```python\n",
    "def lowercase(text):\n",
    "    return text.lower()\n",
    "    \n",
    "lowercase = functions.udf(lowercase)\n",
    "```\n",
    "\n",
    "It basically takes our function and adds to its functionality. In this case, it registers our function as a pyspark dataframe user-defined function (UDF).\n",
    "\n",
    "Using these UDFs is very straightforward and analogous to other Spark dataframe operations. For example:"
   ]
  },
  {
   "cell_type": "code",
   "execution_count": 11,
   "metadata": {
    "scrolled": true
   },
   "outputs": [
    {
     "name": "stderr",
     "output_type": "stream",
     "text": [
      "The code failed because of a fatal error:\n",
      "\tSession 3588 did not start up in 60 seconds..\n",
      "\n",
      "Some things to try:\n",
      "a) Make sure Spark has enough available resources for Jupyter to create a Spark context.\n",
      "b) Contact your Jupyter administrator to make sure the Spark magics library is configured correctly.\n",
      "c) Restart the kernel.\n"
     ]
    }
   ],
   "source": [
    "df.select(lowercase(df.hashtag)).show()"
   ]
  },
  {
   "cell_type": "markdown",
   "metadata": {},
   "source": [
    "Using a framework like Spark is all about understanding the ins and outs of how it functions and knowing what it offers. One of the cool things about the dataframe API is that many functions are already defined for you (turning strings into lowercase being one of them). \n",
    "\n",
    "### I.b: TODO (2 points / 10)\n",
    "\n",
    "Find the [Spark python API documentation](https://spark.apache.org/docs/latest/api/python/index.html). Look for the `sql` section and find the listing of `sql.functions`. Repeat the above (turning hashtags into lowercase) but use the built-in function."
   ]
  },
  {
   "cell_type": "code",
   "execution_count": 12,
   "metadata": {
    "scrolled": true
   },
   "outputs": [
    {
     "name": "stderr",
     "output_type": "stream",
     "text": [
      "The code failed because of a fatal error:\n",
      "\tSession 3588 did not start up in 60 seconds..\n",
      "\n",
      "Some things to try:\n",
      "a) Make sure Spark has enough available resources for Jupyter to create a Spark context.\n",
      "b) Contact your Jupyter administrator to make sure the Spark magics library is configured correctly.\n",
      "c) Restart the kernel.\n"
     ]
    }
   ],
   "source": [
    "df.select(functions.lower(df.hashtag)).show()"
   ]
  },
  {
   "cell_type": "markdown",
   "metadata": {},
   "source": [
    "We'll work with a combination of these built-in functions and user-defined functions for the remainder of this homework. \n",
    "\n",
    "### I.c: TODO (3 points/10)\n",
    "\n",
    "Create `english_df` consisting of **lowercase** hashtags from only english-language tweets. In addition, convert the timestamp to a more readable format like this and name the column `date`:\n",
    "\n",
    "```\n",
    "2016-05-01 08:30:00\n",
    "```"
   ]
  },
  {
   "cell_type": "markdown",
   "metadata": {},
   "source": [
    "Your `english_df` should look something like this:\n",
    "\n",
    "```\n",
    "+-----------+----+------------+-------------------+\n",
    "|timestamp_s|lang|     hashtag|               date|\n",
    "+-----------+----+------------+-------------------+\n",
    "| 1464768480|  en|     sotobot|2016-06-01 10:08:00|\n",
    "| 1464768480|  en|      fenton|2016-06-01 10:08:00|\n",
    "| 1464768480|  en|vintageglass|2016-06-01 10:08:00|\n",
    "| 1464768480|  en|   glassbell|2016-06-01 10:08:00|\n",
    "| 1464768480|  en|     vintage|2016-06-01 10:08:00|\n",
    "+-----------+----+------------+-------------------+\n",
    "```"
   ]
  },
  {
   "cell_type": "code",
   "execution_count": 13,
   "metadata": {
    "scrolled": true
   },
   "outputs": [
    {
     "name": "stderr",
     "output_type": "stream",
     "text": [
      "The code failed because of a fatal error:\n",
      "\tSession 3588 did not start up in 60 seconds..\n",
      "\n",
      "Some things to try:\n",
      "a) Make sure Spark has enough available resources for Jupyter to create a Spark context.\n",
      "b) Contact your Jupyter administrator to make sure the Spark magics library is configured correctly.\n",
      "c) Restart the kernel.\n"
     ]
    }
   ],
   "source": [
    "english_df = df.select(df.timestamp_s, df.lang, functions.lower(df.hashtag).alias('hashtag'), \n",
    "                       functions.to_timestamp(df.timestamp_s).alias('date')).where(df.lang == 'en')\n",
    "english_df.show()"
   ]
  },
  {
   "cell_type": "markdown",
   "metadata": {},
   "source": [
    "### I.d: TODO (4 points/10)\n",
    "\n",
    "We \"claim\" the data contains all twitters from May to July 2017, however, that's not true. Check which (date, hour) are in `english_df` and which are missing, e.g. 2016-05-01, 10h is in the dataframe while 2016-04-01, 10h not."
   ]
  },
  {
   "cell_type": "markdown",
   "metadata": {},
   "source": [
    "The (date, hour) tuples that are present in the dataset:"
   ]
  },
  {
   "cell_type": "code",
   "execution_count": 14,
   "metadata": {},
   "outputs": [
    {
     "name": "stderr",
     "output_type": "stream",
     "text": [
      "The code failed because of a fatal error:\n",
      "\tSession 3588 did not start up in 60 seconds..\n",
      "\n",
      "Some things to try:\n",
      "a) Make sure Spark has enough available resources for Jupyter to create a Spark context.\n",
      "b) Contact your Jupyter administrator to make sure the Spark magics library is configured correctly.\n",
      "c) Restart the kernel.\n"
     ]
    }
   ],
   "source": [
    "# lit: takes the argument literally. E.g. for concatenating strings\n",
    "# Ordering of hours is as follows: 0, 1, 10, 11, ..., 19, 2, 20, 21, 22, 23, 3, 4, 5, ..., 9 (which makes perfect sense)\n",
    "# I guess there is a typo - the year has to be 2016 instead of 2017. I couldn't find any results for the year 2017.\n",
    "tmp = \\\n",
    "english_df.select(english_df.date, functions.concat(functions.to_date(english_df.date), \n",
    "                                   functions.lit(', '), \n",
    "                                   functions.hour(english_df.date)).alias('(date, hour)')) \\\n",
    "    .where(english_df.date.between('2016-05-01', '2016-07-31')).drop('date').distinct().orderBy('(date, hour)')\n",
    "tmp.show(50)"
   ]
  },
  {
   "cell_type": "code",
   "execution_count": 15,
   "metadata": {},
   "outputs": [
    {
     "name": "stderr",
     "output_type": "stream",
     "text": [
      "The code failed because of a fatal error:\n",
      "\tSession 3588 did not start up in 60 seconds..\n",
      "\n",
      "Some things to try:\n",
      "a) Make sure Spark has enough available resources for Jupyter to create a Spark context.\n",
      "b) Contact your Jupyter administrator to make sure the Spark magics library is configured correctly.\n",
      "c) Restart the kernel.\n"
     ]
    }
   ],
   "source": [
    "import pandas as pd\n",
    "import numpy as np\n",
    "tweetdates = tmp.toPandas()"
   ]
  },
  {
   "cell_type": "code",
   "execution_count": 16,
   "metadata": {},
   "outputs": [
    {
     "name": "stderr",
     "output_type": "stream",
     "text": [
      "The code failed because of a fatal error:\n",
      "\tSession 3588 did not start up in 60 seconds..\n",
      "\n",
      "Some things to try:\n",
      "a) Make sure Spark has enough available resources for Jupyter to create a Spark context.\n",
      "b) Contact your Jupyter administrator to make sure the Spark magics library is configured correctly.\n",
      "c) Restart the kernel.\n"
     ]
    }
   ],
   "source": [
    "dic = {}\n",
    "datehour = '(date, hour)'\n",
    "arr = []\n",
    "datetimerange = pd.date_range(start='2016-05-01', end='2016-07-31').date\n",
    "for i in datetimerange:\n",
    "    for hour in range(24):\n",
    "        arr.append(str(i) + ', ' + str(hour))\n",
    "dic[datehour] = arr\n",
    "containsall = pd.DataFrame(dic)"
   ]
  },
  {
   "cell_type": "code",
   "execution_count": 17,
   "metadata": {},
   "outputs": [
    {
     "name": "stderr",
     "output_type": "stream",
     "text": [
      "The code failed because of a fatal error:\n",
      "\tSession 3588 did not start up in 60 seconds..\n",
      "\n",
      "Some things to try:\n",
      "a) Make sure Spark has enough available resources for Jupyter to create a Spark context.\n",
      "b) Contact your Jupyter administrator to make sure the Spark magics library is configured correctly.\n",
      "c) Restart the kernel.\n"
     ]
    }
   ],
   "source": [
    "mydict = {}\n",
    "nonexistent = []\n",
    "for i in tweetdates.values[:,0]:\n",
    "    mydict[i] = True\n",
    "for i in containsall.values[:,0]:\n",
    "    if i in mydict:\n",
    "        pass\n",
    "    else:\n",
    "        nonexistent.append(i)\n",
    "        mydict[i] = True\n",
    "\n",
    "print('(day, hour) pairs that are not present in the dataset: \\n')\n",
    "for i in nonexistent:\n",
    "    print(i)"
   ]
  },
  {
   "cell_type": "markdown",
   "metadata": {},
   "source": [
    "## PART II: Twitter hashtag trends (50 points / 60)\n",
    "\n",
    "In this section we will try to do a slightly more complicated analysis of the tweets. Our goal is to get an idea of tweet frequency as a function of time for certain hashtags. \n",
    "\n",
    "Lets build this up in steps. First, lets see how we can start to organize the tweets by their timestamps. \n",
    "\n",
    "As a first easy example, lets say we just want to count the number of tweets per minute over the entire span of our data. For this, we first need a \"global\" minute value, e.g. \"minute of the year\" or something similar. \n",
    "\n",
    "Spark provides us with some handy built-in dataframe functions that are made for transforming date and time fields. \n",
    "\n",
    "Have a look [here](http://spark.apache.org/docs/latest/api/python/pyspark.sql.html#module-pyspark.sql.functions) to see the whole list of custom dataframe functions - you will need to use them to complete the next set of TODO items."
   ]
  },
  {
   "cell_type": "markdown",
   "metadata": {},
   "source": [
    "Note that the functions can be combined. Consider the following dataframe and its transformation:"
   ]
  },
  {
   "cell_type": "code",
   "execution_count": 18,
   "metadata": {
    "scrolled": true
   },
   "outputs": [
    {
     "name": "stderr",
     "output_type": "stream",
     "text": [
      "The code failed because of a fatal error:\n",
      "\tSession 3588 did not start up in 60 seconds..\n",
      "\n",
      "Some things to try:\n",
      "a) Make sure Spark has enough available resources for Jupyter to create a Spark context.\n",
      "b) Contact your Jupyter administrator to make sure the Spark magics library is configured correctly.\n",
      "c) Restart the kernel.\n"
     ]
    }
   ],
   "source": [
    "from pyspark.sql import Row\n",
    "\n",
    "# create a sample dataframe with one column \"degrees\" going from 0 to 180\n",
    "test_df = spark.createDataFrame(spark.sparkContext.range(180).map(lambda x: Row(degrees=x)), ['degrees'])\n",
    "\n",
    "# define a function \"sin_rad\" that first converts degrees to radians and then takes the sine using built-in functions\n",
    "sin_rad = functions.sin(functions.radians(test_df.degrees))\n",
    "\n",
    "# show the result\n",
    "test_df.select(sin_rad).show()"
   ]
  },
  {
   "cell_type": "markdown",
   "metadata": {},
   "source": [
    "### DataFrames `groupBy`\n",
    "\n",
    "We used `groupBy` already in the previous notebook, but here we will take more advantage of its features. \n",
    "\n",
    "One important thing to note is that unlike other RDD or DataFrame transformations, the `groupBy` does not return another DataFrame, but a `GroupedData` object instead, with its own methods. These methods allow you to do various transformations and aggregations on the data of the grouped rows. \n",
    "\n",
    "Conceptually the procedure is a lot like this:\n",
    "\n",
    "![groupby](https://i.stack.imgur.com/sgCn1.jpg)\n",
    "\n",
    "The column that is used for the `groupBy` is the `key` - once we have the values of a particular key all together, we can use various aggregation functions on them to generate a transformed dataset. In this example, the aggregation function is a simple `sum`. In the simple procedure below, the `key` will be the hashtag."
   ]
  },
  {
   "cell_type": "markdown",
   "metadata": {},
   "source": [
    "### II.a: TODO (1 point / 50)\n",
    "\n",
    "Calculate the top five most common hashtags in the whole english-language dataset.\n",
    "\n",
    "This should be your result:\n",
    "\n",
    "```\n",
    "+-------------+------+\n",
    "|      hashtag| count|\n",
    "+-------------+------+\n",
    "|   mtvhottest|800527|\n",
    "|veranomtv2016|539028|\n",
    "|   teenchoice|345208|\n",
    "|   nowplaying|178561|\n",
    "|  gameinsight|165237|\n",
    "+-------------+------+\n",
    "```"
   ]
  },
  {
   "cell_type": "code",
   "execution_count": 19,
   "metadata": {
    "scrolled": true
   },
   "outputs": [
    {
     "name": "stderr",
     "output_type": "stream",
     "text": [
      "The code failed because of a fatal error:\n",
      "\tSession 3588 did not start up in 60 seconds..\n",
      "\n",
      "Some things to try:\n",
      "a) Make sure Spark has enough available resources for Jupyter to create a Spark context.\n",
      "b) Contact your Jupyter administrator to make sure the Spark magics library is configured correctly.\n",
      "c) Restart the kernel.\n"
     ]
    }
   ],
   "source": [
    "english_df.groupBy('hashtag').count().orderBy('count', ascending=False).show(5)"
   ]
  },
  {
   "cell_type": "markdown",
   "metadata": {},
   "source": [
    "## Daily hashtag trends\n",
    "\n",
    "Now we will start to complicate the analysis a bit. Remember, our goal is to uncover trending topics on a timescale of a few days. A much needed column then is simply `day`. To convert the date string into day-of-year, you can use the built-in [dayofyear](http://spark.apache.org/docs/latest/api/python/pyspark.sql.html#pyspark.sql.functions.dayofyear) function. \n",
    "\n",
    "In the subsequent sections we will then not only see which hashtags are globally most popular, but which ones experience the biggest changes in popularity - those are the \"trending\" topics. If there is suddenly a substantial increase of a hashtag over a matter of a day or two, it may signify an event taking place. "
   ]
  },
  {
   "cell_type": "markdown",
   "metadata": {},
   "source": [
    "### II.b: TODO (2 points / 50)\n",
    "\n",
    "Create a dataframe called `daily_hashtag` that includes the columns `month`, `week`, `day` and `hashtag`. Use the `english_df` you made above to start, and make sure you find the appropriate spark dataframe functions to make your life easier. Show the result.\n",
    "\n",
    "Try to match this view:\n",
    "\n",
    "```\n",
    "+-----+----+---+------------+\n",
    "|month|week|day|     hashtag|\n",
    "+-----+----+---+------------+\n",
    "|    6|  22|153|     sotobot|\n",
    "|    6|  22|153|      fenton|\n",
    "|    6|  22|153|vintageglass|\n",
    "|    6|  22|153|   glassbell|\n",
    "|    6|  22|153|     vintage|\n",
    "+-----+----+---+------------+\n",
    "```"
   ]
  },
  {
   "cell_type": "code",
   "execution_count": 20,
   "metadata": {
    "scrolled": true
   },
   "outputs": [
    {
     "name": "stderr",
     "output_type": "stream",
     "text": [
      "The code failed because of a fatal error:\n",
      "\tSession 3588 did not start up in 60 seconds..\n",
      "\n",
      "Some things to try:\n",
      "a) Make sure Spark has enough available resources for Jupyter to create a Spark context.\n",
      "b) Contact your Jupyter administrator to make sure the Spark magics library is configured correctly.\n",
      "c) Restart the kernel.\n"
     ]
    }
   ],
   "source": [
    "daily_hashtag = english_df.select(functions.month(english_df.date).alias('month'),\n",
    "                                  functions.weekofyear(english_df.date).alias('week'),\n",
    "                                  functions.dayofyear(english_df.date).alias('day'),\n",
    "                                  english_df.hashtag)\n",
    "daily_hashtag.show(5)"
   ]
  },
  {
   "cell_type": "markdown",
   "metadata": {},
   "source": [
    "### II.c: TODO (2 points / 50)\n",
    "\n",
    "Now we want to calculate the number of times a hashtag is used per day. Sort in descending order of daily counts and show the result. Call the resulting dataframe `day_counts`.\n",
    "\n",
    "Your output should look like this:\n",
    "\n",
    "```\n",
    "+---+----------+----+-----+\n",
    "|day|   hashtag|week|count|\n",
    "+---+----------+----+-----+\n",
    "|204|mtvhottest|  29|66372|\n",
    "|205|mtvhottest|  29|63495|\n",
    "|207|mtvhottest|  30|60768|\n",
    "|208|mtvhottest|  30|59065|\n",
    "|199|mtvhottest|  28|57956|\n",
    "+---+----------+----+-----+\n",
    "```\n",
    "\n",
    "<div class=\"alert alert-info\">\n",
    "<p>Make sure you use `cache()` when you create `day_counts` because we will need it in the steps that follow!</p>\n",
    "</div>"
   ]
  },
  {
   "cell_type": "code",
   "execution_count": 21,
   "metadata": {},
   "outputs": [
    {
     "name": "stderr",
     "output_type": "stream",
     "text": [
      "The code failed because of a fatal error:\n",
      "\tSession 3588 did not start up in 60 seconds..\n",
      "\n",
      "Some things to try:\n",
      "a) Make sure Spark has enough available resources for Jupyter to create a Spark context.\n",
      "b) Contact your Jupyter administrator to make sure the Spark magics library is configured correctly.\n",
      "c) Restart the kernel.\n"
     ]
    }
   ],
   "source": [
    "day_counts = daily_hashtag.groupBy(['day', 'hashtag', 'week']).count().orderBy('count', ascending=True).cache()\n",
    "day_counts.show(5)"
   ]
  },
  {
   "cell_type": "markdown",
   "metadata": {},
   "source": [
    "### II.d: TODO (2 points / 50)\n",
    "\n",
    "To get an idea of which hashtags stay popular for several days, calculate the average number of daily occurences for each week. \n",
    "\n",
    "__Hint:__ use the `week` column we created above. Sort in descending order and show the top 20."
   ]
  },
  {
   "cell_type": "code",
   "execution_count": 22,
   "metadata": {
    "scrolled": true
   },
   "outputs": [
    {
     "name": "stderr",
     "output_type": "stream",
     "text": [
      "The code failed because of a fatal error:\n",
      "\tSession 3588 did not start up in 60 seconds..\n",
      "\n",
      "Some things to try:\n",
      "a) Make sure Spark has enough available resources for Jupyter to create a Spark context.\n",
      "b) Contact your Jupyter administrator to make sure the Spark magics library is configured correctly.\n",
      "c) Restart the kernel.\n"
     ]
    }
   ],
   "source": [
    "day_counts.groupBy(['hashtag', 'week']).mean('count').orderBy('avg(count)', ascending=False).show(20)"
   ]
  },
  {
   "cell_type": "code",
   "execution_count": 23,
   "metadata": {},
   "outputs": [
    {
     "name": "stderr",
     "output_type": "stream",
     "text": [
      "The code failed because of a fatal error:\n",
      "\tSession 3588 did not start up in 60 seconds..\n",
      "\n",
      "Some things to try:\n",
      "a) Make sure Spark has enough available resources for Jupyter to create a Spark context.\n",
      "b) Contact your Jupyter administrator to make sure the Spark magics library is configured correctly.\n",
      "c) Restart the kernel.\n"
     ]
    }
   ],
   "source": [
    "#df = spark.read.parquet(\"/data/twitter/parquet/hashtags\")\n",
    "day_counts.write.parquet(\"/data/day_counts.parquet\")"
   ]
  },
  {
   "cell_type": "code",
   "execution_count": 6,
   "metadata": {},
   "outputs": [
    {
     "data": {
      "application/vnd.jupyter.widget-view+json": {
       "model_id": "",
       "version_major": 2,
       "version_minor": 0
      },
      "text/plain": [
       "FloatProgress(value=0.0, bar_style='info', description='Progress:', layout=Layout(height='25px', width='50%'),…"
      ]
     },
     "metadata": {},
     "output_type": "display_data"
    }
   ],
   "source": [
    "day_counts = spark.read.parquet(\"/data/day_counts.parquet\")"
   ]
  },
  {
   "cell_type": "code",
   "execution_count": 7,
   "metadata": {},
   "outputs": [
    {
     "data": {
      "application/vnd.jupyter.widget-view+json": {
       "model_id": "",
       "version_major": 2,
       "version_minor": 0
      },
      "text/plain": [
       "FloatProgress(value=0.0, bar_style='info', description='Progress:', layout=Layout(height='25px', width='50%'),…"
      ]
     },
     "metadata": {},
     "output_type": "display_data"
    },
    {
     "name": "stdout",
     "output_type": "stream",
     "text": [
      "8038808"
     ]
    }
   ],
   "source": [
    "day_counts.count()"
   ]
  },
  {
   "cell_type": "markdown",
   "metadata": {},
   "source": [
    "### Using `Window` functions \n",
    "\n",
    "Window functions are another awesome feature of dataframes. They allow users to accomplish complex tasks using very concise and simple code. \n",
    "\n",
    "Above we computed just the hashtag that had the most occurrences on *any* day. Now lets say we want to know the top tweets for *each* day.  \n",
    "\n",
    "This is a non-trivial thing to compute and requires \"windowing\" our data. I recommend reading this [window functions article](https://databricks.com/blog/2015/07/15/introducing-window-functions-in-spark-sql.html) to get acquainted with the idea. You can think of a window function as a fine-grained and more flexible `groupBy`. \n",
    "\n",
    "There are two things we need to define to use window functions:\n",
    "\n",
    "1. the \"window\" to use, based on which columns (partitioning) and how the rows should be ordered \n",
    "2. the computation to carry out for each windowed group, e.g. a max, an average etc.\n",
    "\n",
    "Lets see how this works by example. We will define a window function, `daily_window` that will partition data based on the `day` column. Within each window, the rows will be ordered by the daily hashtag count that we computed above. Finally, we will use the rank function **over** this window to give us the ranking of top tweets. \n",
    "\n",
    "In the end, this is a fairly complicated operation achieved in just a few lines of code! (can you think of how to do this with an RDD??)"
   ]
  },
  {
   "cell_type": "code",
   "execution_count": 24,
   "metadata": {
    "scrolled": true
   },
   "outputs": [
    {
     "data": {
      "application/vnd.jupyter.widget-view+json": {
       "model_id": "",
       "version_major": 2,
       "version_minor": 0
      },
      "text/plain": [
       "FloatProgress(value=0.0, bar_style='info', description='Progress:', layout=Layout(height='25px', width='50%'),…"
      ]
     },
     "metadata": {},
     "output_type": "display_data"
    }
   ],
   "source": [
    "from pyspark.sql import Window"
   ]
  },
  {
   "cell_type": "markdown",
   "metadata": {},
   "source": [
    "First, we specify the window function and the ordering:"
   ]
  },
  {
   "cell_type": "code",
   "execution_count": 24,
   "metadata": {
    "scrolled": true
   },
   "outputs": [
    {
     "data": {
      "application/vnd.jupyter.widget-view+json": {
       "model_id": "",
       "version_major": 2,
       "version_minor": 0
      },
      "text/plain": [
       "FloatProgress(value=0.0, bar_style='info', description='Progress:', layout=Layout(height='25px', width='50%'),…"
      ]
     },
     "metadata": {},
     "output_type": "display_data"
    }
   ],
   "source": [
    "daily_window = Window.partitionBy('day').orderBy(functions.desc('count'))"
   ]
  },
  {
   "cell_type": "markdown",
   "metadata": {},
   "source": [
    "The above window function says that we should window the data on the `day` column and order it by count. \n",
    "\n",
    "Now we need to define what we want to compute on the windowed data. We will start by just calculating the daily ranking of hashtags, so we can use the helpful built-in `functions.rank()` and sort:"
   ]
  },
  {
   "cell_type": "code",
   "execution_count": 25,
   "metadata": {
    "scrolled": true
   },
   "outputs": [
    {
     "data": {
      "application/vnd.jupyter.widget-view+json": {
       "model_id": "",
       "version_major": 2,
       "version_minor": 0
      },
      "text/plain": [
       "FloatProgress(value=0.0, bar_style='info', description='Progress:', layout=Layout(height='25px', width='50%'),…"
      ]
     },
     "metadata": {},
     "output_type": "display_data"
    }
   ],
   "source": [
    "daily_rank = functions.rank() \\\n",
    "                      .over(daily_window) \\\n",
    "                      .alias('rank')"
   ]
  },
  {
   "cell_type": "markdown",
   "metadata": {},
   "source": [
    "### II.e: TODO (3 points / 50)\n",
    "Now compute the top five hashtags for each day in our data:"
   ]
  },
  {
   "cell_type": "code",
   "execution_count": 26,
   "metadata": {
    "scrolled": true
   },
   "outputs": [
    {
     "data": {
      "application/vnd.jupyter.widget-view+json": {
       "model_id": "",
       "version_major": 2,
       "version_minor": 0
      },
      "text/plain": [
       "FloatProgress(value=0.0, bar_style='info', description='Progress:', layout=Layout(height='25px', width='50%'),…"
      ]
     },
     "metadata": {},
     "output_type": "display_data"
    },
    {
     "name": "stdout",
     "output_type": "stream",
     "text": [
      "+---+--------------------+----+-----+----+\n",
      "|day|             hashtag|week|count|rank|\n",
      "+---+--------------------+----+-----+----+\n",
      "|148|dolceamoresatotoo...|  21| 5216|   1|\n",
      "|148|           727outnow|  21| 3563|   2|\n",
      "|148|     aldubgraziecomo|  21| 2892|   3|\n",
      "|148|     khilafatispeace|  21| 2039|   4|\n",
      "|148|          nowplaying|  21| 1707|   5|\n",
      "|137|  aldub10thmonthsary|  20| 6920|   1|\n",
      "|137|       gameofthrones|  20| 2982|   2|\n",
      "|137|                 job|  20| 2177|   3|\n",
      "|137|          teenchoice|  20| 2158|   4|\n",
      "|137|          nowplaying|  20| 2062|   5|\n",
      "|133|          teenchoice|  19|24781|   1|\n",
      "|133| dolceamoreforgotten|  19|10192|   2|\n",
      "|133|   aldub43rdweeksary|  19| 5326|   3|\n",
      "|133|choicemusicgroupmale|  19| 4007|   4|\n",
      "|133|dolceamoreitsallc...|  19| 3601|   5|\n",
      "|193|          teenchoice|  28| 6944|   1|\n",
      "|193|            euro2016|  28| 6027|   2|\n",
      "|193|           pokemongo|  28| 5912|   3|\n",
      "|193|    aldubiyamin2days|  28| 5152|   4|\n",
      "|193|    blacklivesmatter|  28| 4763|   5|\n",
      "|211|          mtvhottest|  30|47848|   1|\n",
      "|211|       veranomtv2016|  30|18914|   2|\n",
      "|211|        demsinphilly|  30|15168|   3|\n",
      "|211|  pushawardslizquens|  30| 8540|   4|\n",
      "|211|  dolceamoresabotage|  30| 8105|   5|\n",
      "|126|   aldub42ndweeksary|  18| 5396|   1|\n",
      "|126|      dropouthillary|  18| 3307|   2|\n",
      "|126|   dolceamorethesong|  18| 2959|   3|\n",
      "|126|         cincodemayo|  18| 2906|   4|\n",
      "|126|          nowplaying|  18| 2164|   5|\n",
      "|183|       veranomtv2016|  26|18543|   1|\n",
      "|183|        growingupshy|  26| 7127|   2|\n",
      "|183|   dolceamorewarning|  26| 5725|   3|\n",
      "|183|        aldubyoujuly|  26| 4944|   4|\n",
      "|183|            euro2016|  26| 4201|   5|\n",
      "|210|          mtvhottest|  30|44324|   1|\n",
      "|210|        demsinphilly|  30|16668|   2|\n",
      "|210|       veranomtv2016|  30|14086|   3|\n",
      "|210|  pushawardslizquens|  30| 9696|   4|\n",
      "|210|dolceamorelostand...|  30| 8288|   5|\n",
      "|159|       mtvawardsstar|  23| 5418|   1|\n",
      "|159|            itveuref|  23| 1499|   2|\n",
      "|159|                bbuk|  23|  789|   3|\n",
      "|159|dolceamoredreamin...|  23|  787|   4|\n",
      "|159|          primaryday|  23|  539|   5|\n",
      "|192|          teenchoice|  27| 8317|   1|\n",
      "|192|            euro2016|  27| 7947|   2|\n",
      "|192|              ufc200|  27| 6841|   3|\n",
      "|192|       veranomtv2016|  27| 6217|   4|\n",
      "|192|       euro2016final|  27| 5872|   5|\n",
      "|128| 화양연화onstageepilogue|  18| 7319|   1|\n",
      "|128|      aldubbonvoyage|  18| 6411|   2|\n",
      "|128|          nowplaying|  18| 2149|   3|\n",
      "|128|               방탄소년단|  18| 1940|   4|\n",
      "|128|                 bts|  18| 1924|   5|\n",
      "|209|          mtvhottest|  30|42572|   1|\n",
      "|209|     savemarinajoyce|  30|15649|   2|\n",
      "|209|        demsinphilly|  30|11892|   3|\n",
      "|209|       veranomtv2016|  30|10360|   4|\n",
      "|209|  pushawardslizquens|  30|10103|   5|\n",
      "|122|aldubkiligsasweetday|  17| 2096|   1|\n",
      "|122|         btsisonfire|  17| 1986|   2|\n",
      "|122|                whcd|  17| 1927|   3|\n",
      "|122|       piousbhandara|  17| 1609|   4|\n",
      "|122|                  더쇼|  17| 1567|   5|\n",
      "|190|              dallas|  27|19325|   1|\n",
      "|190|       veranomtv2016|  27|12731|   2|\n",
      "|190|          teenchoice|  27|10545|   3|\n",
      "|190|    blacklivesmatter|  27|10502|   4|\n",
      "|190|   1dreamboy2playnow|  27| 6728|   5|\n",
      "|140|   aldub44thweeksary|  20| 5549|   1|\n",
      "|140|            egyptair|  20| 2506|   2|\n",
      "|140|  highschooltaughtme|  20| 2445|   3|\n",
      "|140|              empire|  20| 2415|   4|\n",
      "|140|        bernielostme|  20| 2117|   5|\n",
      "|140|                 job|  20| 2117|   5|\n",
      "|177|       veranomtv2016|  25|17280|   1|\n",
      "|177| 1dreamboy2flashback|  25| 7917|   2|\n",
      "|177|              brexit|  25| 7324|   3|\n",
      "|177|      aldubksreunion|  25| 4846|   4|\n",
      "|177|            euro2016|  25| 3754|   5|\n",
      "|132|          teenchoice|  19|28542|   1|\n",
      "|132| dolceamoremeanttobe|  19| 8743|   2|\n",
      "|132|    aldubinitalyday3|  19| 5169|   3|\n",
      "|132|     voicesavepaxton|  19| 4288|   4|\n",
      "|132| dolceamoreforgotten|  19| 4040|   5|\n",
      "|152|     aldubhomeatlast|  22| 4531|   1|\n",
      "|152|          teenchoice|  22| 3355|   2|\n",
      "|152|          nowplaying|  22| 2280|   3|\n",
      "|152|                 raw|  22| 2011|   4|\n",
      "|152|                 job|  22| 1841|   5|\n",
      "|185|       veranomtv2016|  26|33350|   1|\n",
      "|185|            euro2016|  26| 4371|   2|\n",
      "|185|    growingupintexas|  26| 2567|   3|\n",
      "|185|    growingupbritish|  26| 2464|   4|\n",
      "|185|         gameinsight|  26| 2163|   5|\n",
      "|146|        aldubsoclose|  21| 5057|   1|\n",
      "|146|dolceamorememorys...|  21| 5010|   2|\n",
      "|146|       1dreamboy2now|  21| 4818|   3|\n",
      "|146|          teenchoice|  21| 2350|   4|\n",
      "|146|        respectniall|  21| 2299|   5|\n",
      "|206|          mtvhottest|  29|54734|   1|\n",
      "|206|       veranomtv2016|  29| 8933|   2|\n",
      "|206|             dncleak|  29| 5142|   3|\n",
      "|206|                sdcc|  29| 3415|   4|\n",
      "|206|            sdcc2016|  29| 3080|   5|\n",
      "|212|          mtvhottest|  30|33664|   1|\n",
      "|212|       veranomtv2016|  30| 8825|   2|\n",
      "|212|  pushawardslizquens|  30| 8454|   3|\n",
      "|212| pushawardskathniels|  30| 6035|   4|\n",
      "|212|            ebislove|  30| 5818|   5|\n",
      "|182|       veranomtv2016|  26|13563|   1|\n",
      "|182| aldubgoldenweeksary|  26| 5054|   2|\n",
      "|182|   growinguphispanic|  26| 3563|   3|\n",
      "|182|            euro2016|  26| 2428|   4|\n",
      "|182|          nowplaying|  26| 2120|   5|\n",
      "|168|  aldub11thmonthsary|  24|12676|   1|\n",
      "|168|          filibuster|  24| 4226|   2|\n",
      "|168|     asknashandhayes|  24| 2407|   3|\n",
      "|168|       mtvawardsstar|  24| 2011|   4|\n",
      "|168|          teenchoice|  24| 1838|   5|\n",
      "|205|          mtvhottest|  29|63495|   1|\n",
      "|205|       veranomtv2016|  29|11756|   2|\n",
      "|205|          6yearsof1d|  29|11487|   3|\n",
      "|205|6yearsofonedirection|  29| 9176|   4|\n",
      "|205|            dncleaks|  29| 6555|   5|\n",
      "|142|      aldubwemissyou|  20| 5165|   1|\n",
      "|142|          facupfinal|  20| 3090|   2|\n",
      "|142|                mufc|  20| 2884|   3|\n",
      "|142|         weareunited|  20| 2457|   4|\n",
      "|142|sharethefeelingwi...|  20| 2407|   5|\n",
      "|178|       veranomtv2016|  25|23534|   1|\n",
      "|178|              brexit|  25| 4658|   2|\n",
      "|178|            euro2016|  25| 4427|   3|\n",
      "|178|trumpgirlsbreakth...|  25| 2549|   4|\n",
      "|178|         gameinsight|  25| 2157|   5|\n",
      "|164|             orlando|  23|11923|   1|\n",
      "|164|      prayfororlando|  23| 6904|   2|\n",
      "|164|            euro2016|  23| 5518|   3|\n",
      "|164|     mtvsnapmexdanna|  23| 5172|   4|\n",
      "|164|       mtvawardsstar|  23| 5068|   5|\n",
      "|139|   aldubhappyinitaly|  20| 4926|   1|\n",
      "|139| dolceamorewhitelies|  20| 4482|   2|\n",
      "|139|      voicesavelaith|  20| 4198|   3|\n",
      "|139|      voicesavebryan|  20| 2588|   4|\n",
      "|139|  voicesavemarysarah|  20| 2244|   5|\n",
      "|163|        ripchristina|  23|19901|   1|\n",
      "|163|       mtvawardsstar|  23| 7102|   2|\n",
      "|163|            euro2016|  23| 6699|   3|\n",
      "|163|    prayforchristina|  23| 5935|   4|\n",
      "|163| ripchristinagrimmie|  23| 5423|   5|\n",
      "|191|          teenchoice|  27|10109|   1|\n",
      "|191|aldubmainecelebra...|  27| 9033|   2|\n",
      "|191|      1dreamboy2last|  27| 7932|   3|\n",
      "|191|    blacklivesmatter|  27| 5882|   4|\n",
      "|191|           pokemongo|  27| 4112|   5|\n",
      "|154|   aldub46thweeksary|  22| 3005|   1|\n",
      "|154|  dolceamorethisisit|  22| 2401|   2|\n",
      "|154|          teenchoice|  22| 1758|   3|\n",
      "|154|            luckyone|  22|  782|   4|\n",
      "|154|          nowplaying|  22|  757|   5|\n",
      "|165|             orlando|  24| 9937|   1|\n",
      "|165|          loveislove|  24| 7529|   2|\n",
      "|165|          tonyawards|  24| 5580|   3|\n",
      "|165|            euro2016|  24| 4781|   4|\n",
      "|165|      alduballmylife|  24| 4640|   5|\n",
      "|179|           betawards|  26|19624|   1|\n",
      "|179|       veranomtv2016|  26|14357|   2|\n",
      "|179|       gameofthrones|  26| 8837|   3|\n",
      "|179|            euro2016|  26| 7989|   4|\n",
      "|179|                 eng|  26| 5482|   5|\n",
      "|189|       altonsterling|  27|17515|   1|\n",
      "|189| throwback1dreamboy2|  27|12620|   2|\n",
      "|189|     philandocastile|  27|12504|   3|\n",
      "|189|       veranomtv2016|  27|11174|   4|\n",
      "|189|    blacklivesmatter|  27| 8328|   5|\n",
      "|207|          mtvhottest|  30|60768|   1|\n",
      "|207|       veranomtv2016|  30|10451|   2|\n",
      "|207| dolceamorepatigasan|  30| 7659|   3|\n",
      "|207|  pushawardslizquens|  30| 6931|   4|\n",
      "|207|   aldubsavethelolas|  30| 4865|   5|\n",
      "|127|   dolceamorethesong|  18| 9677|   1|\n",
      "|127|       aldublovelock|  18| 5015|   2|\n",
      "|127|  msgmissionhumanity|  18| 2363|   3|\n",
      "|127|                 job|  18| 2209|   4|\n",
      "|127|          nowplaying|  18| 2196|   5|\n",
      "|197|         prayfornice|  28|11391|   1|\n",
      "|197| aldub1stanniversary|  28| 7968|   2|\n",
      "|197|       veranomtv2016|  28| 6925|   3|\n",
      "|197|          teenchoice|  28| 6753|   4|\n",
      "|197|                nice|  28| 5884|   5|\n",
      "|202|          mtvhottest|  29|47567|   1|\n",
      "|202|            rncincle|  29| 9830|   2|\n",
      "|202|       veranomtv2016|  29| 9315|   3|\n",
      "|202|   dolceamorearrival|  29| 7593|   4|\n",
      "|202|          teenchoice|  29| 5682|   5|\n",
      "|175|       veranomtv2016|  25|16736|   1|\n",
      "|175|       nobillnobreak|  25|10379|   2|\n",
      "|175|          teenchoice|  25| 7934|   3|\n",
      "|175|   aldub49thweeksary|  25| 5620|   4|\n",
      "|175|               euref|  25| 4376|   5|\n",
      "|196|          teenchoice|  28| 7525|   1|\n",
      "|196|   aldub52ndweeksary|  28| 5474|   2|\n",
      "|196|           pokemongo|  28| 4883|   3|\n",
      "|196|               espys|  28| 4338|   4|\n",
      "|196|       singlebecause|  28| 4157|   5|\n",
      "|173|       veranomtv2016|  25|22985|   1|\n",
      "|173|     aldubtransition|  25| 4517|   2|\n",
      "|173|          teenchoice|  25| 4397|   3|\n",
      "|173|           bbcdebate|  25| 3305|   4|\n",
      "|173|            euro2016|  25| 3129|   5|\n",
      "|161|       mtvawardsstar|  23|21652|   1|\n",
      "|161|   aldub47thweeksary|  23| 5029|   2|\n",
      "|161|dolceamoreclosetoyou|  23| 4876|   3|\n",
      "|161|nationalbestfrien...|  23| 4340|   4|\n",
      "|161|           nbafinals|  23| 3388|   5|\n",
      "|176|              brexit|  25|28481|   1|\n",
      "|176|       veranomtv2016|  25|14080|   2|\n",
      "|176|               euref|  25|13004|   3|\n",
      "|176|        eurefresults|  25|10176|   4|\n",
      "|176|      dolceamorehhww|  25| 7889|   5|\n",
      "|162|       mtvawardsstar|  23|13533|   1|\n",
      "|162|       dolceamoretlc|  23| 7086|   2|\n",
      "|162|            euro2016|  23| 6499|   3|\n",
      "|162|       aldubtrumpets|  23| 5111|   4|\n",
      "|162|          teenchoice|  23| 4505|   5|\n",
      "|130|    aldubinitalyday1|  19| 4531|   1|\n",
      "|130|          nowplaying|  19| 2202|   2|\n",
      "|130|        election2016|  19| 2149|   3|\n",
      "|130|                 job|  19| 2000|   4|\n",
      "|130|       gameofthrones|  19| 1987|   5|\n",
      "|136|          teenchoice|  19|44716|   1|\n",
      "|136|choicemusicgroupmale|  19| 7293|   2|\n",
      "|136|          eurovision|  19| 7191|   3|\n",
      "|136|        choicefandom|  19| 4805|   4|\n",
      "|136|      choiceyoutuber|  19| 3996|   5|\n",
      "|171|       mtvawardsstar|  24| 5565|   1|\n",
      "|171|          fathersday|  24| 5487|   2|\n",
      "|171|     happyfathersday|  24| 3876|   3|\n",
      "|171|          teenchoice|  24| 3390|   4|\n",
      "|171|   fifthharmony4mmva|  24| 2921|   5|\n",
      "|194|       veranomtv2016|  28|15118|   1|\n",
      "|194|          teenchoice|  28| 8382|   2|\n",
      "|194|           pokemongo|  28| 6419|   3|\n",
      "|194|iyamthegrandpremiere|  28| 5331|   4|\n",
      "|194|           kcamexico|  28| 5297|   5|\n",
      "|129|          mothersday|  18| 5849|   1|\n",
      "|129| 화양연화onstageepilogue|  18| 4074|   2|\n",
      "|129|     happymothersday|  18| 3896|   3|\n",
      "|129|            방탄소년단사랑해|  18| 3738|   4|\n",
      "|129|                  더쇼|  18| 2363|   5|\n",
      "|166|     aldubforthelove|  24| 4684|   1|\n",
      "|166|             orlando|  24| 4437|   2|\n",
      "|166|           nbafinals|  24| 4072|   3|\n",
      "|166|              e32016|  24| 4040|   4|\n",
      "|166|          teenchoice|  24| 3754|   5|\n",
      "|181|       veranomtv2016|  26|11396|   1|\n",
      "|181|heterosexualprideday|  26| 5560|   2|\n",
      "|181|   aldubiyamin14days|  26| 4958|   3|\n",
      "|181|            istanbul|  26| 3529|   4|\n",
      "|181|growingupwithleni...|  26| 3441|   5|\n",
      "|167|      aldubthesender|  24| 4929|   1|\n",
      "|167|       mtvawardsstar|  24| 4275|   2|\n",
      "|167|  aldub11thmonthsary|  24| 3747|   3|\n",
      "|167|          teenchoice|  24| 3451|   4|\n",
      "|167|            euro2016|  24| 3208|   5|\n",
      "|160|       mtvawardsstar|  23|20378|   1|\n",
      "|160|dolceamoredreamin...|  23| 6690|   2|\n",
      "|160|         aldubmylove|  23| 4472|   3|\n",
      "|160|           imwithher|  23| 1928|   4|\n",
      "|160|     thebachelorette|  23| 1543|   5|\n",
      "|125|  maythe4thbewithyou|  18| 5482|   1|\n",
      "|125|  aldubtickettoitaly|  18| 5007|   2|\n",
      "|125|         starwarsday|  18| 2802|   3|\n",
      "|125|       voicesavenick|  18| 2508|   4|\n",
      "|125|          nowplaying|  18| 2250|   5|\n",
      "|143|               bbmas|  20| 2570|   1|\n",
      "|143|        nocontrolday|  20| 2196|   2|\n",
      "|143|          nowplaying|  20| 2027|   3|\n",
      "|143|                 job|  20| 1915|   4|\n",
      "|143|         gameinsight|  20| 1837|   5|\n",
      "|214|          mtvhottest|  31|14062|   1|\n",
      "|214|          teenchoice|  31| 6424|   2|\n",
      "|214|dolceamorethegame...|  31| 3122|   3|\n",
      "|214|  pushawardslizquens|  31| 3086|   4|\n",
      "|214|   choicemalewebstar|  31| 2235|   5|\n",
      "|195|       veranomtv2016|  28| 9036|   1|\n",
      "|195|aldubimagineyouandme|  28| 8396|   2|\n",
      "|195|          teenchoice|  28| 6396|   3|\n",
      "|195|           pokemongo|  28| 5399|   4|\n",
      "|195|           kcamexico|  28| 2672|   5|\n",
      "|203|          mtvhottest|  29|47696|   1|\n",
      "|203|          teenchoice|  29|11951|   2|\n",
      "|203|            rncincle|  29|11792|   3|\n",
      "|203|       veranomtv2016|  29| 9205|   4|\n",
      "|203| dolceamorepowerplay|  29| 7228|   5|\n",
      "|141|     1dreamboy2today|  20|11843|   1|\n",
      "|141|     aldubtiamoitaly|  20| 4639|   2|\n",
      "|141| dolceamorefireflies|  20| 2694|   3|\n",
      "|141|                 win|  20| 2163|   4|\n",
      "|141|          nowplaying|  20| 2114|   5|\n",
      "|151|    aldubmissinghalf|  22| 5156|   1|\n",
      "|151|         memorialday|  22| 3864|   2|\n",
      "|151|          teenchoice|  22| 3187|   3|\n",
      "|151|     memorialday2016|  22| 2770|   4|\n",
      "|151|          nowplaying|  22| 2087|   5|\n",
      "|145|      dolceamoretuko|  21| 6709|   1|\n",
      "|145|    aldubtouchoflove|  21| 5118|   2|\n",
      "|145|       1dreamboy2now|  21| 4072|   3|\n",
      "|145|     thebachelorette|  21| 2485|   4|\n",
      "|145|          nowplaying|  21| 2169|   5|\n",
      "|200|          mtvhottest|  29|43344|   1|\n",
      "|200|kimexposedtaylorp...|  29|10717|   2|\n",
      "|200|dolceamorechangedman|  29| 8311|   3|\n",
      "|200|          teenchoice|  29| 4460|   4|\n",
      "|200|    aldubangpagdukot|  29| 4288|   5|\n",
      "|213|          mtvhottest|  30|47248|   1|\n",
      "|213|       veranomtv2016|  30|10818|   2|\n",
      "|213|  pushawardslizquens|  30| 6746|   3|\n",
      "|213| pushawardskathniels|  30| 6198|   4|\n",
      "|213|            bigolive|  30| 2737|   5|\n",
      "|170|       mtvawardsstar|  24| 6178|   1|\n",
      "|170|   aldubebfathersday|  24| 4792|   2|\n",
      "|170|          teenchoice|  24| 3634|   3|\n",
      "|170|            euro2016|  24| 2809|   4|\n",
      "|170|          nowplaying|  24| 1969|   5|\n",
      "|188|       altonsterling|  27|24714|   1|\n",
      "|188|       veranomtv2016|  27|13691|   2|\n",
      "|188|    aldubiyamin7days|  27| 4769|   3|\n",
      "|188|dolceamorebyebinggoy|  27| 3897|   4|\n",
      "|188|            euro2016|  27| 3647|   5|\n",
      "|204|          mtvhottest|  29|66372|   1|\n",
      "|204|            rncincle|  29|16544|   2|\n",
      "|204|       veranomtv2016|  29|13265|   3|\n",
      "|204|dolceamorefightin...|  29| 9261|   4|\n",
      "|204|           coldwater|  29| 7168|   5|\n",
      "|150|          teenchoice|  21| 3076|   1|\n",
      "|150|            uclfinal|  21| 2558|   2|\n",
      "|150|          nowplaying|  21| 2168|   3|\n",
      "|150|            monacogp|  21| 2122|   4|\n",
      "|150|         gameinsight|  21| 1828|   5|\n",
      "|147| dolceamorepanaginip|  21| 8082|   1|\n",
      "|147|   aldub45thweeksary|  21| 5225|   2|\n",
      "|147|dolceamoresatotoo...|  21| 3859|   3|\n",
      "|147|          teenchoice|  21| 2401|   4|\n",
      "|147|          nowplaying|  21| 2399|   5|\n",
      "|198|          mtvhottest|  28|27327|   1|\n",
      "|198| aldub1stanniversary|  28|25203|   2|\n",
      "|198|              turkey|  28|10173|   3|\n",
      "|198|          teenchoice|  28| 4204|   4|\n",
      "|198|           pokemongo|  28| 3920|   5|\n",
      "|123|       gameofthrones|  18| 1634|   1|\n",
      "|123|     aldubsportsfest|  18| 1323|   2|\n",
      "|123|                lcfc|  18| 1300|   3|\n",
      "|123|                 job|  18| 1269|   4|\n",
      "|123|    aldubfinalscript|  18| 1165|   5|\n",
      "|199|          mtvhottest|  28|57956|   1|\n",
      "|199|          teenchoice|  28| 4875|   2|\n",
      "|199|          batonrouge|  28| 4411|   3|\n",
      "|199|           pokemongo|  28| 3937|   4|\n",
      "|199|         gameinsight|  28| 2329|   5|\n",
      "|135|          teenchoice|  19|22505|   1|\n",
      "|135|          eurovision|  19|18506|   2|\n",
      "|135|   aldubbulagaan2016|  19| 5046|   3|\n",
      "|135|choicemusicgroupmale|  19| 4013|   4|\n",
      "|135|                 bts|  19| 2925|   5|\n",
      "|201|          mtvhottest|  29|41222|   1|\n",
      "|201|            rncincle|  29|14470|   2|\n",
      "|201|famousmelaniatrum...|  29| 8075|   3|\n",
      "|201|dolceamorepusongbato|  29| 6971|   4|\n",
      "|201|          teenchoice|  29| 4674|   5|\n",
      "|131|    aldubinitalyday2|  19| 5067|   1|\n",
      "|131|              bbm4vp|  19| 3432|   2|\n",
      "|131|          nowplaying|  19| 2193|   3|\n",
      "|131|                 job|  19| 2112|   4|\n",
      "|131|          eurovision|  19| 2077|   5|\n",
      "|149|            uclfinal|  21| 6065|   1|\n",
      "|149|         aldubsepanx|  21| 4884|   2|\n",
      "|149|          teenchoice|  21| 2651|   3|\n",
      "|149|          nowplaying|  21| 2203|   4|\n",
      "|149|        chickentrump|  21| 1961|   5|\n",
      "|124|             metgala|  18|21012|   1|\n",
      "|124|    aldubfinalscript|  18| 5127|   2|\n",
      "|124|thistimepremieren...|  18| 3983|   3|\n",
      "|124|    dolceamoresearch|  18| 2627|   4|\n",
      "|124|          nowplaying|  18| 2288|   5|\n",
      "|184|       veranomtv2016|  26|16078|   1|\n",
      "|184|     aldubpoweroftwo|  26| 4752|   2|\n",
      "|184|            euro2016|  26| 4490|   3|\n",
      "|184|      growingupthick|  26| 3525|   4|\n",
      "|184|              gerita|  26| 3374|   5|\n",
      "|186|       veranomtv2016|  27|34666|   1|\n",
      "|186|happy1stmainenive...|  27| 5620|   2|\n",
      "|186|growingupadirecti...|  27| 3309|   3|\n",
      "|186|growingupwithasma...|  27| 3135|   4|\n",
      "|186|           4thofjuly|  27| 2703|   5|\n",
      "|174|       veranomtv2016|  25|16527|   1|\n",
      "|174|   play1dreamboy2now|  25| 6882|   2|\n",
      "|174|          teenchoice|  25| 5306|   3|\n",
      "|174|  aldubmaymagbabalik|  25| 5175|   4|\n",
      "|174|            euro2016|  25| 4605|   5|\n",
      "|172|           nbafinals|  25|15556|   1|\n",
      "|172|       veranomtv2016|  25|13933|   2|\n",
      "|172|       gameofthrones|  25| 6017|   3|\n",
      "|172|   aldubtrueidentity|  25| 4497|   4|\n",
      "|172|                mitb|  25| 4238|   5|\n",
      "|144|               bbmas|  21|20849|   1|\n",
      "|144|     aldubseeyousoon|  21| 4913|   2|\n",
      "|144|       gameofthrones|  21| 4367|   3|\n",
      "|144|        extremerules|  21| 3732|   4|\n",
      "|144|       bieberonbbmas|  21| 2068|   5|\n",
      "|153|   dolceamorebistado|  22| 6203|   1|\n",
      "|153|      aldubbackatone|  22| 4211|   2|\n",
      "|153|          teenchoice|  22| 3828|   3|\n",
      "|153|  dolceamorethisisit|  22| 3233|   4|\n",
      "|153|          nowplaying|  22| 2202|   5|\n",
      "|138|  aldubloversinitaly|  20| 5133|   1|\n",
      "|138|                 job|  20| 2244|   2|\n",
      "|138|                jobs|  20| 2147|   3|\n",
      "|138|          nowplaying|  20| 2147|   3|\n",
      "|138|              trecru|  20| 1848|   5|\n",
      "|180|       veranomtv2016|  26|12526|   1|\n",
      "|180|   aldubiyamin15days|  26| 4855|   2|\n",
      "|180|              brexit|  26| 3855|   3|\n",
      "|180| growingupwithmyname|  26| 3543|   4|\n",
      "|180|            euro2016|  26| 2575|   5|\n",
      "|134|          teenchoice|  19|19569|   1|\n",
      "|134|dolceamoreitsallc...|  19|12684|   2|\n",
      "|134|                 bts|  19| 7490|   3|\n",
      "|134|               방탄소년단|  19| 7202|   4|\n",
      "|134|    aldubinitalyday5|  19| 5182|   5|\n",
      "|187|       veranomtv2016|  27|18787|   1|\n",
      "|187|    aldubiyamin8days|  27| 4993|   2|\n",
      "|187| dolceamoresacrifice|  27| 3626|   3|\n",
      "|187|      prayformadinah|  27| 3568|   4|\n",
      "|187|growingupwithglasses|  27| 3347|   5|\n",
      "|208|          mtvhottest|  30|59065|   1|\n",
      "|208|        demsinphilly|  30|22164|   2|\n",
      "|208|       veranomtv2016|  30|14118|   3|\n",
      "|208|  pushawardslizquens|  30| 6566|   4|\n",
      "|208|    dolceamoreaminan|  30| 6533|   5|\n",
      "+---+--------------------+----+-----+----+"
     ]
    }
   ],
   "source": [
    "tmp = day_counts.select('*', daily_rank)\n",
    "tmp.where(tmp.rank <= 5).show(1000)"
   ]
  },
  {
   "cell_type": "code",
   "execution_count": null,
   "metadata": {},
   "outputs": [],
   "source": []
  },
  {
   "cell_type": "markdown",
   "metadata": {},
   "source": [
    "## II.f: TODO - Compute the top five trending tweets per week (20 points / 50)\n",
    "\n",
    "Use window functions (or other techniques!) to produce lists of top few trending tweets for each week. What's a \"trending\" tweet? Something that seems to be suddenly growing very rapidly in popularity. You should identify \"brexit\" in week 25 and other events like the death of The Artist Formerly Known as Prince, the Met gala, Euro 2016, the terrorist attacks in Nice, France etc. Make it as simple or as complicated as you want! The final listing should be clear and concise and the flow of your analysis should be easy to follow. If you make an implementation that is not immediately obvious, make sure you provide comments either in markdown cells or in comments in the code itself. \n"
   ]
  },
  {
   "cell_type": "code",
   "execution_count": null,
   "metadata": {
    "scrolled": true
   },
   "outputs": [],
   "source": [
    "weekly_window = Window.partitionBy(\"week\").orderBy(functions.desc('count'))"
   ]
  },
  {
   "cell_type": "code",
   "execution_count": null,
   "metadata": {},
   "outputs": [],
   "source": [
    "weekly_rank = functions.rank() \\\n",
    "                      .over(weekly_window) \\\n",
    "                      .alias('rank')"
   ]
  },
  {
   "cell_type": "code",
   "execution_count": null,
   "metadata": {},
   "outputs": [],
   "source": [
    "week_counts = daily_hashtag.groupBy(['week', 'hashtag']).count().orderBy('count', ascending=False).cache()\n",
    "week_counts.where(week_counts.hashtag == \"prayfornice\").sort(\"week\").show(100)"
   ]
  },
  {
   "cell_type": "markdown",
   "metadata": {},
   "source": [
    "Now first let's look at top 5 tweets per week, ofcourse this does not mean trending by itself"
   ]
  },
  {
   "cell_type": "code",
   "execution_count": null,
   "metadata": {},
   "outputs": [],
   "source": [
    "weeklyRank = week_counts.select('*', weekly_rank)\n",
    "weeklyRank = weeklyRank.select(\"week\",\"hashtag\",\"count\",\"rank\")\n",
    "#weeklyRank.where(weeklyRank.rank <= 5).show(100) "
   ]
  },
  {
   "cell_type": "markdown",
   "metadata": {},
   "source": [
    "Now let's check how much vary hashtags over weeks,in other words, we want to see if that tweet was continiously in top trends or not"
   ]
  },
  {
   "cell_type": "code",
   "execution_count": null,
   "metadata": {},
   "outputs": [],
   "source": []
  },
  {
   "cell_type": "code",
   "execution_count": null,
   "metadata": {},
   "outputs": [],
   "source": [
    "hashtag_week_window = Window.partitionBy(\"hashtag\",\"week\").orderBy(functions.desc('week'))\n",
    "hashtag_window = Window.partitionBy(\"hashtag\").orderBy(functions.desc('week'))\n",
    "\n",
    "\n",
    "week_stdev = day_counts.withColumn('stdev', functions.stddev('count').over(hashtag_week_window))\n",
    "\n",
    "weekly_window = Window.partitionBy(\"week\").orderBy(functions.desc('stdev'))\n",
    "weekly_rank = functions.rank() \\\n",
    "                      .over(weekly_window) \\\n",
    "                      .alias('rank')"
   ]
  },
  {
   "cell_type": "code",
   "execution_count": null,
   "metadata": {},
   "outputs": [],
   "source": [
    "\n",
    "week_counts_prev = week_counts.withColumn(\"prevCount\", functions.lag(functions.col(\"count\"), 1).over(hashtag_window))\n",
    "week_counts_diff = week_counts_prev.withColumn(\"diff\",functions.col(\"count\")-functions.col(\"prevCount\"))\n",
    "#week_counts_diff = week_counts_diff.na.drop()\n",
    "# If it is first appearance then make \n",
    "week_counts_diff2 = week_counts_diff.withColumn(\"diff\",functions.when(week_counts_diff.diff < 999999,week_counts_diff.diff ).otherwise(functions.col(\"count\")))\n",
    "week_counts_diff2.show(10)"
   ]
  },
  {
   "cell_type": "code",
   "execution_count": null,
   "metadata": {},
   "outputs": [],
   "source": [
    "weekly_window = Window.partitionBy(\"week\").orderBy(functions.desc('diff'))\n",
    "weekly_rank = functions.rank() \\\n",
    "                      .over(weekly_window) \\\n",
    "                      .alias('rank')\n"
   ]
  },
  {
   "cell_type": "code",
   "execution_count": null,
   "metadata": {},
   "outputs": [],
   "source": [
    "tmp = week_counts_diff2.select('*', weekly_rank)\n",
    "tmp.where(tmp.rank <= 5).show(100)"
   ]
  },
  {
   "cell_type": "code",
   "execution_count": null,
   "metadata": {},
   "outputs": [],
   "source": [
    "weeklydf = week_stdev.select(\"*\", functions.sum('count').over(weekly_window).alias(\"count\"))"
   ]
  },
  {
   "cell_type": "code",
   "execution_count": null,
   "metadata": {},
   "outputs": [],
   "source": [
    "#day_counts.where(\"week == 31\").show(100)"
   ]
  },
  {
   "cell_type": "code",
   "execution_count": null,
   "metadata": {},
   "outputs": [],
   "source": [
    "\n",
    "week_stdev.na.drop().where(week_stdev.week == \"23\").sort(functions.desc(\"stdev\")).show(10)\n",
    "\n"
   ]
  },
  {
   "cell_type": "code",
   "execution_count": null,
   "metadata": {},
   "outputs": [],
   "source": []
  },
  {
   "cell_type": "markdown",
   "metadata": {},
   "source": [
    "## Plotting the timeseries of hashtag counts and using KMeans clustering\n",
    "\n",
    "### II.g: TODO (8 points / 50)\n",
    "\n",
    "The lists we obtained above are nice, but lets actually visualize some data. \n",
    "\n",
    "1. create a matrix that consists of hashtags as rows and daily counts as columns (hint: use `groupBy` and methods of `GroupedData`). \n",
    "2. use the `VectorAssembler` from the Spark ML library to create the feature vector which will consist of daily counts. \n",
    "\n",
    "If you extract any of these vectors you will obtain an array that represents the time series of daily counts - plot this time series for a few interesting hashtags you identified above. \n",
    "\n",
    "__Hint__: `isin` method of DataFrame columns might be useful. "
   ]
  },
  {
   "cell_type": "code",
   "execution_count": 8,
   "metadata": {},
   "outputs": [
    {
     "data": {
      "application/vnd.jupyter.widget-view+json": {
       "model_id": "",
       "version_major": 2,
       "version_minor": 0
      },
      "text/plain": [
       "FloatProgress(value=0.0, bar_style='info', description='Progress:', layout=Layout(height='25px', width='50%'),…"
      ]
     },
     "metadata": {},
     "output_type": "display_data"
    }
   ],
   "source": [
    "day_counts_1=day_counts['hashtag','day','count']"
   ]
  },
  {
   "cell_type": "code",
   "execution_count": 9,
   "metadata": {},
   "outputs": [
    {
     "data": {
      "application/vnd.jupyter.widget-view+json": {
       "model_id": "",
       "version_major": 2,
       "version_minor": 0
      },
      "text/plain": [
       "FloatProgress(value=0.0, bar_style='info', description='Progress:', layout=Layout(height='25px', width='50%'),…"
      ]
     },
     "metadata": {},
     "output_type": "display_data"
    }
   ],
   "source": [
    "#day_counts_filtered = day_counts_1.filter(\"count > 100\" )"
   ]
  },
  {
   "cell_type": "code",
   "execution_count": 10,
   "metadata": {
    "scrolled": true
   },
   "outputs": [
    {
     "data": {
      "application/vnd.jupyter.widget-view+json": {
       "model_id": "",
       "version_major": 2,
       "version_minor": 0
      },
      "text/plain": [
       "FloatProgress(value=0.0, bar_style='info', description='Progress:', layout=Layout(height='25px', width='50%'),…"
      ]
     },
     "metadata": {},
     "output_type": "display_data"
    }
   ],
   "source": [
    "from pyspark.sql.functions import first\n",
    "\n",
    "df1 = day_counts_1.groupBy('hashtag').pivot('day').agg(first('count'))"
   ]
  },
  {
   "cell_type": "code",
   "execution_count": 11,
   "metadata": {},
   "outputs": [
    {
     "data": {
      "application/vnd.jupyter.widget-view+json": {
       "model_id": "",
       "version_major": 2,
       "version_minor": 0
      },
      "text/plain": [
       "FloatProgress(value=0.0, bar_style='info', description='Progress:', layout=Layout(height='25px', width='50%'),…"
      ]
     },
     "metadata": {},
     "output_type": "display_data"
    }
   ],
   "source": [
    "df1 = df1.na.fill(0)"
   ]
  },
  {
   "cell_type": "code",
   "execution_count": 12,
   "metadata": {},
   "outputs": [
    {
     "data": {
      "application/vnd.jupyter.widget-view+json": {
       "model_id": "",
       "version_major": 2,
       "version_minor": 0
      },
      "text/plain": [
       "FloatProgress(value=0.0, bar_style='info', description='Progress:', layout=Layout(height='25px', width='50%'),…"
      ]
     },
     "metadata": {},
     "output_type": "display_data"
    },
    {
     "name": "stdout",
     "output_type": "stream",
     "text": [
      "['122', '123', '124', '125', '126', '127', '128', '129', '130', '131', '132', '133', '134', '135', '136', '137', '138', '139', '140', '141', '142', '143', '144', '145', '146', '147', '148', '149', '150', '151', '152', '153', '154', '159', '160', '161', '162', '163', '164', '165', '166', '167', '168', '170', '171', '172', '173', '174', '175', '176', '177', '178', '179', '180', '181', '182', '183', '184', '185', '186', '187', '188', '189', '190', '191', '192', '193', '194', '195', '196', '197', '198', '199', '200', '201', '202', '203', '204', '205', '206', '207', '208', '209', '210', '211', '212', '213', '214']"
     ]
    }
   ],
   "source": [
    "columns = df1.columns\n",
    "columns.remove(\"hashtag\")\n",
    "columns"
   ]
  },
  {
   "cell_type": "code",
   "execution_count": null,
   "metadata": {},
   "outputs": [],
   "source": []
  },
  {
   "cell_type": "code",
   "execution_count": 13,
   "metadata": {},
   "outputs": [
    {
     "data": {
      "application/vnd.jupyter.widget-view+json": {
       "model_id": "",
       "version_major": 2,
       "version_minor": 0
      },
      "text/plain": [
       "FloatProgress(value=0.0, bar_style='info', description='Progress:', layout=Layout(height='25px', width='50%'),…"
      ]
     },
     "metadata": {},
     "output_type": "display_data"
    }
   ],
   "source": [
    "from pyspark.ml.feature import VectorAssembler\n",
    "\n",
    "\n",
    "df_wsum = df1.withColumn('total', sum(df1[col] for col in df1.columns if col != \"hashtag\"))\n",
    "df_wsum = df_wsum.filter(\"total > 100 and total < 200000\")\n",
    "columnsdays =  df_wsum.columns\n",
    "#for col in  columnsdays:\n",
    "#    if col not in [\"hashtag\",\"total\"]:\n",
    "#        df_wsum = df_wsum.withColumn(col+\"n\",functions.round(functions.col(col)/functions.col(\"total\"),5))\n",
    "        \n",
    "#df_wsum = df_wsum.drop(*columns)\n",
    "#df_wsum = df_wsum.drop(\"total\")\n",
    "\n",
    "ignore = ['hashtag',\"total\"]\n",
    "assembler = VectorAssembler(\n",
    "    inputCols=[x for x in df_wsum.columns if x not in ignore],outputCol='features')\n",
    "\n",
    "vector_matrix = assembler.transform(df_wsum)\n",
    "\n",
    "from pyspark.ml.feature import Normalizer\n",
    "normalizerModel = Normalizer(inputCol=\"features\", outputCol=\"features_norm\", p=1)\n",
    "normalized_vector_matrix = normalizerModel.transform(vector_matrix)"
   ]
  },
  {
   "cell_type": "code",
   "execution_count": 14,
   "metadata": {},
   "outputs": [
    {
     "data": {
      "application/vnd.jupyter.widget-view+json": {
       "model_id": "",
       "version_major": 2,
       "version_minor": 0
      },
      "text/plain": [
       "FloatProgress(value=0.0, bar_style='info', description='Progress:', layout=Layout(height='25px', width='50%'),…"
      ]
     },
     "metadata": {},
     "output_type": "display_data"
    },
    {
     "name": "stdout",
     "output_type": "stream",
     "text": [
      "35283"
     ]
    }
   ],
   "source": [
    "df_wsum.count()"
   ]
  },
  {
   "cell_type": "code",
   "execution_count": 15,
   "metadata": {},
   "outputs": [
    {
     "data": {
      "application/vnd.jupyter.widget-view+json": {
       "model_id": "",
       "version_major": 2,
       "version_minor": 0
      },
      "text/plain": [
       "FloatProgress(value=0.0, bar_style='info', description='Progress:', layout=Layout(height='25px', width='50%'),…"
      ]
     },
     "metadata": {},
     "output_type": "display_data"
    },
    {
     "name": "stdout",
     "output_type": "stream",
     "text": [
      "+---------+---+---+---+---+---+---+---+---+---+---+---+---+---+---+---+---+---+---+---+---+---+---+---+---+---+---+---+---+---+---+---+---+---+---+---+---+---+---+---+---+---+---+---+---+---+---+---+---+---+---+---+---+---+---+---+---+---+---+---+---+---+---+---+---+---+---+---+---+---+---+---+---+---+---+---+---+---+---+---+---+---+---+---+---+---+---+---+---+-----+--------------------+\n",
      "|  hashtag|122|123|124|125|126|127|128|129|130|131|132|133|134|135|136|137|138|139|140|141|142|143|144|145|146|147|148|149|150|151|152|153|154|159|160|161|162|163|164|165|166|167|168|170|171|172|173|174|175|176|177|178|179|180|181|182|183|184|185|186|187|188|189|190|191|192|193|194|195|196|197|198|199|200|201|202|203|204|205|206|207|208|209|210|211|212|213|214|total|            features|\n",
      "+---------+---+---+---+---+---+---+---+---+---+---+---+---+---+---+---+---+---+---+---+---+---+---+---+---+---+---+---+---+---+---+---+---+---+---+---+---+---+---+---+---+---+---+---+---+---+---+---+---+---+---+---+---+---+---+---+---+---+---+---+---+---+---+---+---+---+---+---+---+---+---+---+---+---+---+---+---+---+---+---+---+---+---+---+---+---+---+---+---+-----+--------------------+\n",
      "|viewpoint| 11|  2|  0|  1|  0|  1|  0|  6|  3|  2|  1|  1|  2|  2|  3|  3|  1|  2|  1|  1|  2|  3|  3|  1|  1|  1|  0|  1|  0|  3|  3|  1|  0|  0|  0|  1|  1|  1|  5|  3|  2|  0|  0|  0|  6|  2|  0|  0|  1|  8|  1|  4|  6|  2|  0|  0|  1|  0| 10|  5|  0|  0|  1|  3|  1|  0|  4|  0|  0|  0|  2|  0|  5|  3|  2|  1|  1|  1|  0|  4|  2|  0|  0|  0|  1|  0|  3|  0|  155|[11.0,2.0,0.0,1.0...|\n",
      "+---------+---+---+---+---+---+---+---+---+---+---+---+---+---+---+---+---+---+---+---+---+---+---+---+---+---+---+---+---+---+---+---+---+---+---+---+---+---+---+---+---+---+---+---+---+---+---+---+---+---+---+---+---+---+---+---+---+---+---+---+---+---+---+---+---+---+---+---+---+---+---+---+---+---+---+---+---+---+---+---+---+---+---+---+---+---+---+---+---+-----+--------------------+\n",
      "only showing top 1 row"
     ]
    }
   ],
   "source": [
    "vector_matrix.show(1)"
   ]
  },
  {
   "cell_type": "code",
   "execution_count": 74,
   "metadata": {},
   "outputs": [
    {
     "data": {
      "application/vnd.jupyter.widget-view+json": {
       "model_id": "",
       "version_major": 2,
       "version_minor": 0
      },
      "text/plain": [
       "FloatProgress(value=0.0, bar_style='info', description='Progress:', layout=Layout(height='25px', width='50%'),…"
      ]
     },
     "metadata": {},
     "output_type": "display_data"
    }
   ],
   "source": [
    "hashtag_total_count = english_df.groupBy('hashtag').count()\n",
    "#valid_ht = hashtag_total_count.filter('count > 100').select('hashtag').distinct().collect()\n",
    "valid_ht = [row.hashtag for row in hashtag_total_count.filter('count > 100').select('hashtag').distinct().collect()]\n",
    "\n"
   ]
  },
  {
   "cell_type": "code",
   "execution_count": 19,
   "metadata": {},
   "outputs": [
    {
     "data": {
      "application/vnd.jupyter.widget-view+json": {
       "model_id": "",
       "version_major": 2,
       "version_minor": 0
      },
      "text/plain": [
       "FloatProgress(value=0.0, bar_style='info', description='Progress:', layout=Layout(height='25px', width='50%'),…"
      ]
     },
     "metadata": {},
     "output_type": "display_data"
    }
   ],
   "source": [
    "vector_matrix=vector_matrix.select('hashtag','features')"
   ]
  },
  {
   "cell_type": "code",
   "execution_count": 130,
   "metadata": {},
   "outputs": [
    {
     "data": {
      "application/vnd.jupyter.widget-view+json": {
       "model_id": "",
       "version_major": 2,
       "version_minor": 0
      },
      "text/plain": [
       "FloatProgress(value=0.0, bar_style='info', description='Progress:', layout=Layout(height='25px', width='50%'),…"
      ]
     },
     "metadata": {},
     "output_type": "display_data"
    }
   ],
   "source": [
    "interesting_hashtags = vector_matrix[vector_matrix.hashtag.isin(\"brexit\", \"prayfornice\",\"turkeycoupattempt\",\"turkey\",\"euref\",\"nbafinals\")]"
   ]
  },
  {
   "cell_type": "code",
   "execution_count": 131,
   "metadata": {},
   "outputs": [
    {
     "data": {
      "application/vnd.jupyter.widget-view+json": {
       "model_id": "",
       "version_major": 2,
       "version_minor": 0
      },
      "text/plain": [
       "FloatProgress(value=0.0, bar_style='info', description='Progress:', layout=Layout(height='25px', width='50%'),…"
      ]
     },
     "metadata": {},
     "output_type": "display_data"
    },
    {
     "data": {
      "application/vnd.jupyter.widget-view+json": {
       "model_id": "",
       "version_major": 2,
       "version_minor": 0
      },
      "text/plain": [
       "FloatProgress(value=0.0, bar_style='info', description='Progress:', layout=Layout(height='25px', width='50%'),…"
      ]
     },
     "metadata": {},
     "output_type": "display_data"
    }
   ],
   "source": [
    "%%spark -o interesting_hashtags"
   ]
  },
  {
   "cell_type": "code",
   "execution_count": 138,
   "metadata": {},
   "outputs": [
    {
     "data": {
      "image/png": "[encoded data removed]",
      "text/plain": [
       "<Figure size 1296x720 with 1 Axes>"
      ]
     },
     "metadata": {
      "needs_background": "light"
     },
     "output_type": "display_data"
    }
   ],
   "source": [
    "%%local\n",
    "%matplotlib inline\n",
    "import numpy as np\n",
    "def to_array(ordered_dict):\n",
    "    if 'size' not in ordered_dict.keys():\n",
    "        return np.array(ordered_dict['values'])\n",
    "    new_array = np.zeros((ordered_dict['size']))\n",
    "    for i in range(len(ordered_dict['indices'])):\n",
    "        index=ordered_dict['indices'][i]\n",
    "        new_array[index]=ordered_dict['values'][i]\n",
    "    return new_array\n",
    "\n",
    "interesting_hashtags.numeric_features = interesting_hashtags.features.map(lambda x: to_array(x) )\n",
    "plt.figure(figsize=(18,10))\n",
    "plt.title('Time Series for Interesting Hashtags')\n",
    "for i, hashtag in enumerate(interesting_hashtags.hashtag.values):\n",
    "    plt.plot(interesting_hashtags.numeric_features[i])\n",
    "plt.legend(interesting_hashtags.hashtag.values)\n",
    "plt.show()"
   ]
  },
  {
   "cell_type": "code",
   "execution_count": 76,
   "metadata": {},
   "outputs": [
    {
     "data": {
      "application/vnd.jupyter.widget-view+json": {
       "model_id": "",
       "version_major": 2,
       "version_minor": 0
      },
      "text/plain": [
       "FloatProgress(value=0.0, bar_style='info', description='Progress:', layout=Layout(height='25px', width='50%'),…"
      ]
     },
     "metadata": {},
     "output_type": "display_data"
    },
    {
     "name": "stdout",
     "output_type": "stream",
     "text": [
      "'214'"
     ]
    }
   ],
   "source": [
    "x"
   ]
  },
  {
   "cell_type": "code",
   "execution_count": 73,
   "metadata": {},
   "outputs": [
    {
     "data": {
      "application/vnd.jupyter.widget-view+json": {
       "model_id": "",
       "version_major": 2,
       "version_minor": 0
      },
      "text/plain": [
       "FloatProgress(value=0.0, bar_style='info', description='Progress:', layout=Layout(height='25px', width='50%'),…"
      ]
     },
     "metadata": {},
     "output_type": "display_data"
    },
    {
     "name": "stdout",
     "output_type": "stream",
     "text": [
      "DataFrame[hashtag: string]"
     ]
    }
   ],
   "source": [
    " hashtag_total_count.filter('count > 100').select('hashtag')"
   ]
  },
  {
   "cell_type": "code",
   "execution_count": 77,
   "metadata": {},
   "outputs": [
    {
     "data": {
      "application/vnd.jupyter.widget-view+json": {
       "model_id": "",
       "version_major": 2,
       "version_minor": 0
      },
      "text/plain": [
       "FloatProgress(value=0.0, bar_style='info', description='Progress:', layout=Layout(height='25px', width='50%'),…"
      ]
     },
     "metadata": {},
     "output_type": "display_data"
    }
   ],
   "source": [
    "filteredDf = day_counts.filter(day_counts.hashtag.isin(valid_ht))\n",
    "\n"
   ]
  },
  {
   "cell_type": "code",
   "execution_count": 78,
   "metadata": {},
   "outputs": [
    {
     "data": {
      "application/vnd.jupyter.widget-view+json": {
       "model_id": "",
       "version_major": 2,
       "version_minor": 0
      },
      "text/plain": [
       "FloatProgress(value=0.0, bar_style='info', description='Progress:', layout=Layout(height='25px', width='50%'),…"
      ]
     },
     "metadata": {},
     "output_type": "display_data"
    }
   ],
   "source": [
    "pivotDf = filteredDf.select('hashtag', 'day').groupBy('hashtag').pivot('day').count()"
   ]
  },
  {
   "cell_type": "code",
   "execution_count": 79,
   "metadata": {},
   "outputs": [
    {
     "data": {
      "application/vnd.jupyter.widget-view+json": {
       "model_id": "",
       "version_major": 2,
       "version_minor": 0
      },
      "text/plain": [
       "FloatProgress(value=0.0, bar_style='info', description='Progress:', layout=Layout(height='25px', width='50%'),…"
      ]
     },
     "metadata": {},
     "output_type": "display_data"
    }
   ],
   "source": [
    "pivotDf = pivotDf.na.fill(0)"
   ]
  },
  {
   "cell_type": "code",
   "execution_count": 67,
   "metadata": {},
   "outputs": [
    {
     "data": {
      "application/vnd.jupyter.widget-view+json": {
       "model_id": "",
       "version_major": 2,
       "version_minor": 0
      },
      "text/plain": [
       "FloatProgress(value=0.0, bar_style='info', description='Progress:', layout=Layout(height='25px', width='50%'),…"
      ]
     },
     "metadata": {},
     "output_type": "display_data"
    },
    {
     "name": "stdout",
     "output_type": "stream",
     "text": [
      "35286"
     ]
    }
   ],
   "source": [
    "ignore = ['hashtag',\"total\"]\n",
    "assembler = VectorAssembler(\n",
    "    inputCols=[x for x in df_wsum.columns if x not in ignore],outputCol='features')\n",
    "\n",
    "vector_matrix = assembler.transform(df_wsum)"
   ]
  },
  {
   "cell_type": "code",
   "execution_count": 64,
   "metadata": {},
   "outputs": [
    {
     "data": {
      "application/vnd.jupyter.widget-view+json": {
       "model_id": "",
       "version_major": 2,
       "version_minor": 0
      },
      "text/plain": [
       "FloatProgress(value=0.0, bar_style='info', description='Progress:', layout=Layout(height='25px', width='50%'),…"
      ]
     },
     "metadata": {},
     "output_type": "display_data"
    },
    {
     "name": "stdout",
     "output_type": "stream",
     "text": [
      "35286"
     ]
    }
   ],
   "source": [
    "# Hashtag counts per dat\n",
    "matrix_filtered = (day_counts.filter(day_counts.hashtag.isin(hashtags_filtered))\n",
    "                                       .select('hashtag', 'day')\n",
    "                                       .groupBy('hashtag') \n",
    "                                       .pivot('day')\n",
    "                                       .count()\n",
    "                                       .na.fill(0))\n",
    "assembler = VectorAssembler(\n",
    "    inputCols=list(sorted([x for x in matrix_filtered.columns if x != 'hashtag'])),\n",
    "    outputCol='features')\n",
    "\n",
    "output2 = assembler.transform(matrix_filtered)"
   ]
  },
  {
   "cell_type": "code",
   "execution_count": 60,
   "metadata": {},
   "outputs": [
    {
     "data": {
      "application/vnd.jupyter.widget-view+json": {
       "model_id": "",
       "version_major": 2,
       "version_minor": 0
      },
      "text/plain": [
       "FloatProgress(value=0.0, bar_style='info', description='Progress:', layout=Layout(height='25px', width='50%'),…"
      ]
     },
     "metadata": {},
     "output_type": "display_data"
    }
   ],
   "source": [
    "# Get the value we concluded from the plot above (elbow method plot)\n",
    "k = 15\n",
    "\n",
    "# Trains a k-means model\n",
    "kmeans = KMeans().setK(k).setSeed(random.randint(1,999999)).setFeaturesCol(\"features\")\n",
    "model = kmeans.fit(output2)\n",
    "\n",
    "# Make predictions\n",
    "predictions = model.transform(output2).select('hashtag', 'prediction')"
   ]
  },
  {
   "cell_type": "code",
   "execution_count": 61,
   "metadata": {},
   "outputs": [
    {
     "data": {
      "application/vnd.jupyter.widget-view+json": {
       "model_id": "",
       "version_major": 2,
       "version_minor": 0
      },
      "text/plain": [
       "FloatProgress(value=0.0, bar_style='info', description='Progress:', layout=Layout(height='25px', width='50%'),…"
      ]
     },
     "metadata": {},
     "output_type": "display_data"
    },
    {
     "name": "stdout",
     "output_type": "stream",
     "text": [
      "+----------+\n",
      "|prediction|\n",
      "+----------+\n",
      "|         6|\n",
      "+----------+"
     ]
    }
   ],
   "source": [
    "predictions.select(\"hashtag\",\"prediction\").filter(\"hashtag == 'brexit'\").select(\"prediction\").show()\n"
   ]
  },
  {
   "cell_type": "code",
   "execution_count": 63,
   "metadata": {},
   "outputs": [
    {
     "data": {
      "application/vnd.jupyter.widget-view+json": {
       "model_id": "",
       "version_major": 2,
       "version_minor": 0
      },
      "text/plain": [
       "FloatProgress(value=0.0, bar_style='info', description='Progress:', layout=Layout(height='25px', width='50%'),…"
      ]
     },
     "metadata": {},
     "output_type": "display_data"
    },
    {
     "name": "stdout",
     "output_type": "stream",
     "text": [
      "5999"
     ]
    }
   ],
   "source": [
    "predictions.select(\"hashtag\",\"prediction\").filter(\"prediction == '0'\").select(\"hashtag\").count()"
   ]
  },
  {
   "cell_type": "code",
   "execution_count": null,
   "metadata": {},
   "outputs": [],
   "source": [
    "predictions.select(\"hashtag\",\"prediction\").filter(\"prediction == '6'\").select(\"hashtag\").show()"
   ]
  },
  {
   "cell_type": "markdown",
   "metadata": {},
   "source": [
    "### II.h: TODO - Use KMeans to cluster hashtags based on the daily count timeseries (12 points / 50)\n",
    "\n",
    "Use the DataFrame you created above to cluster the hashtag timeseries. Train the model and calculate the cluster membership for all hashtags. \n",
    "\n",
    "Show the cluster that includes \"brexit\" - does it make sense?\n",
    "\n",
    "Again, be creative and see if you can get the clustering to give you meaningful hashtag groupings. Make sure you document your process and code and make your final notebook easy to understand even if the result is not optimal or complete. \n",
    "\n",
    "__Hint:__ Additional data cleaning or filtering might be necessary to get useful results from the model. "
   ]
  },
  {
   "cell_type": "code",
   "execution_count": null,
   "metadata": {},
   "outputs": [],
   "source": [
    "vector_matrix.count()"
   ]
  },
  {
   "cell_type": "code",
   "execution_count": null,
   "metadata": {},
   "outputs": [],
   "source": [
    "vector_matrix"
   ]
  },
  {
   "cell_type": "code",
   "execution_count": 40,
   "metadata": {},
   "outputs": [
    {
     "data": {
      "application/vnd.jupyter.widget-view+json": {
       "model_id": "",
       "version_major": 2,
       "version_minor": 0
      },
      "text/plain": [
       "FloatProgress(value=0.0, bar_style='info', description='Progress:', layout=Layout(height='25px', width='50%'),…"
      ]
     },
     "metadata": {},
     "output_type": "display_data"
    },
    {
     "name": "stderr",
     "output_type": "stream",
     "text": [
      "An error was encountered:\n",
      "name 'random' is not defined\n",
      "Traceback (most recent call last):\n",
      "NameError: name 'random' is not defined\n",
      "\n"
     ]
    }
   ],
   "source": [
    "from pyspark.ml.clustering import KMeans\n",
    "from pyspark.ml.evaluation import ClusteringEvaluator\n",
    "import random\n",
    "\n",
    "\n",
    "silhouettes = []\n",
    "cost =[]\n",
    "\n",
    "\n",
    "for k in range(1,50,2):\n",
    "    kmeans = KMeans().setK(k).setSeed(random.randint(1,999999))\n",
    "    model = kmeans.fit(vector_matrix)\n",
    "    predictions = model.transform(vector_matrix)\n",
    "    evaluator = ClusteringEvaluator()\n",
    "    silhouette = evaluator.evaluate(predictions)\n",
    "    print(\"Silhouette with squared euclidean distance = \" + str(silhouette))\n",
    "    cost += [model.computeCost(vector_matrix)]\n",
    "    silhouettes += [silhouette]\n"
   ]
  },
  {
   "cell_type": "code",
   "execution_count": null,
   "metadata": {},
   "outputs": [],
   "source": [
    "cost"
   ]
  },
  {
   "cell_type": "code",
   "execution_count": null,
   "metadata": {},
   "outputs": [],
   "source": [
    "silhouettes"
   ]
  },
  {
   "cell_type": "code",
   "execution_count": null,
   "metadata": {},
   "outputs": [],
   "source": [
    "%matplotlib inline\n",
    "\n",
    "cost  =[42757830523.06285, 29068799472.473213, 25787192750.063107, 17167803114.680418, 12240908561.02235, 7916853703.767424]\n",
    "\n",
    "sl = [0.9999385532934539, 0.9960523224174543, 0.9960570403240159, 0.9706001587202, 0.9041092997069089, 0.8909425947779203]\n",
    "fig, ax1 = plt.subplots()\n",
    "\n",
    "color = 'tab:red'\n",
    "ax1.set_xlabel('time (s)')\n",
    "ax1.set_ylabel('exp', color=color)\n",
    "ax1.plot(cost, color=color)\n",
    "ax1.tick_params(axis='y', labelcolor=color)\n",
    "\n",
    "ax2 = ax1.twinx()  # instantiate a second axes that shares the same x-axis\n",
    "\n",
    "color = 'tab:blue'\n",
    "ax2.set_ylabel('sin', color=color)  # we already handled the x-label with ax1\n",
    "ax2.plot(sl, color=color)\n",
    "ax2.tick_params(axis='y', labelcolor=color)\n",
    "\n",
    "fig.tight_layout()  # otherwise the right y-label is slightly clipped\n",
    "plt.show()"
   ]
  },
  {
   "cell_type": "code",
   "execution_count": 27,
   "metadata": {},
   "outputs": [
    {
     "data": {
      "application/vnd.jupyter.widget-view+json": {
       "model_id": "",
       "version_major": 2,
       "version_minor": 0
      },
      "text/plain": [
       "FloatProgress(value=0.0, bar_style='info', description='Progress:', layout=Layout(height='25px', width='50%'),…"
      ]
     },
     "metadata": {},
     "output_type": "display_data"
    }
   ],
   "source": [
    "from pyspark.ml.clustering import KMeans\n",
    "import random\n",
    "\n",
    "\n",
    "kmeans = KMeans(featuresCol='features').setK(14).setSeed(random.randint(1,999999))\n",
    "model = kmeans.fit(normalized_vector_matrix)\n",
    "predictions = model.transform(normalized_vector_matrix)"
   ]
  },
  {
   "cell_type": "code",
   "execution_count": 28,
   "metadata": {},
   "outputs": [
    {
     "data": {
      "application/vnd.jupyter.widget-view+json": {
       "model_id": "",
       "version_major": 2,
       "version_minor": 0
      },
      "text/plain": [
       "FloatProgress(value=0.0, bar_style='info', description='Progress:', layout=Layout(height='25px', width='50%'),…"
      ]
     },
     "metadata": {},
     "output_type": "display_data"
    },
    {
     "name": "stdout",
     "output_type": "stream",
     "text": [
      "DataFrame[hashtag: string, prediction: int]"
     ]
    }
   ],
   "source": [
    "predictions.select(\"hashtag\",\"prediction\")"
   ]
  },
  {
   "cell_type": "code",
   "execution_count": 29,
   "metadata": {},
   "outputs": [
    {
     "data": {
      "application/vnd.jupyter.widget-view+json": {
       "model_id": "",
       "version_major": 2,
       "version_minor": 0
      },
      "text/plain": [
       "FloatProgress(value=0.0, bar_style='info', description='Progress:', layout=Layout(height='25px', width='50%'),…"
      ]
     },
     "metadata": {},
     "output_type": "display_data"
    },
    {
     "name": "stdout",
     "output_type": "stream",
     "text": [
      "+----------+\n",
      "|prediction|\n",
      "+----------+\n",
      "|         9|\n",
      "+----------+"
     ]
    }
   ],
   "source": [
    "predictions.select(\"hashtag\",\"prediction\").filter(\"hashtag == 'brexit'\").select(\"prediction\").show()"
   ]
  },
  {
   "cell_type": "code",
   "execution_count": 31,
   "metadata": {},
   "outputs": [
    {
     "data": {
      "application/vnd.jupyter.widget-view+json": {
       "model_id": "",
       "version_major": 2,
       "version_minor": 0
      },
      "text/plain": [
       "FloatProgress(value=0.0, bar_style='info', description='Progress:', layout=Layout(height='25px', width='50%'),…"
      ]
     },
     "metadata": {},
     "output_type": "display_data"
    },
    {
     "name": "stdout",
     "output_type": "stream",
     "text": [
      "4697"
     ]
    }
   ],
   "source": [
    "predictions.select(\"hashtag\",\"prediction\").filter(\"prediction == '0'\").select(\"hashtag\").count()"
   ]
  },
  {
   "cell_type": "code",
   "execution_count": null,
   "metadata": {},
   "outputs": [],
   "source": [
    "predictions.select(\"hashtag\",\"prediction\").filter(\"prediction == '12'\").select(\"hashtag\").show()"
   ]
  },
  {
   "cell_type": "code",
   "execution_count": null,
   "metadata": {},
   "outputs": [],
   "source": [
    "silhouettes"
   ]
  },
  {
   "cell_type": "code",
   "execution_count": 42,
   "metadata": {},
   "outputs": [
    {
     "data": {
      "application/vnd.jupyter.widget-view+json": {
       "model_id": "",
       "version_major": 2,
       "version_minor": 0
      },
      "text/plain": [
       "FloatProgress(value=0.0, bar_style='info', description='Progress:', layout=Layout(height='25px', width='50%'),…"
      ]
     },
     "metadata": {},
     "output_type": "display_data"
    }
   ],
   "source": [
    "from pyspark.ml.feature import PCA\n",
    "pca = PCA(k=20, inputCol=\"features\", outputCol=\"pcaFeatures\")\n",
    "model = pca.fit(normalized_vector_matrix)\n"
   ]
  },
  {
   "cell_type": "code",
   "execution_count": 43,
   "metadata": {},
   "outputs": [
    {
     "data": {
      "application/vnd.jupyter.widget-view+json": {
       "model_id": "",
       "version_major": 2,
       "version_minor": 0
      },
      "text/plain": [
       "FloatProgress(value=0.0, bar_style='info', description='Progress:', layout=Layout(height='25px', width='50%'),…"
      ]
     },
     "metadata": {},
     "output_type": "display_data"
    },
    {
     "name": "stdout",
     "output_type": "stream",
     "text": [
      "DenseVector([0.2354, 0.0731, 0.0589, 0.0488, 0.0466, 0.0359, 0.0328, 0.0267, 0.0238, 0.0215, 0.0198, 0.0183, 0.0173, 0.0162, 0.0153, 0.0146, 0.0134, 0.0113, 0.0112, 0.0107])"
     ]
    }
   ],
   "source": [
    "model.explainedVariance\n",
    "\n"
   ]
  },
  {
   "cell_type": "code",
   "execution_count": 44,
   "metadata": {},
   "outputs": [
    {
     "data": {
      "application/vnd.jupyter.widget-view+json": {
       "model_id": "",
       "version_major": 2,
       "version_minor": 0
      },
      "text/plain": [
       "FloatProgress(value=0.0, bar_style='info', description='Progress:', layout=Layout(height='25px', width='50%'),…"
      ]
     },
     "metadata": {},
     "output_type": "display_data"
    },
    {
     "name": "stdout",
     "output_type": "stream",
     "text": [
      "0.7512710182151666"
     ]
    }
   ],
   "source": [
    "sum(model.explainedVariance)"
   ]
  },
  {
   "cell_type": "code",
   "execution_count": 63,
   "metadata": {},
   "outputs": [
    {
     "data": {
      "application/vnd.jupyter.widget-view+json": {
       "model_id": "",
       "version_major": 2,
       "version_minor": 0
      },
      "text/plain": [
       "FloatProgress(value=0.0, bar_style='info', description='Progress:', layout=Layout(height='25px', width='50%'),…"
      ]
     },
     "metadata": {},
     "output_type": "display_data"
    }
   ],
   "source": [
    "pca_data = model.transform(vector_matrix)\n"
   ]
  },
  {
   "cell_type": "code",
   "execution_count": 71,
   "metadata": {},
   "outputs": [
    {
     "data": {
      "application/vnd.jupyter.widget-view+json": {
       "model_id": "",
       "version_major": 2,
       "version_minor": 0
      },
      "text/plain": [
       "FloatProgress(value=0.0, bar_style='info', description='Progress:', layout=Layout(height='25px', width='50%'),…"
      ]
     },
     "metadata": {},
     "output_type": "display_data"
    }
   ],
   "source": [
    "from pyspark.ml.clustering import KMeans\n",
    "import random\n",
    "\n",
    "\n",
    "kmeans = KMeans(featuresCol='pcaFeatures').setK(9).setSeed(random.randint(1,999999))\n",
    "model = kmeans.fit(pca_data)\n",
    "predictions = model.transform(pca_data)"
   ]
  },
  {
   "cell_type": "code",
   "execution_count": 72,
   "metadata": {},
   "outputs": [
    {
     "data": {
      "application/vnd.jupyter.widget-view+json": {
       "model_id": "",
       "version_major": 2,
       "version_minor": 0
      },
      "text/plain": [
       "FloatProgress(value=0.0, bar_style='info', description='Progress:', layout=Layout(height='25px', width='50%'),…"
      ]
     },
     "metadata": {},
     "output_type": "display_data"
    },
    {
     "name": "stdout",
     "output_type": "stream",
     "text": [
      "+----------+\n",
      "|prediction|\n",
      "+----------+\n",
      "|         8|\n",
      "+----------+"
     ]
    }
   ],
   "source": [
    "predictions.select(\"hashtag\",\"prediction\").filter(\"hashtag == 'brexit'\").select(\"prediction\").show()"
   ]
  },
  {
   "cell_type": "code",
   "execution_count": 73,
   "metadata": {},
   "outputs": [
    {
     "data": {
      "application/vnd.jupyter.widget-view+json": {
       "model_id": "1a7704050bb24cb0a0762a24bf403287",
       "version_major": 2,
       "version_minor": 0
      },
      "text/plain": [
       "FloatProgress(value=0.0, bar_style='info', description='Progress:', layout=Layout(height='25px', width='50%'),…"
      ]
     },
     "metadata": {},
     "output_type": "display_data"
    },
    {
     "name": "stderr",
     "output_type": "stream",
     "text": [
      "An error was encountered:\n",
      "Invalid status code '400' from http://iccluster044.iccluster.epfl.ch:8998/sessions/3456/statements/67 with error payload: \"requirement failed: Session isn't active.\"\n"
     ]
    }
   ],
   "source": [
    "predictions.select(\"hashtag\",\"prediction\").filter(\"prediction == '3'\").select(\"hashtag\").count()"
   ]
  },
  {
   "cell_type": "code",
   "execution_count": null,
   "metadata": {},
   "outputs": [],
   "source": [
    "predictions.select(\"hashtag\",\"prediction\").filter(\"prediction == '12'\").select(\"hashtag\").show()"
   ]
  },
  {
   "cell_type": "code",
   "execution_count": null,
   "metadata": {},
   "outputs": [],
   "source": [
    "from pyspark.ml.clustering import KMeans\n",
    "from pyspark.ml.evaluation import ClusteringEvaluator\n",
    "\n",
    "kmeans = KMeans().setK(2).setSeed(1)\n",
    "silhouettes = []\n",
    "cost =[]\n",
    "for k in range(2,10):\n",
    "    kmeans = KMeans(featuresCol='pcaFeatures').setK(k).setSeed(12345)\n",
    "    model = kmeans.fit(pca_data)\n",
    "    predictions = model.transform(pca_data)\n",
    "    evaluator = ClusteringEvaluator()\n",
    "    silhouette = evaluator.evaluate(predictions)\n",
    "    cost += [model.computeCost(pca_data)]\n",
    "    print(\"Silhouette with squared euclidean distance = \" + str(silhouette))\n",
    "    silhouettes += [silhouette]\n",
    "\n"
   ]
  },
  {
   "cell_type": "code",
   "execution_count": null,
   "metadata": {},
   "outputs": [],
   "source": [
    "predictions"
   ]
  },
  {
   "cell_type": "code",
   "execution_count": null,
   "metadata": {},
   "outputs": [],
   "source": []
  }
 ],
 "metadata": {
  "kernelspec": {
   "display_name": "PySpark",
   "language": "",
   "name": "pysparkkernel"
  },
  "language_info": {
   "codemirror_mode": {
    "name": "python",
    "version": 3
   },
   "mimetype": "text/x-python",
   "name": "pyspark",
   "pygments_lexer": "python3"
  }
 },
 "nbformat": 4,
 "nbformat_minor": 4
}
