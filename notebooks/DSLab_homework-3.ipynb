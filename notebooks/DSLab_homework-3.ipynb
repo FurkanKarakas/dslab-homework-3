{
 "cells": [
  {
   "cell_type": "markdown",
   "metadata": {},
   "source": [
    "# Homework 3 - Uncovering World Events using Twitter Hashtags\n",
    "\n",
    "## ... and learning about Spark `DataFrames` along the way\n",
    "\n",
    "In this notebook, we will use temporal information about Twitter hashtags to discover trending topics and potentially uncover world events as they occurred. \n",
    "\n",
    "__Hand-in:__\n",
    "\n",
    "- __Due: 28.04.2020 23:59:59 CET__\n",
    "- `git push` your final verion to your group's Renku repository before the due\n",
    "- check if `Dockerfile`, `environment.yml` and `requirements.txt` are properly written\n",
    "- add necessary comments and discussion to make your codes readable"
   ]
  },
  {
   "cell_type": "markdown",
   "metadata": {},
   "source": [
    "### Hashtags\n",
    "\n",
    "The idea here is that when an event is happening and people are having a conversation about it on Twitter, a set of uniform hashtags that represent the event spontaneously evolves. Twitter users then use those hashtags to communicate with one another. Some hashtags, like `#RT` for \"retweet\" or just `#retweet` are used frequently and don't tell us much about what is going on. But a sudden appearance of a hashtag like `#oscars` probably indicates that the oscars are underway. For a particularly cool example of this type of analysis, check out [this blog post about earthquake detection using Twitter data](https://blog.twitter.com/official/en_us/a/2015/usgs-twitter-data-earthquake-detection.html) (although they search the text and not necessarily hashtags)."
   ]
  },
  {
   "cell_type": "code",
   "execution_count": 1,
   "metadata": {
    "scrolled": true
   },
   "outputs": [],
   "source": [
    "%%local\n",
    "%matplotlib inline\n",
    "import matplotlib.pylab as plt\n",
    "plt.rcParams['figure.figsize'] = (10,6)\n",
    "plt.rcParams['font.size'] = 18\n",
    "plt.style.use('fivethirtyeight')"
   ]
  },
  {
   "cell_type": "markdown",
   "metadata": {},
   "source": [
    "## Initialize the `SparkSession`"
   ]
  },
  {
   "cell_type": "code",
   "execution_count": 2,
   "metadata": {},
   "outputs": [
    {
     "name": "stdout",
     "output_type": "stream",
     "text": [
      "Starting Spark application\n"
     ]
    },
    {
     "data": {
      "text/html": [
       "<table>\n",
       "<tr><th>ID</th><th>YARN Application ID</th><th>Kind</th><th>State</th><th>Spark UI</th><th>Driver log</th><th>Current session?</th></tr><tr><td>3734</td><td>application_1587988164357_0350</td><td>pyspark</td><td>idle</td><td><a target=\"_blank\" href=\"http://iccluster044.iccluster.epfl.ch:8088/proxy/application_1587988164357_0350/\">Link</a></td><td><a target=\"_blank\" href=\"http://iccluster069.iccluster.epfl.ch:8042/node/containerlogs/container_e05_1587988164357_0350_01_000001/ebouille\">Link</a></td><td>✔</td></tr></table>"
      ],
      "text/plain": [
       "<IPython.core.display.HTML object>"
      ]
     },
     "metadata": {},
     "output_type": "display_data"
    },
    {
     "data": {
      "application/vnd.jupyter.widget-view+json": {
       "model_id": "",
       "version_major": 2,
       "version_minor": 0
      },
      "text/plain": [
       "FloatProgress(value=0.0, bar_style='info', description='Progress:', layout=Layout(height='25px', width='50%'),…"
      ]
     },
     "metadata": {},
     "output_type": "display_data"
    },
    {
     "name": "stdout",
     "output_type": "stream",
     "text": [
      "SparkSession available as 'spark'.\n"
     ]
    },
    {
     "data": {
      "application/vnd.jupyter.widget-view+json": {
       "model_id": "",
       "version_major": 2,
       "version_minor": 0
      },
      "text/plain": [
       "FloatProgress(value=0.0, bar_style='info', description='Progress:', layout=Layout(height='25px', width='50%'),…"
      ]
     },
     "metadata": {},
     "output_type": "display_data"
    },
    {
     "name": "stdout",
     "output_type": "stream",
     "text": [
      "<pyspark.sql.session.SparkSession object at 0x7fcff65ca110>"
     ]
    }
   ],
   "source": [
    "spark"
   ]
  },
  {
   "cell_type": "code",
   "execution_count": 3,
   "metadata": {},
   "outputs": [
    {
     "data": {
      "text/html": [
       "Current session configs: <tt>{'driverMemory': '1000M', 'executorMemory': '4G', 'executorCores': 4, 'numExecutors': 10, 'kind': 'pyspark'}</tt><br>"
      ],
      "text/plain": [
       "<IPython.core.display.HTML object>"
      ]
     },
     "metadata": {},
     "output_type": "display_data"
    },
    {
     "data": {
      "text/html": [
       "<table>\n",
       "<tr><th>ID</th><th>YARN Application ID</th><th>Kind</th><th>State</th><th>Spark UI</th><th>Driver log</th><th>Current session?</th></tr><tr><td>3728</td><td>application_1587988164357_0344</td><td>pyspark</td><td>idle</td><td><a target=\"_blank\" href=\"http://iccluster044.iccluster.epfl.ch:8088/proxy/application_1587988164357_0344/\">Link</a></td><td><a target=\"_blank\" href=\"http://iccluster066.iccluster.epfl.ch:8042/node/containerlogs/container_e05_1587988164357_0344_01_000001/ebouille\">Link</a></td><td></td></tr><tr><td>3733</td><td>application_1587988164357_0349</td><td>pyspark</td><td>idle</td><td><a target=\"_blank\" href=\"http://iccluster044.iccluster.epfl.ch:8088/proxy/application_1587988164357_0349/\">Link</a></td><td><a target=\"_blank\" href=\"http://iccluster065.iccluster.epfl.ch:8042/node/containerlogs/container_e05_1587988164357_0349_01_000001/ebouille\">Link</a></td><td></td></tr><tr><td>3734</td><td>application_1587988164357_0350</td><td>pyspark</td><td>idle</td><td><a target=\"_blank\" href=\"http://iccluster044.iccluster.epfl.ch:8088/proxy/application_1587988164357_0350/\">Link</a></td><td><a target=\"_blank\" href=\"http://iccluster069.iccluster.epfl.ch:8042/node/containerlogs/container_e05_1587988164357_0350_01_000001/ebouille\">Link</a></td><td>✔</td></tr></table>"
      ],
      "text/plain": [
       "<IPython.core.display.HTML object>"
      ]
     },
     "metadata": {},
     "output_type": "display_data"
    }
   ],
   "source": [
    "%%info"
   ]
  },
  {
   "cell_type": "code",
   "execution_count": 4,
   "metadata": {},
   "outputs": [
    {
     "data": {
      "text/html": [
       "\n",
       "<table>\n",
       "  <tr>\n",
       "    <th>Magic</th>\n",
       "    <th>Example</th>\n",
       "    <th>Explanation</th>\n",
       "  </tr>\n",
       "  <tr>\n",
       "    <td>info</td>\n",
       "    <td>%%info</td>\n",
       "    <td>Outputs session information for the current Livy endpoint.</td>\n",
       "  </tr>\n",
       "  <tr>\n",
       "    <td>cleanup</td>\n",
       "    <td>%%cleanup -f</td>\n",
       "    <td>Deletes all sessions for the current Livy endpoint, including this notebook's session. The force flag is mandatory.</td>\n",
       "  </tr>\n",
       "  <tr>\n",
       "    <td>delete</td>\n",
       "    <td>%%delete -f -s 0</td>\n",
       "    <td>Deletes a session by number for the current Livy endpoint. Cannot delete this kernel's session.</td>\n",
       "  </tr>\n",
       "  <tr>\n",
       "    <td>logs</td>\n",
       "    <td>%%logs</td>\n",
       "    <td>Outputs the current session's Livy logs.</td>\n",
       "  </tr>\n",
       "  <tr>\n",
       "    <td>configure</td>\n",
       "    <td>%%configure -f<br/>{\"executorMemory\": \"1000M\", \"executorCores\": 4}</td>\n",
       "    <td>Configure the session creation parameters. The force flag is mandatory if a session has already been\n",
       "    created and the session will be dropped and recreated.<br/>Look at <a href=\"https://github.com/cloudera/livy#request-body\">\n",
       "    Livy's POST /sessions Request Body</a> for a list of valid parameters. Parameters must be passed in as a JSON string.</td>\n",
       "  </tr>\n",
       "  <tr>\n",
       "    <td>spark</td>\n",
       "    <td>%%spark -o df<br/>df = spark.read.parquet('...</td>\n",
       "    <td>Executes spark commands.\n",
       "    Parameters:\n",
       "      <ul>\n",
       "        <li>-o VAR_NAME: The Spark dataframe of name VAR_NAME will be available in the %%local Python context as a\n",
       "          <a href=\"http://pandas.pydata.org/\">Pandas</a> dataframe with the same name.</li>\n",
       "        <li>-m METHOD: Sample method, either <tt>take</tt> or <tt>sample</tt>.</li>\n",
       "        <li>-n MAXROWS: The maximum number of rows of a dataframe that will be pulled from Livy to Jupyter.\n",
       "            If this number is negative, then the number of rows will be unlimited.</li>\n",
       "        <li>-r FRACTION: Fraction used for sampling.</li>\n",
       "      </ul>\n",
       "    </td>\n",
       "  </tr>\n",
       "  <tr>\n",
       "    <td>sql</td>\n",
       "    <td>%%sql -o tables -q<br/>SHOW TABLES</td>\n",
       "    <td>Executes a SQL query against the variable sqlContext (Spark v1.x) or spark (Spark v2.x).\n",
       "    Parameters:\n",
       "      <ul>\n",
       "        <li>-o VAR_NAME: The result of the SQL query will be available in the %%local Python context as a\n",
       "          <a href=\"http://pandas.pydata.org/\">Pandas</a> dataframe.</li>\n",
       "        <li>-q: The magic will return None instead of the dataframe (no visualization).</li>\n",
       "        <li>-m, -n, -r are the same as the %%spark parameters above.</li>\n",
       "      </ul>\n",
       "    </td>\n",
       "  </tr>\n",
       "  <tr>\n",
       "    <td>local</td>\n",
       "    <td>%%local<br/>a = 1</td>\n",
       "    <td>All the code in subsequent lines will be executed locally. Code must be valid Python code.</td>\n",
       "  </tr>\n",
       "  <tr>\n",
       "    <td>send_to_spark</td>\n",
       "    <td>%%send_to_spark -o variable -t str -n var</td>\n",
       "    <td>Sends a variable from local output to spark cluster.\n",
       "    <br/>\n",
       "    Parameters:\n",
       "      <ul>\n",
       "        <li>-i VAR_NAME: Local Pandas DataFrame(or String) of name VAR_NAME will be available in the %%spark context as a \n",
       "          Spark dataframe(or String) with the same name.</li>\n",
       "        <li>-t TYPE: Specifies the type of variable passed as -i. Available options are:\n",
       "         `str` for string and `df` for Pandas DataFrame. Optional, defaults to `str`.</li>\n",
       "        <li>-n NAME: Custom name of variable passed as -i. Optional, defaults to -i variable name.</li>\n",
       "        <li>-m MAXROWS: Maximum amount of Pandas rows that will be sent to Spark. Defaults to 2500.</li>\n",
       "      </ul>\n",
       "    </td>\n",
       "  </tr>\n",
       "</table>\n"
      ],
      "text/plain": [
       "<IPython.core.display.HTML object>"
      ]
     },
     "metadata": {},
     "output_type": "display_data"
    }
   ],
   "source": [
    "%%help"
   ]
  },
  {
   "cell_type": "markdown",
   "metadata": {},
   "source": [
    "## PART I: Set up the hashtag `DataFrame` (10 points / 60)\n",
    "\n",
    "We have prepared the hashtag data spanning the time from May to July, 2016. This is a significant time in modern European history, e.g. see [Brexit](https://en.wikipedia.org/wiki/Brexit). Lets see if we can see any interesting trends about these events in the Twitter data. "
   ]
  },
  {
   "cell_type": "code",
   "execution_count": 5,
   "metadata": {
    "scrolled": true
   },
   "outputs": [
    {
     "data": {
      "application/vnd.jupyter.widget-view+json": {
       "model_id": "",
       "version_major": 2,
       "version_minor": 0
      },
      "text/plain": [
       "FloatProgress(value=0.0, bar_style='info', description='Progress:', layout=Layout(height='25px', width='50%'),…"
      ]
     },
     "metadata": {},
     "output_type": "display_data"
    }
   ],
   "source": [
    "import pyspark.sql.functions as functions"
   ]
  },
  {
   "cell_type": "markdown",
   "metadata": {},
   "source": [
    "### I.a: TODO (1 point/10)\n",
    "\n",
    "Load the **parquet** data from `/data/twitter/parquet/hashtags` into a Spark dataframe using the appropriate `SparkSession` method. \n",
    "\n",
    "Look at the first few rows of the dataset - note the timestamp and its units!"
   ]
  },
  {
   "cell_type": "code",
   "execution_count": 6,
   "metadata": {
    "scrolled": true
   },
   "outputs": [
    {
     "data": {
      "application/vnd.jupyter.widget-view+json": {
       "model_id": "",
       "version_major": 2,
       "version_minor": 0
      },
      "text/plain": [
       "FloatProgress(value=0.0, bar_style='info', description='Progress:', layout=Layout(height='25px', width='50%'),…"
      ]
     },
     "metadata": {},
     "output_type": "display_data"
    }
   ],
   "source": [
    "# TODO\n",
    "df = spark.read.parquet(\"/data/twitter/parquet/hashtags\")"
   ]
  },
  {
   "cell_type": "code",
   "execution_count": 7,
   "metadata": {},
   "outputs": [
    {
     "data": {
      "application/vnd.jupyter.widget-view+json": {
       "model_id": "",
       "version_major": 2,
       "version_minor": 0
      },
      "text/plain": [
       "FloatProgress(value=0.0, bar_style='info', description='Progress:', layout=Layout(height='25px', width='50%'),…"
      ]
     },
     "metadata": {},
     "output_type": "display_data"
    },
    {
     "name": "stdout",
     "output_type": "stream",
     "text": [
      "root\n",
      " |-- timestamp_s: long (nullable = true)\n",
      " |-- id: long (nullable = true)\n",
      " |-- lang: string (nullable = true)\n",
      " |-- hashtag: string (nullable = true)"
     ]
    }
   ],
   "source": [
    "df.printSchema()"
   ]
  },
  {
   "cell_type": "code",
   "execution_count": 8,
   "metadata": {
    "scrolled": true
   },
   "outputs": [
    {
     "data": {
      "application/vnd.jupyter.widget-view+json": {
       "model_id": "",
       "version_major": 2,
       "version_minor": 0
      },
      "text/plain": [
       "FloatProgress(value=0.0, bar_style='info', description='Progress:', layout=Layout(height='25px', width='50%'),…"
      ]
     },
     "metadata": {},
     "output_type": "display_data"
    },
    {
     "name": "stdout",
     "output_type": "stream",
     "text": [
      "+-----------+------------------+----+-----------------+\n",
      "|timestamp_s|                id|lang|          hashtag|\n",
      "+-----------+------------------+----+-----------------+\n",
      "| 1464768480|737918607980670976|  tr|          lovebts|\n",
      "| 1464768480|737918607980670976|  tr|            방탄소년단|\n",
      "| 1464768480|737918607963873281|  ja|          tokyofm|\n",
      "| 1464768480|737918607976452096|  en|          SotoBot|\n",
      "| 1464768480|737918607976497152|  en|           Fenton|\n",
      "| 1464768480|737918607976497152|  en|     vintageglass|\n",
      "| 1464768480|737918607976497152|  en|        glassbell|\n",
      "| 1464768480|737918607959719941|  en|          vintage|\n",
      "| 1464768480|737918607959719941|  en|            1970s|\n",
      "| 1464768480|737918607959719941|  en|              mod|\n",
      "| 1464768481|737918612158189568|  ar|        ابن_الغيم|\n",
      "| 1464768481|737918612158156802|  en|creativitybooster|\n",
      "| 1464768481|737918612158156802|  en|    growthhacking|\n",
      "| 1464768481|737918612158156802|  en| entrepreneurship|\n",
      "| 1464768481|737918612158222336|  en|    jewelryonetsy|\n",
      "| 1464768481|737918612158222336|  en|          Jetteam|\n",
      "| 1464768481|737918612162392064|  en|       TeenChoice|\n",
      "| 1464768481|737918612162392064|  en| ChoiceMaleHottie|\n",
      "| 1464768481|737918612149829632|  en|       NowPlaying|\n",
      "| 1464768481|737918612149829632|  en|             Maui|\n",
      "+-----------+------------------+----+-----------------+\n",
      "only showing top 20 rows"
     ]
    }
   ],
   "source": [
    "df.show()"
   ]
  },
  {
   "cell_type": "markdown",
   "metadata": {},
   "source": [
    "### User-defined functions\n",
    "\n",
    "A neat trick of spark dataframes is that you can essentially use something very much like an RDD `map` method but without switching to the RDD. If you are familiar with database languages, this works very much like e.g. a user-defined function in SQL. \n",
    "\n",
    "So, for example, if we wanted to make a user-defined python function that returns the hashtags in lowercase, we could do something like this:"
   ]
  },
  {
   "cell_type": "code",
   "execution_count": 9,
   "metadata": {
    "scrolled": true
   },
   "outputs": [
    {
     "data": {
      "application/vnd.jupyter.widget-view+json": {
       "model_id": "",
       "version_major": 2,
       "version_minor": 0
      },
      "text/plain": [
       "FloatProgress(value=0.0, bar_style='info', description='Progress:', layout=Layout(height='25px', width='50%'),…"
      ]
     },
     "metadata": {},
     "output_type": "display_data"
    }
   ],
   "source": [
    "@functions.udf\n",
    "def lowercase(text):\n",
    "    \"\"\"Convert text to lowercase\"\"\"\n",
    "    return text.lower()"
   ]
  },
  {
   "cell_type": "markdown",
   "metadata": {},
   "source": [
    "The @functions.udf is a \"decorator\" -- this is really handy python syntactic sugar and in this case is equivalent to:\n",
    "\n",
    "```python\n",
    "def lowercase(text):\n",
    "    return text.lower()\n",
    "    \n",
    "lowercase = functions.udf(lowercase)\n",
    "```\n",
    "\n",
    "It basically takes our function and adds to its functionality. In this case, it registers our function as a pyspark dataframe user-defined function (UDF).\n",
    "\n",
    "Using these UDFs is very straightforward and analogous to other Spark dataframe operations. For example:"
   ]
  },
  {
   "cell_type": "code",
   "execution_count": 10,
   "metadata": {
    "scrolled": true
   },
   "outputs": [
    {
     "data": {
      "application/vnd.jupyter.widget-view+json": {
       "model_id": "",
       "version_major": 2,
       "version_minor": 0
      },
      "text/plain": [
       "FloatProgress(value=0.0, bar_style='info', description='Progress:', layout=Layout(height='25px', width='50%'),…"
      ]
     },
     "metadata": {},
     "output_type": "display_data"
    },
    {
     "name": "stdout",
     "output_type": "stream",
     "text": [
      "+------------------+\n",
      "|lowercase(hashtag)|\n",
      "+------------------+\n",
      "|           lovebts|\n",
      "|             방탄소년단|\n",
      "|           tokyofm|\n",
      "|           sotobot|\n",
      "|            fenton|\n",
      "|      vintageglass|\n",
      "|         glassbell|\n",
      "|           vintage|\n",
      "|             1970s|\n",
      "|               mod|\n",
      "|         ابن_الغيم|\n",
      "| creativitybooster|\n",
      "|     growthhacking|\n",
      "|  entrepreneurship|\n",
      "|     jewelryonetsy|\n",
      "|           jetteam|\n",
      "|        teenchoice|\n",
      "|  choicemalehottie|\n",
      "|        nowplaying|\n",
      "|              maui|\n",
      "+------------------+\n",
      "only showing top 20 rows"
     ]
    }
   ],
   "source": [
    "df.select(lowercase(df.hashtag)).show()"
   ]
  },
  {
   "cell_type": "markdown",
   "metadata": {},
   "source": [
    "Using a framework like Spark is all about understanding the ins and outs of how it functions and knowing what it offers. One of the cool things about the dataframe API is that many functions are already defined for you (turning strings into lowercase being one of them). \n",
    "\n",
    "### I.b: TODO (2 points / 10)\n",
    "\n",
    "Find the [Spark python API documentation](https://spark.apache.org/docs/latest/api/python/index.html). Look for the `sql` section and find the listing of `sql.functions`. Repeat the above (turning hashtags into lowercase) but use the built-in function."
   ]
  },
  {
   "cell_type": "code",
   "execution_count": 11,
   "metadata": {
    "scrolled": true
   },
   "outputs": [
    {
     "data": {
      "application/vnd.jupyter.widget-view+json": {
       "model_id": "",
       "version_major": 2,
       "version_minor": 0
      },
      "text/plain": [
       "FloatProgress(value=0.0, bar_style='info', description='Progress:', layout=Layout(height='25px', width='50%'),…"
      ]
     },
     "metadata": {},
     "output_type": "display_data"
    },
    {
     "name": "stdout",
     "output_type": "stream",
     "text": [
      "+-----------------+\n",
      "|   lower(hashtag)|\n",
      "+-----------------+\n",
      "|          lovebts|\n",
      "|            방탄소년단|\n",
      "|          tokyofm|\n",
      "|          sotobot|\n",
      "|           fenton|\n",
      "|     vintageglass|\n",
      "|        glassbell|\n",
      "|          vintage|\n",
      "|            1970s|\n",
      "|              mod|\n",
      "|        ابن_الغيم|\n",
      "|creativitybooster|\n",
      "|    growthhacking|\n",
      "| entrepreneurship|\n",
      "|    jewelryonetsy|\n",
      "|          jetteam|\n",
      "|       teenchoice|\n",
      "| choicemalehottie|\n",
      "|       nowplaying|\n",
      "|             maui|\n",
      "+-----------------+\n",
      "only showing top 20 rows"
     ]
    }
   ],
   "source": [
    "df.select(functions.lower(df.hashtag)).show()"
   ]
  },
  {
   "cell_type": "markdown",
   "metadata": {},
   "source": [
    "We'll work with a combination of these built-in functions and user-defined functions for the remainder of this homework. \n",
    "\n",
    "### I.c: TODO (3 points/10)\n",
    "\n",
    "Create `english_df` consisting of **lowercase** hashtags from only english-language tweets. In addition, convert the timestamp to a more readable format like this and name the column `date`:\n",
    "\n",
    "```\n",
    "2016-05-01 08:30:00\n",
    "```"
   ]
  },
  {
   "cell_type": "markdown",
   "metadata": {},
   "source": [
    "Your `english_df` should look something like this:\n",
    "\n",
    "```\n",
    "+-----------+----+------------+-------------------+\n",
    "|timestamp_s|lang|     hashtag|               date|\n",
    "+-----------+----+------------+-------------------+\n",
    "| 1464768480|  en|     sotobot|2016-06-01 10:08:00|\n",
    "| 1464768480|  en|      fenton|2016-06-01 10:08:00|\n",
    "| 1464768480|  en|vintageglass|2016-06-01 10:08:00|\n",
    "| 1464768480|  en|   glassbell|2016-06-01 10:08:00|\n",
    "| 1464768480|  en|     vintage|2016-06-01 10:08:00|\n",
    "+-----------+----+------------+-------------------+\n",
    "```"
   ]
  },
  {
   "cell_type": "code",
   "execution_count": 12,
   "metadata": {
    "scrolled": true
   },
   "outputs": [
    {
     "data": {
      "application/vnd.jupyter.widget-view+json": {
       "model_id": "",
       "version_major": 2,
       "version_minor": 0
      },
      "text/plain": [
       "FloatProgress(value=0.0, bar_style='info', description='Progress:', layout=Layout(height='25px', width='50%'),…"
      ]
     },
     "metadata": {},
     "output_type": "display_data"
    },
    {
     "name": "stdout",
     "output_type": "stream",
     "text": [
      "+-----------+----+------------------+-------------------+\n",
      "|timestamp_s|lang|           hashtag|               date|\n",
      "+-----------+----+------------------+-------------------+\n",
      "| 1464768480|  en|           sotobot|2016-06-01 10:08:00|\n",
      "| 1464768480|  en|            fenton|2016-06-01 10:08:00|\n",
      "| 1464768480|  en|      vintageglass|2016-06-01 10:08:00|\n",
      "| 1464768480|  en|         glassbell|2016-06-01 10:08:00|\n",
      "| 1464768480|  en|           vintage|2016-06-01 10:08:00|\n",
      "| 1464768480|  en|             1970s|2016-06-01 10:08:00|\n",
      "| 1464768480|  en|               mod|2016-06-01 10:08:00|\n",
      "| 1464768481|  en| creativitybooster|2016-06-01 10:08:01|\n",
      "| 1464768481|  en|     growthhacking|2016-06-01 10:08:01|\n",
      "| 1464768481|  en|  entrepreneurship|2016-06-01 10:08:01|\n",
      "| 1464768481|  en|     jewelryonetsy|2016-06-01 10:08:01|\n",
      "| 1464768481|  en|           jetteam|2016-06-01 10:08:01|\n",
      "| 1464768481|  en|        teenchoice|2016-06-01 10:08:01|\n",
      "| 1464768481|  en|  choicemalehottie|2016-06-01 10:08:01|\n",
      "| 1464768481|  en|        nowplaying|2016-06-01 10:08:01|\n",
      "| 1464768481|  en|              maui|2016-06-01 10:08:01|\n",
      "| 1464768481|  en|    24hnurburgring|2016-06-01 10:08:01|\n",
      "| 1464768481|  en|           porsche|2016-06-01 10:08:01|\n",
      "| 1464768481|  en|caymangt4clubsport|2016-06-01 10:08:01|\n",
      "| 1464768481|  en|   artificialgrass|2016-06-01 10:08:01|\n",
      "+-----------+----+------------------+-------------------+\n",
      "only showing top 20 rows"
     ]
    }
   ],
   "source": [
    "english_df = df.select(df.timestamp_s, df.lang, functions.lower(df.hashtag).alias('hashtag'), \n",
    "                       functions.to_timestamp(df.timestamp_s).alias('date')).where(df.lang == 'en')\n",
    "english_df.show()"
   ]
  },
  {
   "cell_type": "markdown",
   "metadata": {},
   "source": [
    "### I.d: TODO (4 points/10)\n",
    "\n",
    "We \"claim\" the data contains all twitters from May to July 2017, however, that's not true. Check which (date, hour) are in `english_df` and which are missing, e.g. 2016-05-01, 10h is in the dataframe while 2016-04-01, 10h not."
   ]
  },
  {
   "cell_type": "markdown",
   "metadata": {},
   "source": [
    "The (date, hour) tuples that are present in the dataset:"
   ]
  },
  {
   "cell_type": "code",
   "execution_count": 13,
   "metadata": {},
   "outputs": [
    {
     "data": {
      "application/vnd.jupyter.widget-view+json": {
       "model_id": "",
       "version_major": 2,
       "version_minor": 0
      },
      "text/plain": [
       "FloatProgress(value=0.0, bar_style='info', description='Progress:', layout=Layout(height='25px', width='50%'),…"
      ]
     },
     "metadata": {},
     "output_type": "display_data"
    },
    {
     "name": "stdout",
     "output_type": "stream",
     "text": [
      "+--------------+\n",
      "|  (date, hour)|\n",
      "+--------------+\n",
      "|2016-05-01, 10|\n",
      "|2016-05-01, 11|\n",
      "|2016-05-01, 12|\n",
      "|2016-05-01, 13|\n",
      "|2016-05-01, 14|\n",
      "|2016-05-01, 15|\n",
      "|2016-05-01, 16|\n",
      "|2016-05-01, 17|\n",
      "|2016-05-01, 18|\n",
      "|2016-05-01, 19|\n",
      "|2016-05-01, 20|\n",
      "|2016-05-01, 21|\n",
      "|2016-05-01, 22|\n",
      "|2016-05-01, 23|\n",
      "| 2016-05-01, 8|\n",
      "| 2016-05-01, 9|\n",
      "| 2016-05-02, 0|\n",
      "|2016-05-02, 15|\n",
      "|2016-05-02, 16|\n",
      "|2016-05-02, 17|\n",
      "|2016-05-02, 18|\n",
      "|2016-05-02, 19|\n",
      "|2016-05-02, 20|\n",
      "|2016-05-02, 21|\n",
      "|2016-05-02, 22|\n",
      "|2016-05-02, 23|\n",
      "| 2016-05-02, 5|\n",
      "| 2016-05-02, 6|\n",
      "| 2016-05-02, 7|\n",
      "| 2016-05-03, 0|\n",
      "| 2016-05-03, 1|\n",
      "|2016-05-03, 10|\n",
      "|2016-05-03, 11|\n",
      "|2016-05-03, 12|\n",
      "|2016-05-03, 13|\n",
      "|2016-05-03, 14|\n",
      "|2016-05-03, 15|\n",
      "|2016-05-03, 16|\n",
      "|2016-05-03, 17|\n",
      "|2016-05-03, 18|\n",
      "|2016-05-03, 19|\n",
      "| 2016-05-03, 2|\n",
      "|2016-05-03, 20|\n",
      "|2016-05-03, 21|\n",
      "|2016-05-03, 22|\n",
      "|2016-05-03, 23|\n",
      "| 2016-05-03, 3|\n",
      "| 2016-05-03, 4|\n",
      "| 2016-05-03, 5|\n",
      "| 2016-05-03, 6|\n",
      "+--------------+\n",
      "only showing top 50 rows"
     ]
    }
   ],
   "source": [
    "# lit: takes the argument literally. E.g. for concatenating strings\n",
    "# Ordering of hours is as follows: 0, 1, 10, 11, ..., 19, 2, 20, 21, 22, 23, 3, 4, 5, ..., 9 (which makes perfect sense)\n",
    "# I guess there is a typo - the year has to be 2016 instead of 2017. I couldn't find any results for the year 2017.\n",
    "tmp = \\\n",
    "english_df.select(english_df.date, functions.concat(functions.to_date(english_df.date), \n",
    "                                   functions.lit(', '), \n",
    "                                   functions.hour(english_df.date)).alias('(date, hour)')) \\\n",
    "    .where(english_df.date.between('2016-05-01', '2016-07-31')).drop('date').distinct().orderBy('(date, hour)')\n",
    "tmp.show(50)"
   ]
  },
  {
   "cell_type": "code",
   "execution_count": 14,
   "metadata": {},
   "outputs": [
    {
     "data": {
      "application/vnd.jupyter.widget-view+json": {
       "model_id": "",
       "version_major": 2,
       "version_minor": 0
      },
      "text/plain": [
       "FloatProgress(value=0.0, bar_style='info', description='Progress:', layout=Layout(height='25px', width='50%'),…"
      ]
     },
     "metadata": {},
     "output_type": "display_data"
    }
   ],
   "source": [
    "import pandas as pd\n",
    "import numpy as np\n",
    "tweetdates = tmp.toPandas()"
   ]
  },
  {
   "cell_type": "code",
   "execution_count": 15,
   "metadata": {},
   "outputs": [
    {
     "data": {
      "application/vnd.jupyter.widget-view+json": {
       "model_id": "",
       "version_major": 2,
       "version_minor": 0
      },
      "text/plain": [
       "FloatProgress(value=0.0, bar_style='info', description='Progress:', layout=Layout(height='25px', width='50%'),…"
      ]
     },
     "metadata": {},
     "output_type": "display_data"
    }
   ],
   "source": [
    "dic = {}\n",
    "datehour = '(date, hour)'\n",
    "arr = []\n",
    "datetimerange = pd.date_range(start='2016-05-01', end='2016-07-31').date\n",
    "for i in datetimerange:\n",
    "    for hour in range(24):\n",
    "        arr.append(str(i) + ', ' + str(hour))\n",
    "dic[datehour] = arr\n",
    "containsall = pd.DataFrame(dic)"
   ]
  },
  {
   "cell_type": "code",
   "execution_count": 16,
   "metadata": {},
   "outputs": [
    {
     "data": {
      "application/vnd.jupyter.widget-view+json": {
       "model_id": "",
       "version_major": 2,
       "version_minor": 0
      },
      "text/plain": [
       "FloatProgress(value=0.0, bar_style='info', description='Progress:', layout=Layout(height='25px', width='50%'),…"
      ]
     },
     "metadata": {},
     "output_type": "display_data"
    },
    {
     "name": "stdout",
     "output_type": "stream",
     "text": [
      "(day, hour) pairs that are not present in the dataset: \n",
      "\n",
      "2016-05-01, 0\n",
      "2016-05-01, 1\n",
      "2016-05-01, 2\n",
      "2016-05-01, 3\n",
      "2016-05-01, 4\n",
      "2016-05-01, 5\n",
      "2016-05-01, 6\n",
      "2016-05-01, 7\n",
      "2016-05-02, 1\n",
      "2016-05-02, 2\n",
      "2016-05-02, 3\n",
      "2016-05-02, 4\n",
      "2016-05-02, 8\n",
      "2016-05-02, 9\n",
      "2016-05-02, 10\n",
      "2016-05-02, 11\n",
      "2016-05-02, 12\n",
      "2016-05-02, 13\n",
      "2016-05-02, 14\n",
      "2016-05-27, 8\n",
      "2016-05-27, 9\n",
      "2016-05-27, 10\n",
      "2016-05-27, 11\n",
      "2016-05-27, 12\n",
      "2016-05-27, 13\n",
      "2016-05-27, 14\n",
      "2016-05-27, 15\n",
      "2016-06-02, 8\n",
      "2016-06-02, 9\n",
      "2016-06-02, 10\n",
      "2016-06-02, 11\n",
      "2016-06-02, 12\n",
      "2016-06-02, 13\n",
      "2016-06-02, 14\n",
      "2016-06-02, 15\n",
      "2016-06-02, 16\n",
      "2016-06-02, 17\n",
      "2016-06-02, 18\n",
      "2016-06-02, 19\n",
      "2016-06-02, 20\n",
      "2016-06-02, 21\n",
      "2016-06-02, 22\n",
      "2016-06-02, 23\n",
      "2016-06-03, 0\n",
      "2016-06-03, 1\n",
      "2016-06-03, 2\n",
      "2016-06-03, 3\n",
      "2016-06-03, 4\n",
      "2016-06-03, 5\n",
      "2016-06-03, 6\n",
      "2016-06-03, 7\n",
      "2016-06-03, 8\n",
      "2016-06-03, 9\n",
      "2016-06-03, 10\n",
      "2016-06-03, 11\n",
      "2016-06-03, 12\n",
      "2016-06-03, 13\n",
      "2016-06-03, 14\n",
      "2016-06-03, 15\n",
      "2016-06-03, 16\n",
      "2016-06-03, 17\n",
      "2016-06-03, 18\n",
      "2016-06-03, 19\n",
      "2016-06-03, 20\n",
      "2016-06-03, 21\n",
      "2016-06-03, 22\n",
      "2016-06-03, 23\n",
      "2016-06-04, 0\n",
      "2016-06-04, 1\n",
      "2016-06-04, 2\n",
      "2016-06-04, 3\n",
      "2016-06-04, 4\n",
      "2016-06-04, 5\n",
      "2016-06-04, 6\n",
      "2016-06-04, 7\n",
      "2016-06-04, 8\n",
      "2016-06-04, 9\n",
      "2016-06-04, 10\n",
      "2016-06-04, 11\n",
      "2016-06-04, 12\n",
      "2016-06-04, 13\n",
      "2016-06-04, 14\n",
      "2016-06-04, 15\n",
      "2016-06-04, 16\n",
      "2016-06-04, 17\n",
      "2016-06-04, 18\n",
      "2016-06-04, 19\n",
      "2016-06-04, 20\n",
      "2016-06-04, 21\n",
      "2016-06-04, 22\n",
      "2016-06-04, 23\n",
      "2016-06-05, 0\n",
      "2016-06-05, 1\n",
      "2016-06-05, 2\n",
      "2016-06-05, 3\n",
      "2016-06-05, 4\n",
      "2016-06-05, 5\n",
      "2016-06-05, 6\n",
      "2016-06-05, 7\n",
      "2016-06-05, 8\n",
      "2016-06-05, 9\n",
      "2016-06-05, 10\n",
      "2016-06-05, 11\n",
      "2016-06-05, 12\n",
      "2016-06-05, 13\n",
      "2016-06-05, 14\n",
      "2016-06-05, 15\n",
      "2016-06-05, 16\n",
      "2016-06-05, 17\n",
      "2016-06-05, 18\n",
      "2016-06-05, 19\n",
      "2016-06-05, 20\n",
      "2016-06-05, 21\n",
      "2016-06-05, 22\n",
      "2016-06-05, 23\n",
      "2016-06-06, 0\n",
      "2016-06-06, 1\n",
      "2016-06-06, 2\n",
      "2016-06-06, 3\n",
      "2016-06-06, 4\n",
      "2016-06-06, 5\n",
      "2016-06-06, 6\n",
      "2016-06-06, 7\n",
      "2016-06-06, 8\n",
      "2016-06-06, 9\n",
      "2016-06-06, 10\n",
      "2016-06-06, 11\n",
      "2016-06-06, 12\n",
      "2016-06-06, 13\n",
      "2016-06-06, 14\n",
      "2016-06-06, 15\n",
      "2016-06-06, 16\n",
      "2016-06-06, 17\n",
      "2016-06-06, 18\n",
      "2016-06-06, 19\n",
      "2016-06-06, 20\n",
      "2016-06-06, 21\n",
      "2016-06-06, 22\n",
      "2016-06-06, 23\n",
      "2016-06-07, 0\n",
      "2016-06-07, 1\n",
      "2016-06-07, 2\n",
      "2016-06-07, 3\n",
      "2016-06-07, 4\n",
      "2016-06-07, 5\n",
      "2016-06-07, 6\n",
      "2016-06-07, 7\n",
      "2016-06-07, 8\n",
      "2016-06-07, 9\n",
      "2016-06-07, 10\n",
      "2016-06-07, 11\n",
      "2016-06-07, 12\n",
      "2016-06-07, 13\n",
      "2016-06-07, 14\n",
      "2016-06-07, 15\n",
      "2016-06-07, 16\n",
      "2016-06-07, 17\n",
      "2016-06-07, 18\n",
      "2016-06-07, 19\n",
      "2016-06-08, 18\n",
      "2016-06-08, 19\n",
      "2016-06-08, 20\n",
      "2016-06-08, 22\n",
      "2016-06-16, 15\n",
      "2016-06-16, 16\n",
      "2016-06-16, 17\n",
      "2016-06-16, 18\n",
      "2016-06-16, 19\n",
      "2016-06-16, 20\n",
      "2016-06-16, 21\n",
      "2016-06-16, 22\n",
      "2016-06-16, 23\n",
      "2016-06-17, 0\n",
      "2016-06-17, 1\n",
      "2016-06-17, 2\n",
      "2016-06-17, 3\n",
      "2016-06-17, 4\n",
      "2016-06-17, 5\n",
      "2016-06-17, 6\n",
      "2016-06-17, 7\n",
      "2016-06-17, 8\n",
      "2016-06-17, 9\n",
      "2016-06-17, 10\n",
      "2016-06-17, 11\n",
      "2016-06-17, 12\n",
      "2016-06-17, 13\n",
      "2016-06-17, 14\n",
      "2016-06-17, 15\n",
      "2016-06-17, 16\n",
      "2016-06-17, 17\n",
      "2016-06-17, 18\n",
      "2016-06-17, 19\n",
      "2016-06-17, 20\n",
      "2016-06-17, 21\n",
      "2016-06-17, 22\n",
      "2016-06-17, 23\n",
      "2016-07-31, 0\n",
      "2016-07-31, 1\n",
      "2016-07-31, 2\n",
      "2016-07-31, 3\n",
      "2016-07-31, 4\n",
      "2016-07-31, 5\n",
      "2016-07-31, 6\n",
      "2016-07-31, 7\n",
      "2016-07-31, 8\n",
      "2016-07-31, 9\n",
      "2016-07-31, 10\n",
      "2016-07-31, 11\n",
      "2016-07-31, 12\n",
      "2016-07-31, 13\n",
      "2016-07-31, 14\n",
      "2016-07-31, 15\n",
      "2016-07-31, 16\n",
      "2016-07-31, 17\n",
      "2016-07-31, 18\n",
      "2016-07-31, 19\n",
      "2016-07-31, 20\n",
      "2016-07-31, 21\n",
      "2016-07-31, 22\n",
      "2016-07-31, 23"
     ]
    }
   ],
   "source": [
    "mydict = {}\n",
    "nonexistent = []\n",
    "for i in tweetdates.values[:,0]:\n",
    "    mydict[i] = True\n",
    "for i in containsall.values[:,0]:\n",
    "    if i in mydict:\n",
    "        pass\n",
    "    else:\n",
    "        nonexistent.append(i)\n",
    "        mydict[i] = True\n",
    "\n",
    "print('(day, hour) pairs that are not present in the dataset: \\n')\n",
    "for i in nonexistent:\n",
    "    print(i)"
   ]
  },
  {
   "cell_type": "markdown",
   "metadata": {},
   "source": [
    "## PART II: Twitter hashtag trends (50 points / 60)\n",
    "\n",
    "In this section we will try to do a slightly more complicated analysis of the tweets. Our goal is to get an idea of tweet frequency as a function of time for certain hashtags. \n",
    "\n",
    "Lets build this up in steps. First, lets see how we can start to organize the tweets by their timestamps. \n",
    "\n",
    "As a first easy example, lets say we just want to count the number of tweets per minute over the entire span of our data. For this, we first need a \"global\" minute value, e.g. \"minute of the year\" or something similar. \n",
    "\n",
    "Spark provides us with some handy built-in dataframe functions that are made for transforming date and time fields. \n",
    "\n",
    "Have a look [here](http://spark.apache.org/docs/latest/api/python/pyspark.sql.html#module-pyspark.sql.functions) to see the whole list of custom dataframe functions - you will need to use them to complete the next set of TODO items."
   ]
  },
  {
   "cell_type": "markdown",
   "metadata": {},
   "source": [
    "Note that the functions can be combined. Consider the following dataframe and its transformation:"
   ]
  },
  {
   "cell_type": "code",
   "execution_count": 17,
   "metadata": {
    "scrolled": true
   },
   "outputs": [
    {
     "data": {
      "application/vnd.jupyter.widget-view+json": {
       "model_id": "",
       "version_major": 2,
       "version_minor": 0
      },
      "text/plain": [
       "FloatProgress(value=0.0, bar_style='info', description='Progress:', layout=Layout(height='25px', width='50%'),…"
      ]
     },
     "metadata": {},
     "output_type": "display_data"
    },
    {
     "name": "stdout",
     "output_type": "stream",
     "text": [
      "+---------------------+\n",
      "|SIN(RADIANS(degrees))|\n",
      "+---------------------+\n",
      "|                  0.0|\n",
      "|  0.01745240643728351|\n",
      "|  0.03489949670250097|\n",
      "|  0.05233595624294383|\n",
      "|   0.0697564737441253|\n",
      "|  0.08715574274765817|\n",
      "|  0.10452846326765346|\n",
      "|  0.12186934340514748|\n",
      "|  0.13917310096006544|\n",
      "|  0.15643446504023087|\n",
      "|  0.17364817766693033|\n",
      "|   0.1908089953765448|\n",
      "|  0.20791169081775931|\n",
      "|  0.22495105434386498|\n",
      "|  0.24192189559966773|\n",
      "|  0.25881904510252074|\n",
      "|  0.27563735581699916|\n",
      "|   0.2923717047227367|\n",
      "|   0.3090169943749474|\n",
      "|   0.3255681544571567|\n",
      "+---------------------+\n",
      "only showing top 20 rows"
     ]
    }
   ],
   "source": [
    "from pyspark.sql import Row\n",
    "\n",
    "# create a sample dataframe with one column \"degrees\" going from 0 to 180\n",
    "test_df = spark.createDataFrame(spark.sparkContext.range(180).map(lambda x: Row(degrees=x)), ['degrees'])\n",
    "\n",
    "# define a function \"sin_rad\" that first converts degrees to radians and then takes the sine using built-in functions\n",
    "sin_rad = functions.sin(functions.radians(test_df.degrees))\n",
    "\n",
    "# show the result\n",
    "test_df.select(sin_rad).show()"
   ]
  },
  {
   "cell_type": "markdown",
   "metadata": {},
   "source": [
    "### DataFrames `groupBy`\n",
    "\n",
    "We used `groupBy` already in the previous notebook, but here we will take more advantage of its features. \n",
    "\n",
    "One important thing to note is that unlike other RDD or DataFrame transformations, the `groupBy` does not return another DataFrame, but a `GroupedData` object instead, with its own methods. These methods allow you to do various transformations and aggregations on the data of the grouped rows. \n",
    "\n",
    "Conceptually the procedure is a lot like this:\n",
    "\n",
    "![groupby](https://i.stack.imgur.com/sgCn1.jpg)\n",
    "\n",
    "The column that is used for the `groupBy` is the `key` - once we have the values of a particular key all together, we can use various aggregation functions on them to generate a transformed dataset. In this example, the aggregation function is a simple `sum`. In the simple procedure below, the `key` will be the hashtag."
   ]
  },
  {
   "cell_type": "markdown",
   "metadata": {},
   "source": [
    "### II.a: TODO (1 point / 50)\n",
    "\n",
    "Calculate the top five most common hashtags in the whole english-language dataset.\n",
    "\n",
    "This should be your result:\n",
    "\n",
    "```\n",
    "+-------------+------+\n",
    "|      hashtag| count|\n",
    "+-------------+------+\n",
    "|   mtvhottest|800527|\n",
    "|veranomtv2016|539028|\n",
    "|   teenchoice|345208|\n",
    "|   nowplaying|178561|\n",
    "|  gameinsight|165237|\n",
    "+-------------+------+\n",
    "```"
   ]
  },
  {
   "cell_type": "code",
   "execution_count": 18,
   "metadata": {
    "scrolled": true
   },
   "outputs": [
    {
     "data": {
      "application/vnd.jupyter.widget-view+json": {
       "model_id": "",
       "version_major": 2,
       "version_minor": 0
      },
      "text/plain": [
       "FloatProgress(value=0.0, bar_style='info', description='Progress:', layout=Layout(height='25px', width='50%'),…"
      ]
     },
     "metadata": {},
     "output_type": "display_data"
    },
    {
     "name": "stdout",
     "output_type": "stream",
     "text": [
      "+-------------+------+\n",
      "|      hashtag| count|\n",
      "+-------------+------+\n",
      "|   mtvhottest|800527|\n",
      "|veranomtv2016|539028|\n",
      "|   teenchoice|345208|\n",
      "|   nowplaying|178561|\n",
      "|  gameinsight|165237|\n",
      "+-------------+------+\n",
      "only showing top 5 rows"
     ]
    }
   ],
   "source": [
    "english_df.groupBy('hashtag').count().orderBy('count', ascending=False).show(5)"
   ]
  },
  {
   "cell_type": "markdown",
   "metadata": {},
   "source": [
    "## Daily hashtag trends\n",
    "\n",
    "Now we will start to complicate the analysis a bit. Remember, our goal is to uncover trending topics on a timescale of a few days. A much needed column then is simply `day`. To convert the date string into day-of-year, you can use the built-in [dayofyear](http://spark.apache.org/docs/latest/api/python/pyspark.sql.html#pyspark.sql.functions.dayofyear) function. \n",
    "\n",
    "In the subsequent sections we will then not only see which hashtags are globally most popular, but which ones experience the biggest changes in popularity - those are the \"trending\" topics. If there is suddenly a substantial increase of a hashtag over a matter of a day or two, it may signify an event taking place. "
   ]
  },
  {
   "cell_type": "markdown",
   "metadata": {},
   "source": [
    "### II.b: TODO (2 points / 50)\n",
    "\n",
    "Create a dataframe called `daily_hashtag` that includes the columns `month`, `week`, `day` and `hashtag`. Use the `english_df` you made above to start, and make sure you find the appropriate spark dataframe functions to make your life easier. Show the result.\n",
    "\n",
    "Try to match this view:\n",
    "\n",
    "```\n",
    "+-----+----+---+------------+\n",
    "|month|week|day|     hashtag|\n",
    "+-----+----+---+------------+\n",
    "|    6|  22|153|     sotobot|\n",
    "|    6|  22|153|      fenton|\n",
    "|    6|  22|153|vintageglass|\n",
    "|    6|  22|153|   glassbell|\n",
    "|    6|  22|153|     vintage|\n",
    "+-----+----+---+------------+\n",
    "```"
   ]
  },
  {
   "cell_type": "code",
   "execution_count": 19,
   "metadata": {
    "scrolled": true
   },
   "outputs": [
    {
     "data": {
      "application/vnd.jupyter.widget-view+json": {
       "model_id": "",
       "version_major": 2,
       "version_minor": 0
      },
      "text/plain": [
       "FloatProgress(value=0.0, bar_style='info', description='Progress:', layout=Layout(height='25px', width='50%'),…"
      ]
     },
     "metadata": {},
     "output_type": "display_data"
    },
    {
     "name": "stdout",
     "output_type": "stream",
     "text": [
      "+-----+----+---+------------+\n",
      "|month|week|day|     hashtag|\n",
      "+-----+----+---+------------+\n",
      "|    6|  22|153|     sotobot|\n",
      "|    6|  22|153|      fenton|\n",
      "|    6|  22|153|vintageglass|\n",
      "|    6|  22|153|   glassbell|\n",
      "|    6|  22|153|     vintage|\n",
      "+-----+----+---+------------+\n",
      "only showing top 5 rows"
     ]
    }
   ],
   "source": [
    "daily_hashtag = english_df.select(functions.month(english_df.date).alias('month'),\n",
    "                                  functions.weekofyear(english_df.date).alias('week'),\n",
    "                                  functions.dayofyear(english_df.date).alias('day'),\n",
    "                                  english_df.hashtag)\n",
    "daily_hashtag.show(5)"
   ]
  },
  {
   "cell_type": "markdown",
   "metadata": {},
   "source": [
    "### II.c: TODO (2 points / 50)\n",
    "\n",
    "Now we want to calculate the number of times a hashtag is used per day. Sort in descending order of daily counts and show the result. Call the resulting dataframe `day_counts`.\n",
    "\n",
    "Your output should look like this:\n",
    "\n",
    "```\n",
    "+---+----------+----+-----+\n",
    "|day|   hashtag|week|count|\n",
    "+---+----------+----+-----+\n",
    "|204|mtvhottest|  29|66372|\n",
    "|205|mtvhottest|  29|63495|\n",
    "|207|mtvhottest|  30|60768|\n",
    "|208|mtvhottest|  30|59065|\n",
    "|199|mtvhottest|  28|57956|\n",
    "+---+----------+----+-----+\n",
    "```\n",
    "\n",
    "<div class=\"alert alert-info\">\n",
    "<p>Make sure you use `cache()` when you create `day_counts` because we will need it in the steps that follow!</p>\n",
    "</div>"
   ]
  },
  {
   "cell_type": "code",
   "execution_count": 20,
   "metadata": {},
   "outputs": [
    {
     "data": {
      "application/vnd.jupyter.widget-view+json": {
       "model_id": "",
       "version_major": 2,
       "version_minor": 0
      },
      "text/plain": [
       "FloatProgress(value=0.0, bar_style='info', description='Progress:', layout=Layout(height='25px', width='50%'),…"
      ]
     },
     "metadata": {},
     "output_type": "display_data"
    },
    {
     "name": "stdout",
     "output_type": "stream",
     "text": [
      "+---+----------+----+-----+\n",
      "|day|   hashtag|week|count|\n",
      "+---+----------+----+-----+\n",
      "|207|     evere|  30|    1|\n",
      "|207|cryforever|  30|    1|\n",
      "|127|  nsxperia|  18|    1|\n",
      "|149| somuchwin|  21|    1|\n",
      "|171|   saikung|  24|    1|\n",
      "+---+----------+----+-----+\n",
      "only showing top 5 rows"
     ]
    }
   ],
   "source": [
    "day_counts = daily_hashtag.groupBy(['day', 'hashtag', 'week']).count().orderBy('count', ascending=True).cache()\n",
    "day_counts.show(5)"
   ]
  },
  {
   "cell_type": "markdown",
   "metadata": {},
   "source": [
    "### II.d: TODO (2 points / 50)\n",
    "\n",
    "To get an idea of which hashtags stay popular for several days, calculate the average number of daily occurences for each week. \n",
    "\n",
    "__Hint:__ use the `week` column we created above. Sort in descending order and show the top 20."
   ]
  },
  {
   "cell_type": "code",
   "execution_count": 21,
   "metadata": {
    "scrolled": true
   },
   "outputs": [
    {
     "data": {
      "application/vnd.jupyter.widget-view+json": {
       "model_id": "",
       "version_major": 2,
       "version_minor": 0
      },
      "text/plain": [
       "FloatProgress(value=0.0, bar_style='info', description='Progress:', layout=Layout(height='25px', width='50%'),…"
      ]
     },
     "metadata": {},
     "output_type": "display_data"
    },
    {
     "name": "stdout",
     "output_type": "stream",
     "text": [
      "+-------------------+----+------------------+\n",
      "|            hashtag|week|        avg(count)|\n",
      "+-------------------+----+------------------+\n",
      "|         mtvhottest|  29| 52061.42857142857|\n",
      "|         mtvhottest|  30|           47927.0|\n",
      "|         teenchoice|  19|20068.571428571428|\n",
      "|      veranomtv2016|  25| 17867.85714285714|\n",
      "|      veranomtv2016|  26| 17116.14285714286|\n",
      "|      veranomtv2016|  27| 14476.57142857143|\n",
      "|         mtvhottest|  31|           14062.0|\n",
      "|      veranomtv2016|  30|12510.285714285714|\n",
      "|         mtvhottest|  28|12287.714285714286|\n",
      "|      mtvawardsstar|  23|12191.833333333334|\n",
      "|       ripchristina|  23|           11963.5|\n",
      "|      altonsterling|  27|           10266.2|\n",
      "|       demsinphilly|  30|10063.714285714286|\n",
      "|aldub1stanniversary|  28|           8413.25|\n",
      "|      veranomtv2016|  29| 8323.857142857143|\n",
      "|           rncincle|  29| 8195.285714285714|\n",
      "| pushawardslizquens|  30|            8148.0|\n",
      "|       1dreamboy2ff|  25|            7219.0|\n",
      "|             brexit|  25| 7021.714285714285|\n",
      "|     prayfororlando|  23|            6904.0|\n",
      "+-------------------+----+------------------+\n",
      "only showing top 20 rows"
     ]
    }
   ],
   "source": [
    "day_counts.groupBy(['hashtag', 'week']).mean('count').orderBy('avg(count)', ascending=False).show(20)"
   ]
  },
  {
   "cell_type": "code",
   "execution_count": 29,
   "metadata": {},
   "outputs": [
    {
     "data": {
      "application/vnd.jupyter.widget-view+json": {
       "model_id": "",
       "version_major": 2,
       "version_minor": 0
      },
      "text/plain": [
       "FloatProgress(value=0.0, bar_style='info', description='Progress:', layout=Layout(height='25px', width='50%'),…"
      ]
     },
     "metadata": {},
     "output_type": "display_data"
    }
   ],
   "source": [
    "#df = spark.read.parquet(\"/data/twitter/parquet/hashtags\")\n",
    "#day_counts.write.parquet(\"/data/day_counts.parquet\")"
   ]
  },
  {
   "cell_type": "code",
   "execution_count": 13,
   "metadata": {},
   "outputs": [
    {
     "data": {
      "application/vnd.jupyter.widget-view+json": {
       "model_id": "",
       "version_major": 2,
       "version_minor": 0
      },
      "text/plain": [
       "FloatProgress(value=0.0, bar_style='info', description='Progress:', layout=Layout(height='25px', width='50%'),…"
      ]
     },
     "metadata": {},
     "output_type": "display_data"
    }
   ],
   "source": [
    "day_counts = spark.read.parquet(\"/data/day_counts.parquet\")"
   ]
  },
  {
   "cell_type": "code",
   "execution_count": 24,
   "metadata": {},
   "outputs": [
    {
     "data": {
      "application/vnd.jupyter.widget-view+json": {
       "model_id": "",
       "version_major": 2,
       "version_minor": 0
      },
      "text/plain": [
       "FloatProgress(value=0.0, bar_style='info', description='Progress:', layout=Layout(height='25px', width='50%'),…"
      ]
     },
     "metadata": {},
     "output_type": "display_data"
    },
    {
     "name": "stdout",
     "output_type": "stream",
     "text": [
      "8038808"
     ]
    }
   ],
   "source": [
    "day_counts.count()"
   ]
  },
  {
   "cell_type": "markdown",
   "metadata": {},
   "source": [
    "### Using `Window` functions \n",
    "\n",
    "Window functions are another awesome feature of dataframes. They allow users to accomplish complex tasks using very concise and simple code. \n",
    "\n",
    "Above we computed just the hashtag that had the most occurrences on *any* day. Now lets say we want to know the top tweets for *each* day.  \n",
    "\n",
    "This is a non-trivial thing to compute and requires \"windowing\" our data. I recommend reading this [window functions article](https://databricks.com/blog/2015/07/15/introducing-window-functions-in-spark-sql.html) to get acquainted with the idea. You can think of a window function as a fine-grained and more flexible `groupBy`. \n",
    "\n",
    "There are two things we need to define to use window functions:\n",
    "\n",
    "1. the \"window\" to use, based on which columns (partitioning) and how the rows should be ordered \n",
    "2. the computation to carry out for each windowed group, e.g. a max, an average etc.\n",
    "\n",
    "Lets see how this works by example. We will define a window function, `daily_window` that will partition data based on the `day` column. Within each window, the rows will be ordered by the daily hashtag count that we computed above. Finally, we will use the rank function **over** this window to give us the ranking of top tweets. \n",
    "\n",
    "In the end, this is a fairly complicated operation achieved in just a few lines of code! (can you think of how to do this with an RDD??)"
   ]
  },
  {
   "cell_type": "code",
   "execution_count": 25,
   "metadata": {
    "scrolled": true
   },
   "outputs": [
    {
     "data": {
      "application/vnd.jupyter.widget-view+json": {
       "model_id": "",
       "version_major": 2,
       "version_minor": 0
      },
      "text/plain": [
       "FloatProgress(value=0.0, bar_style='info', description='Progress:', layout=Layout(height='25px', width='50%'),…"
      ]
     },
     "metadata": {},
     "output_type": "display_data"
    }
   ],
   "source": [
    "from pyspark.sql import Window"
   ]
  },
  {
   "cell_type": "markdown",
   "metadata": {},
   "source": [
    "First, we specify the window function and the ordering:"
   ]
  },
  {
   "cell_type": "code",
   "execution_count": 26,
   "metadata": {
    "scrolled": true
   },
   "outputs": [
    {
     "data": {
      "application/vnd.jupyter.widget-view+json": {
       "model_id": "",
       "version_major": 2,
       "version_minor": 0
      },
      "text/plain": [
       "FloatProgress(value=0.0, bar_style='info', description='Progress:', layout=Layout(height='25px', width='50%'),…"
      ]
     },
     "metadata": {},
     "output_type": "display_data"
    }
   ],
   "source": [
    "daily_window = Window.partitionBy('day').orderBy(functions.desc('count'))"
   ]
  },
  {
   "cell_type": "markdown",
   "metadata": {},
   "source": [
    "The above window function says that we should window the data on the `day` column and order it by count. \n",
    "\n",
    "Now we need to define what we want to compute on the windowed data. We will start by just calculating the daily ranking of hashtags, so we can use the helpful built-in `functions.rank()` and sort:"
   ]
  },
  {
   "cell_type": "code",
   "execution_count": 27,
   "metadata": {
    "scrolled": true
   },
   "outputs": [
    {
     "data": {
      "application/vnd.jupyter.widget-view+json": {
       "model_id": "",
       "version_major": 2,
       "version_minor": 0
      },
      "text/plain": [
       "FloatProgress(value=0.0, bar_style='info', description='Progress:', layout=Layout(height='25px', width='50%'),…"
      ]
     },
     "metadata": {},
     "output_type": "display_data"
    }
   ],
   "source": [
    "daily_rank = functions.rank() \\\n",
    "                      .over(daily_window) \\\n",
    "                      .alias('rank')"
   ]
  },
  {
   "cell_type": "markdown",
   "metadata": {},
   "source": [
    "### II.e: TODO (3 points / 50)\n",
    "Now compute the top five hashtags for each day in our data:"
   ]
  },
  {
   "cell_type": "code",
   "execution_count": 28,
   "metadata": {
    "scrolled": true
   },
   "outputs": [
    {
     "data": {
      "application/vnd.jupyter.widget-view+json": {
       "model_id": "",
       "version_major": 2,
       "version_minor": 0
      },
      "text/plain": [
       "FloatProgress(value=0.0, bar_style='info', description='Progress:', layout=Layout(height='25px', width='50%'),…"
      ]
     },
     "metadata": {},
     "output_type": "display_data"
    },
    {
     "name": "stdout",
     "output_type": "stream",
     "text": [
      "+---+--------------------+----+-----+----+\n",
      "|day|             hashtag|week|count|rank|\n",
      "+---+--------------------+----+-----+----+\n",
      "|148|dolceamoresatotoo...|  21| 5216|   1|\n",
      "|148|           727outnow|  21| 3563|   2|\n",
      "|148|     aldubgraziecomo|  21| 2892|   3|\n",
      "|148|     khilafatispeace|  21| 2039|   4|\n",
      "|148|          nowplaying|  21| 1707|   5|\n",
      "|137|  aldub10thmonthsary|  20| 6920|   1|\n",
      "|137|       gameofthrones|  20| 2982|   2|\n",
      "|137|                 job|  20| 2177|   3|\n",
      "|137|          teenchoice|  20| 2158|   4|\n",
      "|137|          nowplaying|  20| 2062|   5|\n",
      "|133|          teenchoice|  19|24781|   1|\n",
      "|133| dolceamoreforgotten|  19|10192|   2|\n",
      "|133|   aldub43rdweeksary|  19| 5326|   3|\n",
      "|133|choicemusicgroupmale|  19| 4007|   4|\n",
      "|133|dolceamoreitsallc...|  19| 3601|   5|\n",
      "|193|          teenchoice|  28| 6944|   1|\n",
      "|193|            euro2016|  28| 6027|   2|\n",
      "|193|           pokemongo|  28| 5912|   3|\n",
      "|193|    aldubiyamin2days|  28| 5152|   4|\n",
      "|193|    blacklivesmatter|  28| 4763|   5|\n",
      "|211|          mtvhottest|  30|47848|   1|\n",
      "|211|       veranomtv2016|  30|18914|   2|\n",
      "|211|        demsinphilly|  30|15168|   3|\n",
      "|211|  pushawardslizquens|  30| 8540|   4|\n",
      "|211|  dolceamoresabotage|  30| 8105|   5|\n",
      "|126|   aldub42ndweeksary|  18| 5396|   1|\n",
      "|126|      dropouthillary|  18| 3307|   2|\n",
      "|126|   dolceamorethesong|  18| 2959|   3|\n",
      "|126|         cincodemayo|  18| 2906|   4|\n",
      "|126|          nowplaying|  18| 2164|   5|\n",
      "|183|       veranomtv2016|  26|18543|   1|\n",
      "|183|        growingupshy|  26| 7127|   2|\n",
      "|183|   dolceamorewarning|  26| 5725|   3|\n",
      "|183|        aldubyoujuly|  26| 4944|   4|\n",
      "|183|            euro2016|  26| 4201|   5|\n",
      "|210|          mtvhottest|  30|44324|   1|\n",
      "|210|        demsinphilly|  30|16668|   2|\n",
      "|210|       veranomtv2016|  30|14086|   3|\n",
      "|210|  pushawardslizquens|  30| 9696|   4|\n",
      "|210|dolceamorelostand...|  30| 8288|   5|\n",
      "|159|       mtvawardsstar|  23| 5418|   1|\n",
      "|159|            itveuref|  23| 1499|   2|\n",
      "|159|                bbuk|  23|  789|   3|\n",
      "|159|dolceamoredreamin...|  23|  787|   4|\n",
      "|159|          primaryday|  23|  539|   5|\n",
      "|192|          teenchoice|  27| 8317|   1|\n",
      "|192|            euro2016|  27| 7947|   2|\n",
      "|192|              ufc200|  27| 6841|   3|\n",
      "|192|       veranomtv2016|  27| 6217|   4|\n",
      "|192|       euro2016final|  27| 5872|   5|\n",
      "|128| 화양연화onstageepilogue|  18| 7319|   1|\n",
      "|128|      aldubbonvoyage|  18| 6411|   2|\n",
      "|128|          nowplaying|  18| 2149|   3|\n",
      "|128|               방탄소년단|  18| 1940|   4|\n",
      "|128|                 bts|  18| 1924|   5|\n",
      "|209|          mtvhottest|  30|42572|   1|\n",
      "|209|     savemarinajoyce|  30|15649|   2|\n",
      "|209|        demsinphilly|  30|11892|   3|\n",
      "|209|       veranomtv2016|  30|10360|   4|\n",
      "|209|  pushawardslizquens|  30|10103|   5|\n",
      "|122|aldubkiligsasweetday|  17| 2096|   1|\n",
      "|122|         btsisonfire|  17| 1986|   2|\n",
      "|122|                whcd|  17| 1927|   3|\n",
      "|122|       piousbhandara|  17| 1609|   4|\n",
      "|122|                  더쇼|  17| 1567|   5|\n",
      "|190|              dallas|  27|19325|   1|\n",
      "|190|       veranomtv2016|  27|12731|   2|\n",
      "|190|          teenchoice|  27|10545|   3|\n",
      "|190|    blacklivesmatter|  27|10502|   4|\n",
      "|190|   1dreamboy2playnow|  27| 6728|   5|\n",
      "|140|   aldub44thweeksary|  20| 5549|   1|\n",
      "|140|            egyptair|  20| 2506|   2|\n",
      "|140|  highschooltaughtme|  20| 2445|   3|\n",
      "|140|              empire|  20| 2415|   4|\n",
      "|140|        bernielostme|  20| 2117|   5|\n",
      "|140|                 job|  20| 2117|   5|\n",
      "|177|       veranomtv2016|  25|17280|   1|\n",
      "|177| 1dreamboy2flashback|  25| 7917|   2|\n",
      "|177|              brexit|  25| 7324|   3|\n",
      "|177|      aldubksreunion|  25| 4846|   4|\n",
      "|177|            euro2016|  25| 3754|   5|\n",
      "|132|          teenchoice|  19|28542|   1|\n",
      "|132| dolceamoremeanttobe|  19| 8743|   2|\n",
      "|132|    aldubinitalyday3|  19| 5169|   3|\n",
      "|132|     voicesavepaxton|  19| 4288|   4|\n",
      "|132| dolceamoreforgotten|  19| 4040|   5|\n",
      "|152|     aldubhomeatlast|  22| 4531|   1|\n",
      "|152|          teenchoice|  22| 3355|   2|\n",
      "|152|          nowplaying|  22| 2280|   3|\n",
      "|152|                 raw|  22| 2011|   4|\n",
      "|152|                 job|  22| 1841|   5|\n",
      "|185|       veranomtv2016|  26|33350|   1|\n",
      "|185|            euro2016|  26| 4371|   2|\n",
      "|185|    growingupintexas|  26| 2567|   3|\n",
      "|185|    growingupbritish|  26| 2464|   4|\n",
      "|185|         gameinsight|  26| 2163|   5|\n",
      "|146|        aldubsoclose|  21| 5057|   1|\n",
      "|146|dolceamorememorys...|  21| 5010|   2|\n",
      "|146|       1dreamboy2now|  21| 4818|   3|\n",
      "|146|          teenchoice|  21| 2350|   4|\n",
      "|146|        respectniall|  21| 2299|   5|\n",
      "|206|          mtvhottest|  29|54734|   1|\n",
      "|206|       veranomtv2016|  29| 8933|   2|\n",
      "|206|             dncleak|  29| 5142|   3|\n",
      "|206|                sdcc|  29| 3415|   4|\n",
      "|206|            sdcc2016|  29| 3080|   5|\n",
      "|212|          mtvhottest|  30|33664|   1|\n",
      "|212|       veranomtv2016|  30| 8825|   2|\n",
      "|212|  pushawardslizquens|  30| 8454|   3|\n",
      "|212| pushawardskathniels|  30| 6035|   4|\n",
      "|212|            ebislove|  30| 5818|   5|\n",
      "|182|       veranomtv2016|  26|13563|   1|\n",
      "|182| aldubgoldenweeksary|  26| 5054|   2|\n",
      "|182|   growinguphispanic|  26| 3563|   3|\n",
      "|182|            euro2016|  26| 2428|   4|\n",
      "|182|          nowplaying|  26| 2120|   5|\n",
      "|168|  aldub11thmonthsary|  24|12676|   1|\n",
      "|168|          filibuster|  24| 4226|   2|\n",
      "|168|     asknashandhayes|  24| 2407|   3|\n",
      "|168|       mtvawardsstar|  24| 2011|   4|\n",
      "|168|          teenchoice|  24| 1838|   5|\n",
      "|205|          mtvhottest|  29|63495|   1|\n",
      "|205|       veranomtv2016|  29|11756|   2|\n",
      "|205|          6yearsof1d|  29|11487|   3|\n",
      "|205|6yearsofonedirection|  29| 9176|   4|\n",
      "|205|            dncleaks|  29| 6555|   5|\n",
      "|142|      aldubwemissyou|  20| 5165|   1|\n",
      "|142|          facupfinal|  20| 3090|   2|\n",
      "|142|                mufc|  20| 2884|   3|\n",
      "|142|         weareunited|  20| 2457|   4|\n",
      "|142|sharethefeelingwi...|  20| 2407|   5|\n",
      "|178|       veranomtv2016|  25|23534|   1|\n",
      "|178|              brexit|  25| 4658|   2|\n",
      "|178|            euro2016|  25| 4427|   3|\n",
      "|178|trumpgirlsbreakth...|  25| 2549|   4|\n",
      "|178|         gameinsight|  25| 2157|   5|\n",
      "|164|             orlando|  23|11923|   1|\n",
      "|164|      prayfororlando|  23| 6904|   2|\n",
      "|164|            euro2016|  23| 5518|   3|\n",
      "|164|     mtvsnapmexdanna|  23| 5172|   4|\n",
      "|164|       mtvawardsstar|  23| 5068|   5|\n",
      "|139|   aldubhappyinitaly|  20| 4926|   1|\n",
      "|139| dolceamorewhitelies|  20| 4482|   2|\n",
      "|139|      voicesavelaith|  20| 4198|   3|\n",
      "|139|      voicesavebryan|  20| 2588|   4|\n",
      "|139|  voicesavemarysarah|  20| 2244|   5|\n",
      "|163|        ripchristina|  23|19901|   1|\n",
      "|163|       mtvawardsstar|  23| 7102|   2|\n",
      "|163|            euro2016|  23| 6699|   3|\n",
      "|163|    prayforchristina|  23| 5935|   4|\n",
      "|163| ripchristinagrimmie|  23| 5423|   5|\n",
      "|191|          teenchoice|  27|10109|   1|\n",
      "|191|aldubmainecelebra...|  27| 9033|   2|\n",
      "|191|      1dreamboy2last|  27| 7932|   3|\n",
      "|191|    blacklivesmatter|  27| 5882|   4|\n",
      "|191|           pokemongo|  27| 4112|   5|\n",
      "|154|   aldub46thweeksary|  22| 3005|   1|\n",
      "|154|  dolceamorethisisit|  22| 2401|   2|\n",
      "|154|          teenchoice|  22| 1758|   3|\n",
      "|154|            luckyone|  22|  782|   4|\n",
      "|154|          nowplaying|  22|  757|   5|\n",
      "|165|             orlando|  24| 9937|   1|\n",
      "|165|          loveislove|  24| 7529|   2|\n",
      "|165|          tonyawards|  24| 5580|   3|\n",
      "|165|            euro2016|  24| 4781|   4|\n",
      "|165|      alduballmylife|  24| 4640|   5|\n",
      "|179|           betawards|  26|19624|   1|\n",
      "|179|       veranomtv2016|  26|14357|   2|\n",
      "|179|       gameofthrones|  26| 8837|   3|\n",
      "|179|            euro2016|  26| 7989|   4|\n",
      "|179|                 eng|  26| 5482|   5|\n",
      "|189|       altonsterling|  27|17515|   1|\n",
      "|189| throwback1dreamboy2|  27|12620|   2|\n",
      "|189|     philandocastile|  27|12504|   3|\n",
      "|189|       veranomtv2016|  27|11174|   4|\n",
      "|189|    blacklivesmatter|  27| 8328|   5|\n",
      "|207|          mtvhottest|  30|60768|   1|\n",
      "|207|       veranomtv2016|  30|10451|   2|\n",
      "|207| dolceamorepatigasan|  30| 7659|   3|\n",
      "|207|  pushawardslizquens|  30| 6931|   4|\n",
      "|207|   aldubsavethelolas|  30| 4865|   5|\n",
      "|127|   dolceamorethesong|  18| 9677|   1|\n",
      "|127|       aldublovelock|  18| 5015|   2|\n",
      "|127|  msgmissionhumanity|  18| 2363|   3|\n",
      "|127|                 job|  18| 2209|   4|\n",
      "|127|          nowplaying|  18| 2196|   5|\n",
      "|197|         prayfornice|  28|11391|   1|\n",
      "|197| aldub1stanniversary|  28| 7968|   2|\n",
      "|197|       veranomtv2016|  28| 6925|   3|\n",
      "|197|          teenchoice|  28| 6753|   4|\n",
      "|197|                nice|  28| 5884|   5|\n",
      "|202|          mtvhottest|  29|47567|   1|\n",
      "|202|            rncincle|  29| 9830|   2|\n",
      "|202|       veranomtv2016|  29| 9315|   3|\n",
      "|202|   dolceamorearrival|  29| 7593|   4|\n",
      "|202|          teenchoice|  29| 5682|   5|\n",
      "|175|       veranomtv2016|  25|16736|   1|\n",
      "|175|       nobillnobreak|  25|10379|   2|\n",
      "|175|          teenchoice|  25| 7934|   3|\n",
      "|175|   aldub49thweeksary|  25| 5620|   4|\n",
      "|175|               euref|  25| 4376|   5|\n",
      "|196|          teenchoice|  28| 7525|   1|\n",
      "|196|   aldub52ndweeksary|  28| 5474|   2|\n",
      "|196|           pokemongo|  28| 4883|   3|\n",
      "|196|               espys|  28| 4338|   4|\n",
      "|196|       singlebecause|  28| 4157|   5|\n",
      "|173|       veranomtv2016|  25|22985|   1|\n",
      "|173|     aldubtransition|  25| 4517|   2|\n",
      "|173|          teenchoice|  25| 4397|   3|\n",
      "|173|           bbcdebate|  25| 3305|   4|\n",
      "|173|            euro2016|  25| 3129|   5|\n",
      "|161|       mtvawardsstar|  23|21652|   1|\n",
      "|161|   aldub47thweeksary|  23| 5029|   2|\n",
      "|161|dolceamoreclosetoyou|  23| 4876|   3|\n",
      "|161|nationalbestfrien...|  23| 4340|   4|\n",
      "|161|           nbafinals|  23| 3388|   5|\n",
      "|176|              brexit|  25|28481|   1|\n",
      "|176|       veranomtv2016|  25|14080|   2|\n",
      "|176|               euref|  25|13004|   3|\n",
      "|176|        eurefresults|  25|10176|   4|\n",
      "|176|      dolceamorehhww|  25| 7889|   5|\n",
      "|162|       mtvawardsstar|  23|13533|   1|\n",
      "|162|       dolceamoretlc|  23| 7086|   2|\n",
      "|162|            euro2016|  23| 6499|   3|\n",
      "|162|       aldubtrumpets|  23| 5111|   4|\n",
      "|162|          teenchoice|  23| 4505|   5|\n",
      "|130|    aldubinitalyday1|  19| 4531|   1|\n",
      "|130|          nowplaying|  19| 2202|   2|\n",
      "|130|        election2016|  19| 2149|   3|\n",
      "|130|                 job|  19| 2000|   4|\n",
      "|130|       gameofthrones|  19| 1987|   5|\n",
      "|136|          teenchoice|  19|44716|   1|\n",
      "|136|choicemusicgroupmale|  19| 7293|   2|\n",
      "|136|          eurovision|  19| 7191|   3|\n",
      "|136|        choicefandom|  19| 4805|   4|\n",
      "|136|      choiceyoutuber|  19| 3996|   5|\n",
      "|171|       mtvawardsstar|  24| 5565|   1|\n",
      "|171|          fathersday|  24| 5487|   2|\n",
      "|171|     happyfathersday|  24| 3876|   3|\n",
      "|171|          teenchoice|  24| 3390|   4|\n",
      "|171|   fifthharmony4mmva|  24| 2921|   5|\n",
      "|194|       veranomtv2016|  28|15118|   1|\n",
      "|194|          teenchoice|  28| 8382|   2|\n",
      "|194|           pokemongo|  28| 6419|   3|\n",
      "|194|iyamthegrandpremiere|  28| 5331|   4|\n",
      "|194|           kcamexico|  28| 5297|   5|\n",
      "|129|          mothersday|  18| 5849|   1|\n",
      "|129| 화양연화onstageepilogue|  18| 4074|   2|\n",
      "|129|     happymothersday|  18| 3896|   3|\n",
      "|129|            방탄소년단사랑해|  18| 3738|   4|\n",
      "|129|                  더쇼|  18| 2363|   5|\n",
      "|166|     aldubforthelove|  24| 4684|   1|\n",
      "|166|             orlando|  24| 4437|   2|\n",
      "|166|           nbafinals|  24| 4072|   3|\n",
      "|166|              e32016|  24| 4040|   4|\n",
      "|166|          teenchoice|  24| 3754|   5|\n",
      "|181|       veranomtv2016|  26|11396|   1|\n",
      "|181|heterosexualprideday|  26| 5560|   2|\n",
      "|181|   aldubiyamin14days|  26| 4958|   3|\n",
      "|181|            istanbul|  26| 3529|   4|\n",
      "|181|growingupwithleni...|  26| 3441|   5|\n",
      "|167|      aldubthesender|  24| 4929|   1|\n",
      "|167|       mtvawardsstar|  24| 4275|   2|\n",
      "|167|  aldub11thmonthsary|  24| 3747|   3|\n",
      "|167|          teenchoice|  24| 3451|   4|\n",
      "|167|            euro2016|  24| 3208|   5|\n",
      "|160|       mtvawardsstar|  23|20378|   1|\n",
      "|160|dolceamoredreamin...|  23| 6690|   2|\n",
      "|160|         aldubmylove|  23| 4472|   3|\n",
      "|160|           imwithher|  23| 1928|   4|\n",
      "|160|     thebachelorette|  23| 1543|   5|\n",
      "|125|  maythe4thbewithyou|  18| 5482|   1|\n",
      "|125|  aldubtickettoitaly|  18| 5007|   2|\n",
      "|125|         starwarsday|  18| 2802|   3|\n",
      "|125|       voicesavenick|  18| 2508|   4|\n",
      "|125|          nowplaying|  18| 2250|   5|\n",
      "|143|               bbmas|  20| 2570|   1|\n",
      "|143|        nocontrolday|  20| 2196|   2|\n",
      "|143|          nowplaying|  20| 2027|   3|\n",
      "|143|                 job|  20| 1915|   4|\n",
      "|143|         gameinsight|  20| 1837|   5|\n",
      "|214|          mtvhottest|  31|14062|   1|\n",
      "|214|          teenchoice|  31| 6424|   2|\n",
      "|214|dolceamorethegame...|  31| 3122|   3|\n",
      "|214|  pushawardslizquens|  31| 3086|   4|\n",
      "|214|   choicemalewebstar|  31| 2235|   5|\n",
      "|195|       veranomtv2016|  28| 9036|   1|\n",
      "|195|aldubimagineyouandme|  28| 8396|   2|\n",
      "|195|          teenchoice|  28| 6396|   3|\n",
      "|195|           pokemongo|  28| 5399|   4|\n",
      "|195|           kcamexico|  28| 2672|   5|\n",
      "|203|          mtvhottest|  29|47696|   1|\n",
      "|203|          teenchoice|  29|11951|   2|\n",
      "|203|            rncincle|  29|11792|   3|\n",
      "|203|       veranomtv2016|  29| 9205|   4|\n",
      "|203| dolceamorepowerplay|  29| 7228|   5|\n",
      "|141|     1dreamboy2today|  20|11843|   1|\n",
      "|141|     aldubtiamoitaly|  20| 4639|   2|\n",
      "|141| dolceamorefireflies|  20| 2694|   3|\n",
      "|141|                 win|  20| 2163|   4|\n",
      "|141|          nowplaying|  20| 2114|   5|\n",
      "|151|    aldubmissinghalf|  22| 5156|   1|\n",
      "|151|         memorialday|  22| 3864|   2|\n",
      "|151|          teenchoice|  22| 3187|   3|\n",
      "|151|     memorialday2016|  22| 2770|   4|\n",
      "|151|          nowplaying|  22| 2087|   5|\n",
      "|145|      dolceamoretuko|  21| 6709|   1|\n",
      "|145|    aldubtouchoflove|  21| 5118|   2|\n",
      "|145|       1dreamboy2now|  21| 4072|   3|\n",
      "|145|     thebachelorette|  21| 2485|   4|\n",
      "|145|          nowplaying|  21| 2169|   5|\n",
      "|200|          mtvhottest|  29|43344|   1|\n",
      "|200|kimexposedtaylorp...|  29|10717|   2|\n",
      "|200|dolceamorechangedman|  29| 8311|   3|\n",
      "|200|          teenchoice|  29| 4460|   4|\n",
      "|200|    aldubangpagdukot|  29| 4288|   5|\n",
      "|213|          mtvhottest|  30|47248|   1|\n",
      "|213|       veranomtv2016|  30|10818|   2|\n",
      "|213|  pushawardslizquens|  30| 6746|   3|\n",
      "|213| pushawardskathniels|  30| 6198|   4|\n",
      "|213|            bigolive|  30| 2737|   5|\n",
      "|170|       mtvawardsstar|  24| 6178|   1|\n",
      "|170|   aldubebfathersday|  24| 4792|   2|\n",
      "|170|          teenchoice|  24| 3634|   3|\n",
      "|170|            euro2016|  24| 2809|   4|\n",
      "|170|          nowplaying|  24| 1969|   5|\n",
      "|188|       altonsterling|  27|24714|   1|\n",
      "|188|       veranomtv2016|  27|13691|   2|\n",
      "|188|    aldubiyamin7days|  27| 4769|   3|\n",
      "|188|dolceamorebyebinggoy|  27| 3897|   4|\n",
      "|188|            euro2016|  27| 3647|   5|\n",
      "|204|          mtvhottest|  29|66372|   1|\n",
      "|204|            rncincle|  29|16544|   2|\n",
      "|204|       veranomtv2016|  29|13265|   3|\n",
      "|204|dolceamorefightin...|  29| 9261|   4|\n",
      "|204|           coldwater|  29| 7168|   5|\n",
      "|150|          teenchoice|  21| 3076|   1|\n",
      "|150|            uclfinal|  21| 2558|   2|\n",
      "|150|          nowplaying|  21| 2168|   3|\n",
      "|150|            monacogp|  21| 2122|   4|\n",
      "|150|         gameinsight|  21| 1828|   5|\n",
      "|147| dolceamorepanaginip|  21| 8082|   1|\n",
      "|147|   aldub45thweeksary|  21| 5225|   2|\n",
      "|147|dolceamoresatotoo...|  21| 3859|   3|\n",
      "|147|          teenchoice|  21| 2401|   4|\n",
      "|147|          nowplaying|  21| 2399|   5|\n",
      "|198|          mtvhottest|  28|27327|   1|\n",
      "|198| aldub1stanniversary|  28|25203|   2|\n",
      "|198|              turkey|  28|10173|   3|\n",
      "|198|          teenchoice|  28| 4204|   4|\n",
      "|198|           pokemongo|  28| 3920|   5|\n",
      "|123|       gameofthrones|  18| 1634|   1|\n",
      "|123|     aldubsportsfest|  18| 1323|   2|\n",
      "|123|                lcfc|  18| 1300|   3|\n",
      "|123|                 job|  18| 1269|   4|\n",
      "|123|    aldubfinalscript|  18| 1165|   5|\n",
      "|199|          mtvhottest|  28|57956|   1|\n",
      "|199|          teenchoice|  28| 4875|   2|\n",
      "|199|          batonrouge|  28| 4411|   3|\n",
      "|199|           pokemongo|  28| 3937|   4|\n",
      "|199|         gameinsight|  28| 2329|   5|\n",
      "|135|          teenchoice|  19|22505|   1|\n",
      "|135|          eurovision|  19|18506|   2|\n",
      "|135|   aldubbulagaan2016|  19| 5046|   3|\n",
      "|135|choicemusicgroupmale|  19| 4013|   4|\n",
      "|135|                 bts|  19| 2925|   5|\n",
      "|201|          mtvhottest|  29|41222|   1|\n",
      "|201|            rncincle|  29|14470|   2|\n",
      "|201|famousmelaniatrum...|  29| 8075|   3|\n",
      "|201|dolceamorepusongbato|  29| 6971|   4|\n",
      "|201|          teenchoice|  29| 4674|   5|\n",
      "|131|    aldubinitalyday2|  19| 5067|   1|\n",
      "|131|              bbm4vp|  19| 3432|   2|\n",
      "|131|          nowplaying|  19| 2193|   3|\n",
      "|131|                 job|  19| 2112|   4|\n",
      "|131|          eurovision|  19| 2077|   5|\n",
      "|149|            uclfinal|  21| 6065|   1|\n",
      "|149|         aldubsepanx|  21| 4884|   2|\n",
      "|149|          teenchoice|  21| 2651|   3|\n",
      "|149|          nowplaying|  21| 2203|   4|\n",
      "|149|        chickentrump|  21| 1961|   5|\n",
      "|124|             metgala|  18|21012|   1|\n",
      "|124|    aldubfinalscript|  18| 5127|   2|\n",
      "|124|thistimepremieren...|  18| 3983|   3|\n",
      "|124|    dolceamoresearch|  18| 2627|   4|\n",
      "|124|          nowplaying|  18| 2288|   5|\n",
      "|184|       veranomtv2016|  26|16078|   1|\n",
      "|184|     aldubpoweroftwo|  26| 4752|   2|\n",
      "|184|            euro2016|  26| 4490|   3|\n",
      "|184|      growingupthick|  26| 3525|   4|\n",
      "|184|              gerita|  26| 3374|   5|\n",
      "|186|       veranomtv2016|  27|34666|   1|\n",
      "|186|happy1stmainenive...|  27| 5620|   2|\n",
      "|186|growingupadirecti...|  27| 3309|   3|\n",
      "|186|growingupwithasma...|  27| 3135|   4|\n",
      "|186|           4thofjuly|  27| 2703|   5|\n",
      "|174|       veranomtv2016|  25|16527|   1|\n",
      "|174|   play1dreamboy2now|  25| 6882|   2|\n",
      "|174|          teenchoice|  25| 5306|   3|\n",
      "|174|  aldubmaymagbabalik|  25| 5175|   4|\n",
      "|174|            euro2016|  25| 4605|   5|\n",
      "|172|           nbafinals|  25|15556|   1|\n",
      "|172|       veranomtv2016|  25|13933|   2|\n",
      "|172|       gameofthrones|  25| 6017|   3|\n",
      "|172|   aldubtrueidentity|  25| 4497|   4|\n",
      "|172|                mitb|  25| 4238|   5|\n",
      "|144|               bbmas|  21|20849|   1|\n",
      "|144|     aldubseeyousoon|  21| 4913|   2|\n",
      "|144|       gameofthrones|  21| 4367|   3|\n",
      "|144|        extremerules|  21| 3732|   4|\n",
      "|144|       bieberonbbmas|  21| 2068|   5|\n",
      "|153|   dolceamorebistado|  22| 6203|   1|\n",
      "|153|      aldubbackatone|  22| 4211|   2|\n",
      "|153|          teenchoice|  22| 3828|   3|\n",
      "|153|  dolceamorethisisit|  22| 3233|   4|\n",
      "|153|          nowplaying|  22| 2202|   5|\n",
      "|138|  aldubloversinitaly|  20| 5133|   1|\n",
      "|138|                 job|  20| 2244|   2|\n",
      "|138|          nowplaying|  20| 2147|   3|\n",
      "|138|                jobs|  20| 2147|   3|\n",
      "|138|              trecru|  20| 1848|   5|\n",
      "|180|       veranomtv2016|  26|12526|   1|\n",
      "|180|   aldubiyamin15days|  26| 4855|   2|\n",
      "|180|              brexit|  26| 3855|   3|\n",
      "|180| growingupwithmyname|  26| 3543|   4|\n",
      "|180|            euro2016|  26| 2575|   5|\n",
      "|134|          teenchoice|  19|19569|   1|\n",
      "|134|dolceamoreitsallc...|  19|12684|   2|\n",
      "|134|                 bts|  19| 7490|   3|\n",
      "|134|               방탄소년단|  19| 7202|   4|\n",
      "|134|    aldubinitalyday5|  19| 5182|   5|\n",
      "|187|       veranomtv2016|  27|18787|   1|\n",
      "|187|    aldubiyamin8days|  27| 4993|   2|\n",
      "|187| dolceamoresacrifice|  27| 3626|   3|\n",
      "|187|      prayformadinah|  27| 3568|   4|\n",
      "|187|growingupwithglasses|  27| 3347|   5|\n",
      "|208|          mtvhottest|  30|59065|   1|\n",
      "|208|        demsinphilly|  30|22164|   2|\n",
      "|208|       veranomtv2016|  30|14118|   3|\n",
      "|208|  pushawardslizquens|  30| 6566|   4|\n",
      "|208|    dolceamoreaminan|  30| 6533|   5|\n",
      "+---+--------------------+----+-----+----+"
     ]
    }
   ],
   "source": [
    "tmp = day_counts.select('*', daily_rank)\n",
    "tmp.where(tmp.rank <= 5).show(1000)"
   ]
  },
  {
   "cell_type": "code",
   "execution_count": null,
   "metadata": {},
   "outputs": [],
   "source": []
  },
  {
   "cell_type": "markdown",
   "metadata": {},
   "source": [
    "## II.f: TODO - Compute the top five trending tweets per week (20 points / 50)\n",
    "\n",
    "Use window functions (or other techniques!) to produce lists of top few trending tweets for each week. What's a \"trending\" tweet? Something that seems to be suddenly growing very rapidly in popularity. You should identify \"brexit\" in week 25 and other events like the death of The Artist Formerly Known as Prince, the Met gala, Euro 2016, the terrorist attacks in Nice, France etc. Make it as simple or as complicated as you want! The final listing should be clear and concise and the flow of your analysis should be easy to follow. If you make an implementation that is not immediately obvious, make sure you provide comments either in markdown cells or in comments in the code itself. \n"
   ]
  },
  {
   "cell_type": "code",
   "execution_count": 30,
   "metadata": {
    "scrolled": true
   },
   "outputs": [
    {
     "data": {
      "application/vnd.jupyter.widget-view+json": {
       "model_id": "",
       "version_major": 2,
       "version_minor": 0
      },
      "text/plain": [
       "FloatProgress(value=0.0, bar_style='info', description='Progress:', layout=Layout(height='25px', width='50%'),…"
      ]
     },
     "metadata": {},
     "output_type": "display_data"
    }
   ],
   "source": [
    "weekly_window = Window.partitionBy(\"week\").orderBy(functions.desc('count'))"
   ]
  },
  {
   "cell_type": "code",
   "execution_count": 31,
   "metadata": {},
   "outputs": [
    {
     "data": {
      "application/vnd.jupyter.widget-view+json": {
       "model_id": "",
       "version_major": 2,
       "version_minor": 0
      },
      "text/plain": [
       "FloatProgress(value=0.0, bar_style='info', description='Progress:', layout=Layout(height='25px', width='50%'),…"
      ]
     },
     "metadata": {},
     "output_type": "display_data"
    }
   ],
   "source": [
    "weekly_rank = functions.rank() \\\n",
    "                      .over(weekly_window) \\\n",
    "                      .alias('rank')"
   ]
  },
  {
   "cell_type": "code",
   "execution_count": 33,
   "metadata": {},
   "outputs": [
    {
     "data": {
      "application/vnd.jupyter.widget-view+json": {
       "model_id": "",
       "version_major": 2,
       "version_minor": 0
      },
      "text/plain": [
       "FloatProgress(value=0.0, bar_style='info', description='Progress:', layout=Layout(height='25px', width='50%'),…"
      ]
     },
     "metadata": {},
     "output_type": "display_data"
    }
   ],
   "source": [
    "week_counts = daily_hashtag.groupBy(['week', 'hashtag']).count().orderBy('count', ascending=False).cache()\n",
    "#week_counts.where(week_counts.hashtag == \"prayfornice\").sort(\"week\").show(100)"
   ]
  },
  {
   "cell_type": "markdown",
   "metadata": {},
   "source": [
    "Now first let's look at top 5 tweets per week, ofcourse this does not mean trending by itself"
   ]
  },
  {
   "cell_type": "code",
   "execution_count": 34,
   "metadata": {},
   "outputs": [
    {
     "data": {
      "application/vnd.jupyter.widget-view+json": {
       "model_id": "",
       "version_major": 2,
       "version_minor": 0
      },
      "text/plain": [
       "FloatProgress(value=0.0, bar_style='info', description='Progress:', layout=Layout(height='25px', width='50%'),…"
      ]
     },
     "metadata": {},
     "output_type": "display_data"
    },
    {
     "name": "stdout",
     "output_type": "stream",
     "text": [
      "+----+--------------------+------+----+\n",
      "|week|             hashtag| count|rank|\n",
      "+----+--------------------+------+----+\n",
      "|  31|          mtvhottest| 14062|   1|\n",
      "|  31|          teenchoice|  6424|   2|\n",
      "|  31|dolceamorethegame...|  3122|   3|\n",
      "|  31|  pushawardslizquens|  3086|   4|\n",
      "|  31|   choicemalewebstar|  2235|   5|\n",
      "|  28|          mtvhottest| 86014|   1|\n",
      "|  28|       veranomtv2016| 45107|   2|\n",
      "|  28|          teenchoice| 45079|   3|\n",
      "|  28|           pokemongo| 34166|   4|\n",
      "|  28| aldub1stanniversary| 33653|   5|\n",
      "|  26|       veranomtv2016|119813|   1|\n",
      "|  26|            euro2016| 26888|   2|\n",
      "|  26|           betawards| 20728|   3|\n",
      "|  26|              brexit| 17044|   4|\n",
      "|  26|         gameinsight| 14536|   5|\n",
      "|  27|       veranomtv2016|101336|   1|\n",
      "|  27|       altonsterling| 51331|   2|\n",
      "|  27|          teenchoice| 32053|   3|\n",
      "|  27|    blacklivesmatter| 31701|   4|\n",
      "|  27|            euro2016| 23292|   5|\n",
      "|  22|          teenchoice| 12128|   1|\n",
      "|  22|          nowplaying|  7326|   2|\n",
      "|  22|   dolceamorebistado|  6279|   3|\n",
      "|  22|         gameinsight|  6059|   4|\n",
      "|  22|                 job|  5890|   5|\n",
      "|  20|                 job| 14345|   1|\n",
      "|  20|          nowplaying| 14287|   2|\n",
      "|  20|                jobs| 12898|   3|\n",
      "|  20|         gameinsight| 12712|   4|\n",
      "|  20|              trecru| 12521|   5|\n",
      "|  19|          teenchoice|140480|   1|\n",
      "|  19|          eurovision| 31250|   2|\n",
      "|  19|choicemusicgroupmale| 23144|   3|\n",
      "|  19|                 bts| 18271|   4|\n",
      "|  19|        choicefandom| 16423|   5|\n",
      "|  17|aldubkiligsasweetday|  2096|   1|\n",
      "|  17|         btsisonfire|  1986|   2|\n",
      "|  17|                whcd|  1927|   3|\n",
      "|  17|       piousbhandara|  1609|   4|\n",
      "|  17|                  더쇼|  1567|   5|\n",
      "|  23|       mtvawardsstar| 73151|   1|\n",
      "|  23|        ripchristina| 23927|   2|\n",
      "|  23|            euro2016| 21174|   3|\n",
      "|  23|          teenchoice| 12629|   4|\n",
      "|  23|             orlando| 12095|   5|\n",
      "|  25|       veranomtv2016|125075|   1|\n",
      "|  25|              brexit| 49152|   2|\n",
      "|  25|               euref| 24711|   3|\n",
      "|  25|          teenchoice| 23819|   4|\n",
      "|  25|            euro2016| 21300|   5|\n",
      "|  24|       mtvawardsstar| 25876|   1|\n",
      "|  24|          teenchoice| 19596|   2|\n",
      "|  24|             orlando| 18588|   3|\n",
      "|  24|            euro2016| 17554|   4|\n",
      "|  24|  aldub11thmonthsary| 16452|   5|\n",
      "|  29|          mtvhottest|364430|   1|\n",
      "|  29|       veranomtv2016| 58267|   2|\n",
      "|  29|            rncincle| 57367|   3|\n",
      "|  29|          teenchoice| 30231|   4|\n",
      "|  29|           pokemongo| 17375|   5|\n",
      "|  21|               bbmas| 23201|   1|\n",
      "|  21|          nowplaying| 14656|   2|\n",
      "|  21|                 job| 13155|   3|\n",
      "|  21|          teenchoice| 12808|   4|\n",
      "|  21|         gameinsight| 11922|   5|\n",
      "|  30|          mtvhottest|335489|   1|\n",
      "|  30|       veranomtv2016| 87572|   2|\n",
      "|  30|        demsinphilly| 70446|   3|\n",
      "|  30|  pushawardslizquens| 57036|   4|\n",
      "|  30| pushawardskathniels| 27758|   5|\n",
      "|  18|             metgala| 24314|   1|\n",
      "|  18|          nowplaying| 14354|   2|\n",
      "|  18|                 job| 13807|   3|\n",
      "|  18|   dolceamorethesong| 12654|   4|\n",
      "|  18|                jobs| 12573|   5|\n",
      "+----+--------------------+------+----+"
     ]
    }
   ],
   "source": [
    "weeklyRank = week_counts.select('*', weekly_rank)\n",
    "weeklyRank = weeklyRank.select(\"week\",\"hashtag\",\"count\",\"rank\")\n",
    "weeklyRank.where(weeklyRank.rank <= 5).show(100) "
   ]
  },
  {
   "cell_type": "markdown",
   "metadata": {},
   "source": [
    "Now let's check how much vary hashtags over weeks,in other words, we want to see if that tweet was continiously in top trends or not"
   ]
  },
  {
   "cell_type": "code",
   "execution_count": 35,
   "metadata": {},
   "outputs": [
    {
     "data": {
      "application/vnd.jupyter.widget-view+json": {
       "model_id": "",
       "version_major": 2,
       "version_minor": 0
      },
      "text/plain": [
       "FloatProgress(value=0.0, bar_style='info', description='Progress:', layout=Layout(height='25px', width='50%'),…"
      ]
     },
     "metadata": {},
     "output_type": "display_data"
    }
   ],
   "source": [
    "hashtag_week_window = Window.partitionBy(\"hashtag\",\"week\").orderBy(functions.desc('week'))\n",
    "hashtag_window = Window.partitionBy(\"hashtag\").orderBy(functions.desc('week'))\n",
    "\n",
    "\n",
    "week_stdev = day_counts.withColumn('stdev', functions.stddev('count').over(hashtag_week_window))\n",
    "\n",
    "weekly_window = Window.partitionBy(\"week\").orderBy(functions.desc('stdev'))\n",
    "weekly_rank = functions.rank() \\\n",
    "                      .over(weekly_window) \\\n",
    "                      .alias('rank')"
   ]
  },
  {
   "cell_type": "code",
   "execution_count": 36,
   "metadata": {},
   "outputs": [
    {
     "data": {
      "application/vnd.jupyter.widget-view+json": {
       "model_id": "",
       "version_major": 2,
       "version_minor": 0
      },
      "text/plain": [
       "FloatProgress(value=0.0, bar_style='info', description='Progress:', layout=Layout(height='25px', width='50%'),…"
      ]
     },
     "metadata": {},
     "output_type": "display_data"
    }
   ],
   "source": [
    "week_counts_prev = week_counts.withColumn(\"prevCount\", functions.lag(functions.col(\"count\"), 1).over(hashtag_window))\n",
    "week_counts_diff = week_counts_prev.withColumn(\"diff\",functions.col(\"count\")-functions.col(\"prevCount\"))\n",
    "#week_counts_diff = week_counts_diff.na.drop()\n",
    "# If it is first appearance then make \n",
    "week_counts_diff2 = week_counts_diff.withColumn(\"diff\",functions.when(week_counts_diff.diff < 999999,week_counts_diff.diff ).otherwise(functions.col(\"count\")))\n",
    "#week_counts_diff2.show(10)"
   ]
  },
  {
   "cell_type": "code",
   "execution_count": 37,
   "metadata": {},
   "outputs": [
    {
     "data": {
      "application/vnd.jupyter.widget-view+json": {
       "model_id": "",
       "version_major": 2,
       "version_minor": 0
      },
      "text/plain": [
       "FloatProgress(value=0.0, bar_style='info', description='Progress:', layout=Layout(height='25px', width='50%'),…"
      ]
     },
     "metadata": {},
     "output_type": "display_data"
    }
   ],
   "source": [
    "weekly_window = Window.partitionBy(\"week\").orderBy(functions.desc('diff'))\n",
    "weekly_rank = functions.rank() \\\n",
    "                      .over(weekly_window) \\\n",
    "                      .alias('rank')\n"
   ]
  },
  {
   "cell_type": "code",
   "execution_count": 38,
   "metadata": {},
   "outputs": [
    {
     "data": {
      "application/vnd.jupyter.widget-view+json": {
       "model_id": "",
       "version_major": 2,
       "version_minor": 0
      },
      "text/plain": [
       "FloatProgress(value=0.0, bar_style='info', description='Progress:', layout=Layout(height='25px', width='50%'),…"
      ]
     },
     "metadata": {},
     "output_type": "display_data"
    },
    {
     "name": "stdout",
     "output_type": "stream",
     "text": [
      "+----+--------------------+------+---------+------+----+\n",
      "|week|             hashtag| count|prevCount|  diff|rank|\n",
      "+----+--------------------+------+---------+------+----+\n",
      "|  31|          mtvhottest| 14062|     null| 14062|   1|\n",
      "|  31|          teenchoice|  6424|     null|  6424|   2|\n",
      "|  31|dolceamorethegame...|  3122|     null|  3122|   3|\n",
      "|  31|  pushawardslizquens|  3086|     null|  3086|   4|\n",
      "|  31|   choicemalewebstar|  2235|     null|  2235|   5|\n",
      "|  28| aldub1stanniversary| 33653|      144| 33509|   1|\n",
      "|  28|           pokemongo| 34166|    17375| 16791|   2|\n",
      "|  28|          teenchoice| 45079|    30231| 14848|   3|\n",
      "|  28|              turkey| 15521|     3212| 12309|   4|\n",
      "|  28|         prayfornice| 12086|      229| 11857|   5|\n",
      "|  26|           betawards| 20728|      136| 20592|   1|\n",
      "|  26|       veranomtv2016|119813|   101336| 18477|   2|\n",
      "|  26|              brexit| 17044|     5647| 11397|   3|\n",
      "|  26|       gameofthrones| 12939|     1780| 11159|   4|\n",
      "|  26|        growingupshy| 10037|      884|  9153|   5|\n",
      "|  27|       veranomtv2016|101336|    45107| 56229|   1|\n",
      "|  27|       altonsterling| 51331|     2739| 48592|   2|\n",
      "|  27|              dallas| 23052|     2406| 20646|   3|\n",
      "|  27|     philandocastile| 21102|     1614| 19488|   4|\n",
      "|  27|            euro2016| 23292|     7266| 16026|   5|\n",
      "|  22|   dolceamorebistado|  6279|        2|  6277|   1|\n",
      "|  22|     aldubhomeatlast|  5822|     null|  5822|   2|\n",
      "|  22|  dolceamorethisisit|  5634|        4|  5630|   3|\n",
      "|  22|         memorialday|  5344|       41|  5303|   4|\n",
      "|  22|    aldubmissinghalf|  5233|        3|  5230|   5|\n",
      "|  20|     1dreamboy2today| 11864|       14| 11850|   1|\n",
      "|  20|  aldub10thmonthsary|  7072|        7|  7065|   2|\n",
      "|  20|   aldub44thweeksary|  6741|        8|  6733|   3|\n",
      "|  20|      aldubwemissyou|  6159|       41|  6118|   4|\n",
      "|  20|  aldubloversinitaly|  6079|       31|  6048|   5|\n",
      "|  19|          teenchoice|140480|     4086|136394|   1|\n",
      "|  19|          eurovision| 31250|      718| 30532|   2|\n",
      "|  19|choicemusicgroupmale| 23144|      232| 22912|   3|\n",
      "|  19|dolceamoreitsallc...| 16311|       45| 16266|   4|\n",
      "|  19|        choicefandom| 16423|      261| 16162|   5|\n",
      "|  17|aldubkiligsasweetday|  2096|       42|  2054|   1|\n",
      "|  17|         btsisonfire|  1986|      355|  1631|   2|\n",
      "|  17|                whcd|  1927|      488|  1439|   3|\n",
      "|  17|       piousbhandara|  1609|      599|  1010|   4|\n",
      "|  17|           russiangp|   915|      113|   802|   5|\n",
      "|  23|       mtvawardsstar| 73151|    25876| 47275|   1|\n",
      "|  23|        ripchristina| 23927|     1354| 22573|   2|\n",
      "|  23|     mtvsnapmexdanna|  9716|      107|  9609|   3|\n",
      "|  23|       dolceamoretlc|  9310|        3|  9307|   4|\n",
      "|  23|dolceamoredreamin...|  7502|        2|  7500|   5|\n",
      "|  25|              brexit| 49152|    17044| 32108|   1|\n",
      "|  25|               euref| 24711|     2316| 22395|   2|\n",
      "|  25|          teenchoice| 23819|     2012| 21807|   3|\n",
      "|  25|           nbafinals| 16476|      190| 16286|   4|\n",
      "|  25|       nobillnobreak| 14643|      123| 14520|   5|\n",
      "|  24|       mtvawardsstar| 25876|     7051| 18825|   1|\n",
      "|  24|             orlando| 18588|     1938| 16650|   2|\n",
      "|  24|  aldub11thmonthsary| 16452|       16| 16436|   3|\n",
      "|  24|              e32016|  9717|      378|  9339|   4|\n",
      "|  24|          loveislove| 10589|     1438|  9151|   5|\n",
      "|  29|            rncincle| 57367|     1523| 55844|   1|\n",
      "|  29|          mtvhottest|364430|   335489| 28941|   2|\n",
      "|  29|          teenchoice| 30231|     3856| 26375|   3|\n",
      "|  29|          6yearsof1d| 14360|      631| 13729|   4|\n",
      "|  29|kimexposedtaylorp...| 12338|       71| 12267|   5|\n",
      "|  21|               bbmas| 23201|      244| 22957|   1|\n",
      "|  21| dolceamorepanaginip|  9724|        1|  9723|   2|\n",
      "|  21|            uclfinal|  9686|      312|  9374|   3|\n",
      "|  21|dolceamoresatotoo...|  9303|     null|  9303|   4|\n",
      "|  21|       1dreamboy2now|  8897|        2|  8895|   5|\n",
      "|  30|          mtvhottest|335489|    14062|321427|   1|\n",
      "|  30|       veranomtv2016| 87572|     1530| 86042|   2|\n",
      "|  30|        demsinphilly| 70446|      123| 70323|   3|\n",
      "|  30|  pushawardslizquens| 57036|     3086| 53950|   4|\n",
      "|  30| pushawardskathniels| 27758|     1167| 26591|   5|\n",
      "|  18|             metgala| 24314|      416| 23898|   1|\n",
      "|  18|   dolceamorethesong| 12654|        4| 12650|   2|\n",
      "|  18| 화양연화onstageepilogue| 11444|      412| 11032|   3|\n",
      "|  18|      aldubbonvoyage|  7859|       28|  7831|   4|\n",
      "|  18|  maythe4thbewithyou|  7410|       99|  7311|   5|\n",
      "+----+--------------------+------+---------+------+----+"
     ]
    }
   ],
   "source": [
    "tmp = week_counts_diff2.select('*', weekly_rank)\n",
    "tmp.where(tmp.rank <= 5).show(100)"
   ]
  },
  {
   "cell_type": "markdown",
   "metadata": {},
   "source": [
    "**1)brexit:** In week 25 brexit is ranked as #1 \n",
    "\n",
    "**2)death of The Artist Formerly Known as Prince:** This event happened in April, so we can not observe that.\n",
    "\n",
    "**3)the Met gala:** In week 18 metgala is ranked as #1 \n",
    "\n",
    "**4)Euro 2016:** In week 27 euro2016 is ranked as #5\n",
    "\n",
    "**5)the terrorist attacks in Nice, France:** In week 28 prayfornice is ranked as #5"
   ]
  },
  {
   "cell_type": "markdown",
   "metadata": {},
   "source": [
    "## Plotting the timeseries of hashtag counts and using KMeans clustering\n",
    "\n",
    "### II.g: TODO (8 points / 50)\n",
    "\n",
    "The lists we obtained above are nice, but lets actually visualize some data. \n",
    "\n",
    "1. create a matrix that consists of hashtags as rows and daily counts as columns (hint: use `groupBy` and methods of `GroupedData`). \n",
    "2. use the `VectorAssembler` from the Spark ML library to create the feature vector which will consist of daily counts. \n",
    "\n",
    "If you extract any of these vectors you will obtain an array that represents the time series of daily counts - plot this time series for a few interesting hashtags you identified above. \n",
    "\n",
    "__Hint__: `isin` method of DataFrame columns might be useful. "
   ]
  },
  {
   "cell_type": "code",
   "execution_count": 4,
   "metadata": {},
   "outputs": [
    {
     "data": {
      "application/vnd.jupyter.widget-view+json": {
       "model_id": "",
       "version_major": 2,
       "version_minor": 0
      },
      "text/plain": [
       "FloatProgress(value=0.0, bar_style='info', description='Progress:', layout=Layout(height='25px', width='50%'),…"
      ]
     },
     "metadata": {},
     "output_type": "display_data"
    }
   ],
   "source": [
    "day_counts_1=day_counts['hashtag','day','count']"
   ]
  },
  {
   "cell_type": "code",
   "execution_count": 5,
   "metadata": {
    "scrolled": true
   },
   "outputs": [
    {
     "data": {
      "application/vnd.jupyter.widget-view+json": {
       "model_id": "",
       "version_major": 2,
       "version_minor": 0
      },
      "text/plain": [
       "FloatProgress(value=0.0, bar_style='info', description='Progress:', layout=Layout(height='25px', width='50%'),…"
      ]
     },
     "metadata": {},
     "output_type": "display_data"
    }
   ],
   "source": [
    "from pyspark.sql.functions import first\n",
    "\n",
    "df1 = day_counts_1.groupBy('hashtag').pivot('day').agg(first('count'))"
   ]
  },
  {
   "cell_type": "code",
   "execution_count": 6,
   "metadata": {},
   "outputs": [
    {
     "data": {
      "application/vnd.jupyter.widget-view+json": {
       "model_id": "",
       "version_major": 2,
       "version_minor": 0
      },
      "text/plain": [
       "FloatProgress(value=0.0, bar_style='info', description='Progress:', layout=Layout(height='25px', width='50%'),…"
      ]
     },
     "metadata": {},
     "output_type": "display_data"
    }
   ],
   "source": [
    "df1 = df1.na.fill(0)"
   ]
  },
  {
   "cell_type": "code",
   "execution_count": 7,
   "metadata": {},
   "outputs": [
    {
     "data": {
      "application/vnd.jupyter.widget-view+json": {
       "model_id": "",
       "version_major": 2,
       "version_minor": 0
      },
      "text/plain": [
       "FloatProgress(value=0.0, bar_style='info', description='Progress:', layout=Layout(height='25px', width='50%'),…"
      ]
     },
     "metadata": {},
     "output_type": "display_data"
    }
   ],
   "source": [
    "columns = df1.columns\n",
    "columns.remove(\"hashtag\")"
   ]
  },
  {
   "cell_type": "code",
   "execution_count": 8,
   "metadata": {},
   "outputs": [
    {
     "data": {
      "application/vnd.jupyter.widget-view+json": {
       "model_id": "",
       "version_major": 2,
       "version_minor": 0
      },
      "text/plain": [
       "FloatProgress(value=0.0, bar_style='info', description='Progress:', layout=Layout(height='25px', width='50%'),…"
      ]
     },
     "metadata": {},
     "output_type": "display_data"
    }
   ],
   "source": [
    "from pyspark.ml.feature import VectorAssembler\n",
    "\n",
    "\n",
    "df_wsum = df1.withColumn('total', sum(df1[col] for col in df1.columns if col != \"hashtag\"))\n",
    "df_wsum = df_wsum.filter(\"total > 100 and total < 200000\")\n",
    "columnsdays =  df_wsum.columns\n",
    "#for col in  columnsdays:\n",
    "#    if col not in [\"hashtag\",\"total\"]:\n",
    "#        df_wsum = df_wsum.withColumn(col+\"n\",functions.round(functions.col(col)/functions.col(\"total\"),5))\n",
    "        \n",
    "#df_wsum = df_wsum.drop(*columns)\n",
    "#df_wsum = df_wsum.drop(\"total\")\n",
    "\n",
    "ignore = ['hashtag',\"total\"]\n",
    "assembler = VectorAssembler(\n",
    "    inputCols=[x for x in df_wsum.columns if x not in ignore],outputCol='features')\n",
    "\n",
    "vector_matrix = assembler.transform(df_wsum)\n",
    "\n",
    "from pyspark.ml.feature import Normalizer\n",
    "normalizerModel = Normalizer(inputCol=\"features\", outputCol=\"features_norm\", p=1)\n",
    "normalized_vector_matrix = normalizerModel.transform(vector_matrix)"
   ]
  },
  {
   "cell_type": "code",
   "execution_count": 9,
   "metadata": {},
   "outputs": [
    {
     "data": {
      "application/vnd.jupyter.widget-view+json": {
       "model_id": "",
       "version_major": 2,
       "version_minor": 0
      },
      "text/plain": [
       "FloatProgress(value=0.0, bar_style='info', description='Progress:', layout=Layout(height='25px', width='50%'),…"
      ]
     },
     "metadata": {},
     "output_type": "display_data"
    }
   ],
   "source": [
    "vector_matrix=vector_matrix.select('hashtag','features')"
   ]
  },
  {
   "cell_type": "code",
   "execution_count": 10,
   "metadata": {},
   "outputs": [
    {
     "data": {
      "application/vnd.jupyter.widget-view+json": {
       "model_id": "",
       "version_major": 2,
       "version_minor": 0
      },
      "text/plain": [
       "FloatProgress(value=0.0, bar_style='info', description='Progress:', layout=Layout(height='25px', width='50%'),…"
      ]
     },
     "metadata": {},
     "output_type": "display_data"
    }
   ],
   "source": [
    "interesting_hashtags = vector_matrix[vector_matrix.hashtag.isin(\"brexit\", \"prayfornice\",\"turkeycoupattempt\",\"turkey\",\"euref\",\"nbafinals\")]"
   ]
  },
  {
   "cell_type": "code",
   "execution_count": 46,
   "metadata": {},
   "outputs": [
    {
     "data": {
      "application/vnd.jupyter.widget-view+json": {
       "model_id": "",
       "version_major": 2,
       "version_minor": 0
      },
      "text/plain": [
       "FloatProgress(value=0.0, bar_style='info', description='Progress:', layout=Layout(height='25px', width='50%'),…"
      ]
     },
     "metadata": {},
     "output_type": "display_data"
    },
    {
     "data": {
      "application/vnd.jupyter.widget-view+json": {
       "model_id": "",
       "version_major": 2,
       "version_minor": 0
      },
      "text/plain": [
       "FloatProgress(value=0.0, bar_style='info', description='Progress:', layout=Layout(height='25px', width='50%'),…"
      ]
     },
     "metadata": {},
     "output_type": "display_data"
    }
   ],
   "source": [
    "%%spark -o interesting_hashtags"
   ]
  },
  {
   "cell_type": "code",
   "execution_count": 47,
   "metadata": {},
   "outputs": [
    {
     "name": "stderr",
     "output_type": "stream",
     "text": [
      "/opt/conda/lib/python3.7/site-packages/sparkmagic/kernels/pysparkkernel/pysparkkernel.py:12: UserWarning:\n",
      "\n",
      "Pandas doesn't allow columns to be created via a new attribute name - see https://pandas.pydata.org/pandas-docs/stable/indexing.html#attribute-access\n",
      "\n"
     ]
    },
    {
     "data": {
      "image/png": "[encoded data removed]",
      "text/plain": [
       "<Figure size 1296x720 with 1 Axes>"
      ]
     },
     "metadata": {
      "needs_background": "light"
     },
     "output_type": "display_data"
    }
   ],
   "source": [
    "%%local\n",
    "%matplotlib inline\n",
    "import numpy as np\n",
    "import pandas as pd\n",
    "def to_array(ordered_dict):\n",
    "    if 'size' not in ordered_dict.keys():\n",
    "        return np.array(ordered_dict['values'])\n",
    "    new_array = np.zeros((ordered_dict['size']))\n",
    "    for i in range(len(ordered_dict['indices'])):\n",
    "        index=ordered_dict['indices'][i]\n",
    "        new_array[index]=ordered_dict['values'][i]\n",
    "    return new_array\n",
    "interesting_hashtags.numeric_features = interesting_hashtags.features.map(lambda x: to_array(x) )\n",
    "plt.figure(figsize=(18,10))\n",
    "plt.title('Time Series for Interesting Hashtags')\n",
    "for i, hashtag in enumerate(interesting_hashtags.hashtag.values):\n",
    "    plt.plot(interesting_hashtags.numeric_features[i])\n",
    "dates=pd.date_range(start='05/01/2016', end='07/31/2016').date\n",
    "plt.xticks(list(range(len(dates))),dates,rotation=90)\n",
    "plt.legend(interesting_hashtags.hashtag.values)\n",
    "plt.show()"
   ]
  },
  {
   "cell_type": "markdown",
   "metadata": {},
   "source": [
    "Here we chose brexit, prayfornice, turkeycoupattempt, turkey, euref, and nbafinals as our hashtags. "
   ]
  },
  {
   "cell_type": "markdown",
   "metadata": {},
   "source": [
    "### II.h: TODO - Use KMeans to cluster hashtags based on the daily count timeseries (12 points / 50)\n",
    "\n",
    "Use the DataFrame you created above to cluster the hashtag timeseries. Train the model and calculate the cluster membership for all hashtags. \n",
    "\n",
    "Show the cluster that includes \"brexit\" - does it make sense?\n",
    "\n",
    "Again, be creative and see if you can get the clustering to give you meaningful hashtag groupings. Make sure you document your process and code and make your final notebook easy to understand even if the result is not optimal or complete. \n",
    "\n",
    "__Hint:__ Additional data cleaning or filtering might be necessary to get useful results from the model. "
   ]
  },
  {
   "cell_type": "code",
   "execution_count": null,
   "metadata": {},
   "outputs": [],
   "source": []
  },
  {
   "cell_type": "markdown",
   "metadata": {},
   "source": [
    "As a first step we only removed hashtags that has total count less than 100 and greater than 200 000, but since K-means does not work well with large dimesions, we do not expect good results."
   ]
  },
  {
   "cell_type": "markdown",
   "metadata": {},
   "source": [
    "So, we train our model for different k values(2-16) to calculate cost and silhoutte score."
   ]
  },
  {
   "cell_type": "code",
   "execution_count": null,
   "metadata": {},
   "outputs": [
    {
     "data": {
      "application/vnd.jupyter.widget-view+json": {
       "model_id": "f8fef8f8fd744b83a3eee0b69819b5fd",
       "version_major": 2,
       "version_minor": 0
      },
      "text/plain": [
       "FloatProgress(value=0.0, bar_style='info', description='Progress:', layout=Layout(height='25px', width='50%'),…"
      ]
     },
     "metadata": {},
     "output_type": "display_data"
    }
   ],
   "source": [
    "from pyspark.ml.clustering import KMeans\n",
    "from pyspark.ml.evaluation import ClusteringEvaluator\n",
    "import random\n",
    "\n",
    "\n",
    "silhouettes = []\n",
    "cost =[]\n",
    "\n",
    "\n",
    "for k in range(2,16):\n",
    "    kmeans = KMeans().setK(k).setSeed(random.randint(1,999999))\n",
    "    model = kmeans.fit(vector_matrix)\n",
    "    predictions = model.transform(vector_matrix)\n",
    "    evaluator = ClusteringEvaluator()\n",
    "    silhouette = evaluator.evaluate(predictions)\n",
    "    print(\"Silhouette with squared euclidean distance = \" + str(silhouette))\n",
    "    cost += [model.computeCost(vector_matrix)]\n",
    "    silhouettes += [silhouette]\n"
   ]
  },
  {
   "cell_type": "code",
   "execution_count": 66,
   "metadata": {},
   "outputs": [
    {
     "data": {
      "application/vnd.jupyter.widget-view+json": {
       "model_id": "",
       "version_major": 2,
       "version_minor": 0
      },
      "text/plain": [
       "FloatProgress(value=0.0, bar_style='info', description='Progress:', layout=Layout(height='25px', width='50%'),…"
      ]
     },
     "metadata": {},
     "output_type": "display_data"
    }
   ],
   "source": [
    "\n",
    "silhouettesDf = spark.createDataFrame(zip(range(2,16),silhouettes))"
   ]
  },
  {
   "cell_type": "code",
   "execution_count": 68,
   "metadata": {},
   "outputs": [
    {
     "data": {
      "application/vnd.jupyter.widget-view+json": {
       "model_id": "",
       "version_major": 2,
       "version_minor": 0
      },
      "text/plain": [
       "FloatProgress(value=0.0, bar_style='info', description='Progress:', layout=Layout(height='25px', width='50%'),…"
      ]
     },
     "metadata": {},
     "output_type": "display_data"
    }
   ],
   "source": [
    "silhouettesDf = spark.createDataFrame(zip(range(2,16),silhouettes))\n",
    "costDf = spark.createDataFrame(zip(range(2,16),cost))"
   ]
  },
  {
   "cell_type": "code",
   "execution_count": 67,
   "metadata": {},
   "outputs": [
    {
     "data": {
      "application/vnd.jupyter.widget-view+json": {
       "model_id": "",
       "version_major": 2,
       "version_minor": 0
      },
      "text/plain": [
       "FloatProgress(value=0.0, bar_style='info', description='Progress:', layout=Layout(height='25px', width='50%'),…"
      ]
     },
     "metadata": {},
     "output_type": "display_data"
    },
    {
     "data": {
      "application/vnd.jupyter.widget-view+json": {
       "model_id": "",
       "version_major": 2,
       "version_minor": 0
      },
      "text/plain": [
       "FloatProgress(value=0.0, bar_style='info', description='Progress:', layout=Layout(height='25px', width='50%'),…"
      ]
     },
     "metadata": {},
     "output_type": "display_data"
    }
   ],
   "source": [
    "%%spark -o silhouettesDf"
   ]
  },
  {
   "cell_type": "code",
   "execution_count": 69,
   "metadata": {},
   "outputs": [
    {
     "data": {
      "application/vnd.jupyter.widget-view+json": {
       "model_id": "",
       "version_major": 2,
       "version_minor": 0
      },
      "text/plain": [
       "FloatProgress(value=0.0, bar_style='info', description='Progress:', layout=Layout(height='25px', width='50%'),…"
      ]
     },
     "metadata": {},
     "output_type": "display_data"
    },
    {
     "data": {
      "application/vnd.jupyter.widget-view+json": {
       "model_id": "",
       "version_major": 2,
       "version_minor": 0
      },
      "text/plain": [
       "FloatProgress(value=0.0, bar_style='info', description='Progress:', layout=Layout(height='25px', width='50%'),…"
      ]
     },
     "metadata": {},
     "output_type": "display_data"
    }
   ],
   "source": [
    "%%spark -o costDf"
   ]
  },
  {
   "cell_type": "code",
   "execution_count": 73,
   "metadata": {},
   "outputs": [
    {
     "data": {
      "text/plain": [
       "array([2.41446997e+10, 2.34617755e+10, 2.15881643e+10, 2.09883056e+10,\n",
       "       2.09703351e+10, 1.99456709e+10, 1.97499456e+10, 1.83441837e+10,\n",
       "       1.86040581e+10, 1.78352539e+10, 1.75740118e+10, 1.58346612e+10,\n",
       "       1.67132511e+10, 1.56847807e+10])"
      ]
     },
     "execution_count": 73,
     "metadata": {},
     "output_type": "execute_result"
    }
   ],
   "source": [
    "%%local\n",
    "costDf._2.values"
   ]
  },
  {
   "cell_type": "code",
   "execution_count": 74,
   "metadata": {},
   "outputs": [
    {
     "data": {
      "image/png": "[encoded data removed]",
      "text/plain": [
       "<Figure size 432x288 with 2 Axes>"
      ]
     },
     "metadata": {
      "needs_background": "light"
     },
     "output_type": "display_data"
    }
   ],
   "source": [
    "%%local\n",
    "%matplotlib inline\n",
    "cost = costDf._2.values\n",
    "silhouettes = silhouettesDf._2.values\n",
    "\n",
    "fig, ax1 = plt.subplots()\n",
    "\n",
    "color = 'tab:red'\n",
    "ax1.set_xlabel('k')\n",
    "ax1.set_ylabel('cost', color=color)\n",
    "ax1.plot(cost, color=color)\n",
    "ax1.tick_params(axis='y', labelcolor=color)\n",
    "\n",
    "ax2 = ax1.twinx() \n",
    "\n",
    "color = 'tab:blue'\n",
    "ax2.set_ylabel('silhouette', color=color)  \n",
    "ax2.plot(silhouettes, color=color)\n",
    "ax2.tick_params(axis='y', labelcolor=color)\n",
    "\n",
    "fig.tight_layout()  \n",
    "plt.show()"
   ]
  },
  {
   "cell_type": "markdown",
   "metadata": {},
   "source": [
    "From the graph you can observe that 10 is a good cluster size since it has a high silhouette score and low cost."
   ]
  },
  {
   "cell_type": "code",
   "execution_count": 75,
   "metadata": {},
   "outputs": [
    {
     "data": {
      "application/vnd.jupyter.widget-view+json": {
       "model_id": "",
       "version_major": 2,
       "version_minor": 0
      },
      "text/plain": [
       "FloatProgress(value=0.0, bar_style='info', description='Progress:', layout=Layout(height='25px', width='50%'),…"
      ]
     },
     "metadata": {},
     "output_type": "display_data"
    }
   ],
   "source": [
    "from pyspark.ml.clustering import KMeans\n",
    "import random\n",
    "\n",
    "\n",
    "kmeans = KMeans(featuresCol='features').setK(10).setSeed(random.randint(1,1000))\n",
    "model = kmeans.fit(normalized_vector_matrix)\n",
    "predictions = model.transform(normalized_vector_matrix)"
   ]
  },
  {
   "cell_type": "code",
   "execution_count": 76,
   "metadata": {},
   "outputs": [
    {
     "data": {
      "application/vnd.jupyter.widget-view+json": {
       "model_id": "",
       "version_major": 2,
       "version_minor": 0
      },
      "text/plain": [
       "FloatProgress(value=0.0, bar_style='info', description='Progress:', layout=Layout(height='25px', width='50%'),…"
      ]
     },
     "metadata": {},
     "output_type": "display_data"
    },
    {
     "name": "stdout",
     "output_type": "stream",
     "text": [
      "+----------+\n",
      "|prediction|\n",
      "+----------+\n",
      "|         6|\n",
      "+----------+"
     ]
    }
   ],
   "source": [
    "predictions.select(\"hashtag\",\"prediction\").filter(\"hashtag == 'brexit'\").select(\"prediction\").show()"
   ]
  },
  {
   "cell_type": "markdown",
   "metadata": {},
   "source": [
    "Now we can see that brexit assigned to the cluster 6,lets see the size of cluster 6"
   ]
  },
  {
   "cell_type": "code",
   "execution_count": 77,
   "metadata": {},
   "outputs": [
    {
     "data": {
      "application/vnd.jupyter.widget-view+json": {
       "model_id": "",
       "version_major": 2,
       "version_minor": 0
      },
      "text/plain": [
       "FloatProgress(value=0.0, bar_style='info', description='Progress:', layout=Layout(height='25px', width='50%'),…"
      ]
     },
     "metadata": {},
     "output_type": "display_data"
    },
    {
     "name": "stdout",
     "output_type": "stream",
     "text": [
      "60"
     ]
    }
   ],
   "source": [
    "predictions.select(\"hashtag\",\"prediction\").filter(\"prediction == '6'\").select(\"hashtag\").count()"
   ]
  },
  {
   "cell_type": "markdown",
   "metadata": {},
   "source": [
    "Ok, 60 is way too much for a cluster but in any case let's see the hashtags in the cluster 6"
   ]
  },
  {
   "cell_type": "code",
   "execution_count": 79,
   "metadata": {},
   "outputs": [
    {
     "data": {
      "application/vnd.jupyter.widget-view+json": {
       "model_id": "",
       "version_major": 2,
       "version_minor": 0
      },
      "text/plain": [
       "FloatProgress(value=0.0, bar_style='info', description='Progress:', layout=Layout(height='25px', width='50%'),…"
      ]
     },
     "metadata": {},
     "output_type": "display_data"
    },
    {
     "name": "stdout",
     "output_type": "stream",
     "text": [
      "+-------------------+\n",
      "|            hashtag|\n",
      "+-------------------+\n",
      "|                art|\n",
      "|            jewelry|\n",
      "|             travel|\n",
      "|           etsymntt|\n",
      "|aldub1stanniversary|\n",
      "|           bigolive|\n",
      "|            android|\n",
      "|              euref|\n",
      "|             hiring|\n",
      "|               mufc|\n",
      "|        gameinsight|\n",
      "|               mgwv|\n",
      "|              trump|\n",
      "|         soundcloud|\n",
      "|                 rt|\n",
      "|               news|\n",
      "|           giveaway|\n",
      "|               love|\n",
      "|               porn|\n",
      "|              porno|\n",
      "|     teamfollowback|\n",
      "|                 np|\n",
      "|                job|\n",
      "|               etsy|\n",
      "|        photography|\n",
      "|          marketing|\n",
      "|               free|\n",
      "|            retweet|\n",
      "|               nsfw|\n",
      "|      gameofthrones|\n",
      "|               maga|\n",
      "|       mplusrewards|\n",
      "|              music|\n",
      "|                xxx|\n",
      "|          periscope|\n",
      "|          trump2016|\n",
      "|               tcot|\n",
      "|             trecru|\n",
      "|               got7|\n",
      "|        competition|\n",
      "|                win|\n",
      "|        followtrick|\n",
      "|             follow|\n",
      "|          pokemongo|\n",
      "|              deals|\n",
      "|               jobs|\n",
      "|              quote|\n",
      "|              방탄소년단|\n",
      "|          kcamexico|\n",
      "|             brexit|\n",
      "|         nowplaying|\n",
      "|           えどがわイケメン|\n",
      "|                bts|\n",
      "|           business|\n",
      "|       androidgames|\n",
      "|        socialmedia|\n",
      "|                sex|\n",
      "|        mplusplaces|\n",
      "|               tech|\n",
      "|            fashion|\n",
      "+-------------------+"
     ]
    }
   ],
   "source": [
    "predictions.select(\"hashtag\",\"prediction\").filter(\"prediction == '6'\").select(\"hashtag\").show(60)"
   ]
  },
  {
   "cell_type": "markdown",
   "metadata": {},
   "source": [
    "Now we can try to decrease number of features(to 30) by using PCA."
   ]
  },
  {
   "cell_type": "code",
   "execution_count": 11,
   "metadata": {},
   "outputs": [
    {
     "data": {
      "application/vnd.jupyter.widget-view+json": {
       "model_id": "",
       "version_major": 2,
       "version_minor": 0
      },
      "text/plain": [
       "FloatProgress(value=0.0, bar_style='info', description='Progress:', layout=Layout(height='25px', width='50%'),…"
      ]
     },
     "metadata": {},
     "output_type": "display_data"
    }
   ],
   "source": [
    "from pyspark.ml.feature import PCA\n",
    "pca = PCA(k=30, inputCol=\"features\", outputCol=\"pcaFeatures\")\n",
    "model = pca.fit(normalized_vector_matrix)\n"
   ]
  },
  {
   "cell_type": "code",
   "execution_count": 11,
   "metadata": {},
   "outputs": [
    {
     "data": {
      "application/vnd.jupyter.widget-view+json": {
       "model_id": "",
       "version_major": 2,
       "version_minor": 0
      },
      "text/plain": [
       "FloatProgress(value=0.0, bar_style='info', description='Progress:', layout=Layout(height='25px', width='50%'),…"
      ]
     },
     "metadata": {},
     "output_type": "display_data"
    },
    {
     "name": "stdout",
     "output_type": "stream",
     "text": [
      "('Principal components', DenseVector([0.2354, 0.0731, 0.0589, 0.0488, 0.0466, 0.0359, 0.0328, 0.0267, 0.0238, 0.0215, 0.0198, 0.0183, 0.0173, 0.0162, 0.0153, 0.0146, 0.0134, 0.0113, 0.0112, 0.0107, 0.0103, 0.01, 0.0093, 0.009, 0.0084, 0.0083, 0.0078, 0.0076, 0.0071, 0.0069]))\n",
      "\n",
      "('Total explained variance:', 0.8359673462441878)"
     ]
    }
   ],
   "source": [
    "print(\"Principal components\",model.explainedVariance)\n",
    "print(\"\")\n",
    "print(\"Total explained variance:\",sum(model.explainedVariance))\n"
   ]
  },
  {
   "cell_type": "markdown",
   "metadata": {},
   "source": [
    "By using 30 features we can still preserve 83% of the variance, so let's try KMeans with these new principal components."
   ]
  },
  {
   "cell_type": "code",
   "execution_count": 12,
   "metadata": {},
   "outputs": [
    {
     "data": {
      "application/vnd.jupyter.widget-view+json": {
       "model_id": "",
       "version_major": 2,
       "version_minor": 0
      },
      "text/plain": [
       "FloatProgress(value=0.0, bar_style='info', description='Progress:', layout=Layout(height='25px', width='50%'),…"
      ]
     },
     "metadata": {},
     "output_type": "display_data"
    }
   ],
   "source": [
    "pca_data = model.transform(vector_matrix)\n"
   ]
  },
  {
   "cell_type": "code",
   "execution_count": 13,
   "metadata": {},
   "outputs": [
    {
     "data": {
      "application/vnd.jupyter.widget-view+json": {
       "model_id": "",
       "version_major": 2,
       "version_minor": 0
      },
      "text/plain": [
       "FloatProgress(value=0.0, bar_style='info', description='Progress:', layout=Layout(height='25px', width='50%'),…"
      ]
     },
     "metadata": {},
     "output_type": "display_data"
    }
   ],
   "source": [
    "from pyspark.ml.clustering import KMeans\n",
    "from pyspark.ml.evaluation import ClusteringEvaluator\n",
    "import random\n",
    "\n",
    "\n",
    "kmeans = KMeans(featuresCol='pcaFeatures').setK(10).setSeed(random.randint(1,1000))\n",
    "model = kmeans.fit(pca_data)\n",
    "predictions = model.transform(pca_data)"
   ]
  },
  {
   "cell_type": "code",
   "execution_count": 15,
   "metadata": {},
   "outputs": [
    {
     "name": "stderr",
     "output_type": "stream",
     "text": [
      "An error was encountered:\n",
      "Invalid status code '404' from http://iccluster044.iccluster.epfl.ch:8998/sessions/3638 with error payload: \"Session '3638' not found.\"\n"
     ]
    }
   ],
   "source": [
    "predictions.select(\"hashtag\",\"prediction\").filter(\"hashtag == 'brexit'\").select(\"prediction\").show()"
   ]
  },
  {
   "cell_type": "code",
   "execution_count": null,
   "metadata": {},
   "outputs": [],
   "source": [
    "predictions.select(\"hashtag\",\"prediction\").filter(\"prediction == '3'\").select(\"hashtag\").count()"
   ]
  },
  {
   "cell_type": "code",
   "execution_count": null,
   "metadata": {},
   "outputs": [],
   "source": [
    "predictions.select(\"hashtag\",\"prediction\").filter(\"prediction == '12'\").select(\"hashtag\").show()"
   ]
  },
  {
   "cell_type": "markdown",
   "metadata": {},
   "source": [
    "\n",
    "Since we could not achieve nice clusters by using daily counts, we can try to reduce feature size(curse of dimensionality) by using weekly counts, so that we will have only 13 features, and we can reduce the noise in the data."
   ]
  },
  {
   "cell_type": "code",
   "execution_count": 19,
   "metadata": {},
   "outputs": [
    {
     "data": {
      "application/vnd.jupyter.widget-view+json": {
       "model_id": "",
       "version_major": 2,
       "version_minor": 0
      },
      "text/plain": [
       "FloatProgress(value=0.0, bar_style='info', description='Progress:', layout=Layout(height='25px', width='50%'),…"
      ]
     },
     "metadata": {},
     "output_type": "display_data"
    }
   ],
   "source": [
    "from pyspark.ml.feature import VectorAssembler\n",
    "from pyspark.ml.clustering import KMeans\n",
    "from pyspark.ml.evaluation import ClusteringEvaluator\n",
    "import random\n",
    "\n",
    "hashtag_total_count = english_df.groupBy('hashtag').count()\n",
    "#valid_ht = hashtag_total_count.filter('count > 100').select('hashtag').distinct().collect()\n",
    "valid_ht = [row.hashtag for row in hashtag_total_count.filter('count > 100').select('hashtag').distinct().collect()]\n",
    "hashtag_total_count.filter('count > 100').select('hashtag')\n",
    "filteredDf = day_counts.filter(day_counts.hashtag.isin(valid_ht))\n",
    "weeklycount = filteredDf.groupBy(\"hashtag\",\"week\").agg(functions.sum(\"count\").alias(\"wcount\"))\n",
    "pivotDf = weeklycount.select('hashtag', 'week',\"wcount\").groupBy('hashtag').pivot('week').agg(functions.first(\"wcount\"))\n",
    "pivotDf = pivotDf.na.fill(0)\n",
    "ignore = ['hashtag',\"total\"]\n",
    "assembler = VectorAssembler(\n",
    "    inputCols=[x for x in pivotDf.columns if x not in ignore],outputCol='features')\n",
    "\n",
    "vector_matrix = assembler.transform(pivotDf)\n",
    "\n"
   ]
  },
  {
   "cell_type": "code",
   "execution_count": 23,
   "metadata": {},
   "outputs": [
    {
     "data": {
      "application/vnd.jupyter.widget-view+json": {
       "model_id": "",
       "version_major": 2,
       "version_minor": 0
      },
      "text/plain": [
       "FloatProgress(value=0.0, bar_style='info', description='Progress:', layout=Layout(height='25px', width='50%'),…"
      ]
     },
     "metadata": {},
     "output_type": "display_data"
    },
    {
     "name": "stdout",
     "output_type": "stream",
     "text": [
      "432462"
     ]
    }
   ],
   "source": [
    "seedRand"
   ]
  },
  {
   "cell_type": "code",
   "execution_count": 24,
   "metadata": {},
   "outputs": [
    {
     "data": {
      "application/vnd.jupyter.widget-view+json": {
       "model_id": "",
       "version_major": 2,
       "version_minor": 0
      },
      "text/plain": [
       "FloatProgress(value=0.0, bar_style='info', description='Progress:', layout=Layout(height='25px', width='50%'),…"
      ]
     },
     "metadata": {},
     "output_type": "display_data"
    },
    {
     "name": "stdout",
     "output_type": "stream",
     "text": [
      "Silhouette with squared euclidean distance = 0.97675962549\n",
      "Silhouette with squared euclidean distance = 0.979176141477\n",
      "Silhouette with squared euclidean distance = 0.949281670001\n",
      "Silhouette with squared euclidean distance = 0.943010908051\n",
      "Silhouette with squared euclidean distance = 0.953473461936\n",
      "Silhouette with squared euclidean distance = 0.952076176338\n",
      "Silhouette with squared euclidean distance = 0.841114020703\n",
      "Silhouette with squared euclidean distance = 0.952420689792"
     ]
    }
   ],
   "source": [
    "silhouettes = []\n",
    "cost =[]\n",
    "for k in range(8,24,2):\n",
    "    kmeans = KMeans().setK(k).setSeed(seedRand)\n",
    "    model = kmeans.fit(vector_matrix)\n",
    "    predictions = model.transform(vector_matrix)\n",
    "    evaluator = ClusteringEvaluator()\n",
    "    silhouette = evaluator.evaluate(predictions)\n",
    "    print(\"Silhouette with squared euclidean distance = \" + str(silhouette))\n",
    "    cost += [model.computeCost(vector_matrix)]\n",
    "    silhouettes += [silhouette]"
   ]
  },
  {
   "cell_type": "code",
   "execution_count": 36,
   "metadata": {},
   "outputs": [
    {
     "data": {
      "application/vnd.jupyter.widget-view+json": {
       "model_id": "",
       "version_major": 2,
       "version_minor": 0
      },
      "text/plain": [
       "FloatProgress(value=0.0, bar_style='info', description='Progress:', layout=Layout(height='25px', width='50%'),…"
      ]
     },
     "metadata": {},
     "output_type": "display_data"
    }
   ],
   "source": [
    "silhouettesDf = spark.createDataFrame(zip(range(2,16),silhouettes))\n",
    "costDf = spark.createDataFrame(zip(range(2,16),cost))\n"
   ]
  },
  {
   "cell_type": "code",
   "execution_count": 28,
   "metadata": {},
   "outputs": [
    {
     "data": {
      "application/vnd.jupyter.widget-view+json": {
       "model_id": "",
       "version_major": 2,
       "version_minor": 0
      },
      "text/plain": [
       "FloatProgress(value=0.0, bar_style='info', description='Progress:', layout=Layout(height='25px', width='50%'),…"
      ]
     },
     "metadata": {},
     "output_type": "display_data"
    },
    {
     "data": {
      "application/vnd.jupyter.widget-view+json": {
       "model_id": "",
       "version_major": 2,
       "version_minor": 0
      },
      "text/plain": [
       "FloatProgress(value=0.0, bar_style='info', description='Progress:', layout=Layout(height='25px', width='50%'),…"
      ]
     },
     "metadata": {},
     "output_type": "display_data"
    }
   ],
   "source": [
    "%%spark -o silhouettesDf\n"
   ]
  },
  {
   "cell_type": "code",
   "execution_count": 29,
   "metadata": {},
   "outputs": [
    {
     "data": {
      "application/vnd.jupyter.widget-view+json": {
       "model_id": "",
       "version_major": 2,
       "version_minor": 0
      },
      "text/plain": [
       "FloatProgress(value=0.0, bar_style='info', description='Progress:', layout=Layout(height='25px', width='50%'),…"
      ]
     },
     "metadata": {},
     "output_type": "display_data"
    },
    {
     "data": {
      "application/vnd.jupyter.widget-view+json": {
       "model_id": "",
       "version_major": 2,
       "version_minor": 0
      },
      "text/plain": [
       "FloatProgress(value=0.0, bar_style='info', description='Progress:', layout=Layout(height='25px', width='50%'),…"
      ]
     },
     "metadata": {},
     "output_type": "display_data"
    }
   ],
   "source": [
    "%%spark -o costDf"
   ]
  },
  {
   "cell_type": "markdown",
   "metadata": {},
   "source": [
    "Now let's do the elbow method and silhoette score analysis for the new data"
   ]
  },
  {
   "cell_type": "code",
   "execution_count": 33,
   "metadata": {},
   "outputs": [
    {
     "data": {
      "image/png": "[encoded data removed]",
      "text/plain": [
       "<Figure size 432x288 with 2 Axes>"
      ]
     },
     "metadata": {
      "needs_background": "light"
     },
     "output_type": "display_data"
    }
   ],
   "source": [
    "%%local\n",
    "%matplotlib inline\n",
    "cost = costDf._2.values\n",
    "silhouettes = silhouettesDf._2.values\n",
    "\n",
    "fig, ax1 = plt.subplots()\n",
    "\n",
    "color = 'tab:red'\n",
    "ax1.set_xlabel('k')\n",
    "ax1.set_ylabel('cost', color=color)\n",
    "ax1.plot(range(8,24,2),cost, color=color)\n",
    "ax1.tick_params(axis='y', labelcolor=color)\n",
    "\n",
    "ax2 = ax1.twinx() \n",
    "\n",
    "color = 'tab:blue'\n",
    "ax2.set_ylabel('silhouette', color=color)  \n",
    "ax2.plot(range(8,24,2),silhouettes, color=color)\n",
    "ax2.tick_params(axis='y', labelcolor=color)\n",
    "\n",
    "fig.tight_layout()  \n",
    "plt.title('Number of Clusters vs Silhouette/Cost')\n",
    "\n",
    "\n",
    "plt.show()"
   ]
  },
  {
   "cell_type": "markdown",
   "metadata": {},
   "source": [
    "From the above table we can say number of clusters as 15 is sufficient(form elbow method/ with good silhouette score)."
   ]
  },
  {
   "cell_type": "code",
   "execution_count": 34,
   "metadata": {},
   "outputs": [
    {
     "data": {
      "application/vnd.jupyter.widget-view+json": {
       "model_id": "",
       "version_major": 2,
       "version_minor": 0
      },
      "text/plain": [
       "FloatProgress(value=0.0, bar_style='info', description='Progress:', layout=Layout(height='25px', width='50%'),…"
      ]
     },
     "metadata": {},
     "output_type": "display_data"
    }
   ],
   "source": [
    "k = 15\n",
    "#seedRand = random.randint(1,999999)\n",
    "seedRand = 432462\n",
    "kmeans = KMeans().setK(k).setSeed(seedRand)\n",
    "model = kmeans.fit(vector_matrix)"
   ]
  },
  {
   "cell_type": "code",
   "execution_count": 20,
   "metadata": {},
   "outputs": [
    {
     "data": {
      "application/vnd.jupyter.widget-view+json": {
       "model_id": "",
       "version_major": 2,
       "version_minor": 0
      },
      "text/plain": [
       "FloatProgress(value=0.0, bar_style='info', description='Progress:', layout=Layout(height='25px', width='50%'),…"
      ]
     },
     "metadata": {},
     "output_type": "display_data"
    },
    {
     "name": "stdout",
     "output_type": "stream",
     "text": [
      "+----------+\n",
      "|prediction|\n",
      "+----------+\n",
      "|         6|\n",
      "+----------+\n",
      "\n",
      "+----------+-----+\n",
      "|prediction|count|\n",
      "+----------+-----+\n",
      "|         0|34377|\n",
      "|         1|    1|\n",
      "|         2|  747|\n",
      "|         3|    1|\n",
      "|         4|   20|\n",
      "|         5|   14|\n",
      "|         6|    2|\n",
      "|         7|    2|\n",
      "|         8|    3|\n",
      "|         9|   53|\n",
      "|        10|    1|\n",
      "|        11|    1|\n",
      "|        12|   61|\n",
      "|        13|    2|\n",
      "|        14|    1|\n",
      "+----------+-----+"
     ]
    }
   ],
   "source": [
    "\n",
    "predictions = model.transform(vector_matrix)\n",
    "predictions.select(\"hashtag\",\"prediction\").filter(\"hashtag == 'brexit'\").select(\"prediction\").show()\n",
    "predictions.groupBy(\"prediction\").count().sort(\"prediction\").show(k)\n"
   ]
  },
  {
   "cell_type": "markdown",
   "metadata": {},
   "source": [
    "Above you can see the distribution of sizes of clusters, and Brexit is assigned cluster \"6\" which has a size of 2. Now let's check what is the other hashtag."
   ]
  },
  {
   "cell_type": "code",
   "execution_count": 22,
   "metadata": {},
   "outputs": [
    {
     "data": {
      "application/vnd.jupyter.widget-view+json": {
       "model_id": "",
       "version_major": 2,
       "version_minor": 0
      },
      "text/plain": [
       "FloatProgress(value=0.0, bar_style='info', description='Progress:', layout=Layout(height='25px', width='50%'),…"
      ]
     },
     "metadata": {},
     "output_type": "display_data"
    },
    {
     "name": "stdout",
     "output_type": "stream",
     "text": [
      "+-------+\n",
      "|hashtag|\n",
      "+-------+\n",
      "|  euref|\n",
      "| brexit|\n",
      "+-------+"
     ]
    }
   ],
   "source": [
    "predictions.select(\"hashtag\",\"prediction\").filter(\"prediction == '6'\").select(\"hashtag\").show()"
   ]
  },
  {
   "cell_type": "markdown",
   "metadata": {},
   "source": [
    "Ok now we have euref and brexit, which are highly related. You can also check our graph in 2.g and it can be observed that these twho hastags made their peak almost simultaneously. "
   ]
  },
  {
   "cell_type": "code",
   "execution_count": null,
   "metadata": {},
   "outputs": [],
   "source": []
  }
 ],
 "metadata": {
  "kernelspec": {
   "display_name": "PySpark",
   "language": "",
   "name": "pysparkkernel"
  },
  "language_info": {
   "codemirror_mode": {
    "name": "python",
    "version": 3
   },
   "mimetype": "text/x-python",
   "name": "pyspark",
   "pygments_lexer": "python3"
  }
 },
 "nbformat": 4,
 "nbformat_minor": 4
}
